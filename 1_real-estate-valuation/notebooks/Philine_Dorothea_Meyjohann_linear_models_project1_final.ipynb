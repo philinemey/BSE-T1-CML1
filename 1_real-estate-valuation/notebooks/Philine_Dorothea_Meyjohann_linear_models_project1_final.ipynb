{
  "nbformat": 4,
  "nbformat_minor": 0,
  "metadata": {
    "colab": {
      "name": "Philine Dorothea Meyjohann - linear_models_project1_v2.ipynb",
      "provenance": [],
      "collapsed_sections": []
    },
    "kernelspec": {
      "display_name": "Python 3",
      "language": "python",
      "name": "python3"
    },
    "language_info": {
      "codemirror_mode": {
        "name": "ipython",
        "version": 3
      },
      "file_extension": ".py",
      "mimetype": "text/x-python",
      "name": "python",
      "nbconvert_exporter": "python",
      "pygments_lexer": "ipython3",
      "version": "3.8.3"
    },
    "toc": {
      "base_numbering": 1,
      "nav_menu": {},
      "number_sections": true,
      "sideBar": true,
      "skip_h1_title": false,
      "title_cell": "Table of Contents",
      "title_sidebar": "Contents",
      "toc_cell": false,
      "toc_position": {},
      "toc_section_display": true,
      "toc_window_display": false
    }
  },
  "cells": [
    {
      "cell_type": "markdown",
      "metadata": {
        "id": "Fn33H3Zhf-cp"
      },
      "source": [
        "<img src = \"https://github.com/barcelonagse-datascience/academic_files/raw/master/bgsedsc_0.jpg\">\n",
        "$\\newcommand{\\bb}{\\boldsymbol{\\beta}}$\n",
        "$\\DeclareMathOperator{\\Gau}{\\mathcal{N}}$\n",
        "$\\newcommand{\\bphi}{\\boldsymbol \\phi}$\n",
        "$\\newcommand{\\bx}{\\boldsymbol{x}}$\n",
        "$\\newcommand{\\bu}{\\boldsymbol{u}}$\n",
        "$\\newcommand{\\by}{\\boldsymbol{y}}$\n",
        "$\\newcommand{\\whbb}{\\widehat{\\bb}}$\n",
        "$\\newcommand{\\hf}{\\hat{f}}$\n",
        "$\\newcommand{\\tf}{\\tilde{f}}$\n",
        "$\\newcommand{\\ybar}{\\overline{y}}$\n",
        "$\\newcommand{\\E}{\\mathbb{E}}$\n",
        "$\\newcommand{\\Var}{Var}$\n",
        "$\\newcommand{\\Cov}{Cov}$\n",
        "$\\newcommand{\\Cor}{Cor}$"
      ]
    },
    {
      "cell_type": "code",
      "metadata": {
        "id": "xtLKLl4xwl_s",
        "colab": {
          "base_uri": "https://localhost:8080/",
          "height": 35
        },
        "outputId": "85f09ba6-0f10-46c3-f424-78743b356283"
      },
      "source": [
        "'''\n",
        "from google.colab import drive\n",
        "drive.mount('/content/drive')\n",
        "'''"
      ],
      "execution_count": 214,
      "outputs": [
        {
          "output_type": "execute_result",
          "data": {
            "application/vnd.google.colaboratory.intrinsic+json": {
              "type": "string"
            },
            "text/plain": [
              "\"\\nfrom google.colab import drive\\ndrive.mount('/content/drive')\\n\""
            ]
          },
          "metadata": {},
          "execution_count": 214
        }
      ]
    },
    {
      "cell_type": "markdown",
      "metadata": {
        "id": "pnxX-0hAf-cq"
      },
      "source": [
        "# Project: Linear models"
      ]
    },
    {
      "cell_type": "markdown",
      "metadata": {
        "id": "Sjc3OcApf-cq"
      },
      "source": [
        "## Programming project: real estate assesment evaluation\n",
        "\n",
        "Home valuation is key in real estate industry, and also the basis for mortgages in credit sector. Here we have to predict the estimated value of a property.\n",
        "\n",
        "\n",
        "Data (*Regression_Supervised_Train.csv*) consist of a list of features plus the resulting <i>parcelvalue</i>, described in *Case_data_dictionary.xlsx* file. Each row corresponds to a particular home valuation, and <i>transactiondate</i> is the date when the property was effectively sold. Properties are defined by <i>lotid</i>, but be aware that one property can be sold more than once (it's not the usual case). Also notice that some features are sometime empty, your model has to deal with it.\n",
        "\n",
        "Note that you shouldn't use <i>totaltaxvalue</i>, <i>buildvalue</i> or <i>landvalue</i>, because they are closely correlated with the final value to predict. There is a further member of the training set predictors which is not available in the test set and therefore needs removing. \n",
        "\n",
        "+ Using this data build a predictive model for <i>parcelvalue</i> \n",
        "+ In your analysis for faster algorithms use the AIC criterion for choosing any hyperparameters \n",
        "+ Try a first quick implementation, then try to optimize hyperparameters\n",
        "+ For this analysis there is an extra test dataset. Once your code is submitted we will run a competition to see how you score in the test data. Hence have prepared also the necessary script to compute the MSE estimate on the test data once released.\n",
        "+ Bonus: Try an approach to fill NA without removing features or observations, and check improvements.\n",
        "\n",
        "You can follow those **steps** in your first implementation:\n",
        "1. *Explore* and understand the dataset. Report missing data\n",
        "2. As a simplified initial version, get rid of *missing data* by:\n",
        "    + Remove columns '<i>totaltaxvalue</i>', '<i>buildvalue</i>' or '<i>landvalue</i>' from the training and testing set and also '<i>mypointer</i>' from the training set\n",
        "    + Removing features that have more than 40% of missing data in the training set (remember anything you remove from the training set must be removed form the testing set!) (HINT: data.dropna(axis=1, thresh=round(my_percentage_valid*len(data.index)) - https://pandas.pydata.org/docs/reference/api/pandas.DataFrame.dropna.html)\n",
        "    + After that, removing observations that have missing data\n",
        "3. Create *dummy variables* for relevant categorical features (EXTENDED PROJECT ONLY)\n",
        "4. *Build* your model and test it on the same input data\n",
        "5. Assess expected accuracy using *cross-validation*\n",
        "6. Report which variable impacts more on results \n",
        "7. Prepare the code to *run* on a new input file and be able to report accuracy, following same preparation steps (missing data, dummies, etc)\n",
        "\n",
        "You may want to iterate to refine some of these steps once you get performance results in step 5.\n"
      ]
    },
    {
      "cell_type": "markdown",
      "metadata": {
        "id": "PX9u82ZXwfnm"
      },
      "source": [
        "## Main criteria for grading\n",
        "From more to less important (the weighting of these components will vary between the in-class and extended projects):\n",
        "+ Code runs\n",
        "+ Parcel value prediction made\n",
        "+ Accuracy of predictions for test properties is calculated (kaggle)\n",
        "+ Linear Models(s) and LASSO have been used\n",
        "+ Accuracy itself\n",
        "+ Data preparation\n",
        "+ Hyperparameter optimization\n",
        "+ Code is combined with neat and understandable commentary, with some titles and comments (demonstrate you have understood the methods and the outputs produced)\n",
        "+ Improved methods from what we discussed in class (properly explained/justified)"
      ]
    },
    {
      "cell_type": "markdown",
      "metadata": {
        "id": "jo9-rTQPx4DF"
      },
      "source": [
        "## Preparation\n",
        "Load the relevant packages"
      ]
    },
    {
      "cell_type": "code",
      "metadata": {
        "id": "_HZhSJdgwfno"
      },
      "source": [
        "%matplotlib inline\n",
        "import matplotlib.pylab as plt\n",
        "\n",
        "import pandas as pd\n",
        "import seaborn as sns\n",
        "import numpy as np\n",
        "import sklearn"
      ],
      "execution_count": 215,
      "outputs": []
    },
    {
      "cell_type": "markdown",
      "metadata": {
        "id": "iBKvn0OVwfnq"
      },
      "source": [
        "**Step 1: read and explore data, report missing data**"
      ]
    },
    {
      "cell_type": "code",
      "metadata": {
        "id": "5oBYKM2lf-cq",
        "colab": {
          "base_uri": "https://localhost:8080/",
          "height": 224
        },
        "outputId": "e3ec23ad-00b9-42dc-f02d-bfb665ed9eb5"
      },
      "source": [
        "# Read data\n",
        "train_raw = pd.read_csv(\"Regression_Supervised_Train.csv\")\n",
        "\n",
        "# Explore data\n",
        "#train_raw.info()\n",
        "train_raw.head()\n",
        "\n",
        "#train_raw.duplicated().sum() ## no duplicates found"
      ],
      "execution_count": 216,
      "outputs": [
        {
          "output_type": "execute_result",
          "data": {
            "text/html": [
              "<div>\n",
              "<style scoped>\n",
              "    .dataframe tbody tr th:only-of-type {\n",
              "        vertical-align: middle;\n",
              "    }\n",
              "\n",
              "    .dataframe tbody tr th {\n",
              "        vertical-align: top;\n",
              "    }\n",
              "\n",
              "    .dataframe thead th {\n",
              "        text-align: right;\n",
              "    }\n",
              "</style>\n",
              "<table border=\"1\" class=\"dataframe\">\n",
              "  <thead>\n",
              "    <tr style=\"text-align: right;\">\n",
              "      <th></th>\n",
              "      <th>lotid</th>\n",
              "      <th>logerror</th>\n",
              "      <th>transactiondate</th>\n",
              "      <th>aircond</th>\n",
              "      <th>style</th>\n",
              "      <th>basement</th>\n",
              "      <th>numbath</th>\n",
              "      <th>numbedroom</th>\n",
              "      <th>classbuild</th>\n",
              "      <th>qualitybuild</th>\n",
              "      <th>decktype</th>\n",
              "      <th>finishedarea1st</th>\n",
              "      <th>finishedarea</th>\n",
              "      <th>perimeterarea</th>\n",
              "      <th>totalarea</th>\n",
              "      <th>finishedareaEntry</th>\n",
              "      <th>countycode</th>\n",
              "      <th>numfireplace</th>\n",
              "      <th>numfullbath</th>\n",
              "      <th>garagenum</th>\n",
              "      <th>garagearea</th>\n",
              "      <th>tubflag</th>\n",
              "      <th>heatingtype</th>\n",
              "      <th>latitude</th>\n",
              "      <th>longitude</th>\n",
              "      <th>lotarea</th>\n",
              "      <th>poolnum</th>\n",
              "      <th>poolarea</th>\n",
              "      <th>citycode</th>\n",
              "      <th>countycode2</th>\n",
              "      <th>neighborhoodcode</th>\n",
              "      <th>regioncode</th>\n",
              "      <th>roomnum</th>\n",
              "      <th>storytype</th>\n",
              "      <th>num34bath</th>\n",
              "      <th>material</th>\n",
              "      <th>unitnum</th>\n",
              "      <th>year</th>\n",
              "      <th>numstories</th>\n",
              "      <th>fireplace</th>\n",
              "      <th>buildvalue</th>\n",
              "      <th>parcelvalue</th>\n",
              "      <th>taxyear</th>\n",
              "      <th>landvalue</th>\n",
              "      <th>totaltaxvalue</th>\n",
              "      <th>taxdelinquencyflag</th>\n",
              "      <th>taxdelinquencyyear</th>\n",
              "      <th>mypointer</th>\n",
              "    </tr>\n",
              "  </thead>\n",
              "  <tbody>\n",
              "    <tr>\n",
              "      <th>0</th>\n",
              "      <td>17214744</td>\n",
              "      <td>NaN</td>\n",
              "      <td>NaN</td>\n",
              "      <td>NaN</td>\n",
              "      <td>NaN</td>\n",
              "      <td>NaN</td>\n",
              "      <td>2.0</td>\n",
              "      <td>3</td>\n",
              "      <td>NaN</td>\n",
              "      <td>NaN</td>\n",
              "      <td>NaN</td>\n",
              "      <td>1255.0</td>\n",
              "      <td>1255.0</td>\n",
              "      <td>NaN</td>\n",
              "      <td>NaN</td>\n",
              "      <td>1255.0</td>\n",
              "      <td>6111</td>\n",
              "      <td>1</td>\n",
              "      <td>2.0</td>\n",
              "      <td>2.0</td>\n",
              "      <td>465.0</td>\n",
              "      <td>NaN</td>\n",
              "      <td>NaN</td>\n",
              "      <td>34191029</td>\n",
              "      <td>-118914689</td>\n",
              "      <td>12497.0</td>\n",
              "      <td>NaN</td>\n",
              "      <td>NaN</td>\n",
              "      <td>34278.0</td>\n",
              "      <td>2061</td>\n",
              "      <td>46736.0</td>\n",
              "      <td>96351.0</td>\n",
              "      <td>6</td>\n",
              "      <td>NaN</td>\n",
              "      <td>NaN</td>\n",
              "      <td>NaN</td>\n",
              "      <td>NaN</td>\n",
              "      <td>1979.0</td>\n",
              "      <td>1.0</td>\n",
              "      <td>NaN</td>\n",
              "      <td>103993.0</td>\n",
              "      <td>142212.0</td>\n",
              "      <td>2015</td>\n",
              "      <td>38219.0</td>\n",
              "      <td>1715.08</td>\n",
              "      <td>NaN</td>\n",
              "      <td>NaN</td>\n",
              "      <td>25711</td>\n",
              "    </tr>\n",
              "    <tr>\n",
              "      <th>1</th>\n",
              "      <td>12018724</td>\n",
              "      <td>NaN</td>\n",
              "      <td>NaN</td>\n",
              "      <td>1.0</td>\n",
              "      <td>NaN</td>\n",
              "      <td>NaN</td>\n",
              "      <td>2.0</td>\n",
              "      <td>1</td>\n",
              "      <td>NaN</td>\n",
              "      <td>4.0</td>\n",
              "      <td>NaN</td>\n",
              "      <td>NaN</td>\n",
              "      <td>1033.0</td>\n",
              "      <td>NaN</td>\n",
              "      <td>NaN</td>\n",
              "      <td>NaN</td>\n",
              "      <td>6037</td>\n",
              "      <td>0</td>\n",
              "      <td>2.0</td>\n",
              "      <td>NaN</td>\n",
              "      <td>NaN</td>\n",
              "      <td>NaN</td>\n",
              "      <td>2.0</td>\n",
              "      <td>34092200</td>\n",
              "      <td>-118374000</td>\n",
              "      <td>20527.0</td>\n",
              "      <td>1.0</td>\n",
              "      <td>NaN</td>\n",
              "      <td>48424.0</td>\n",
              "      <td>3101</td>\n",
              "      <td>NaN</td>\n",
              "      <td>96050.0</td>\n",
              "      <td>0</td>\n",
              "      <td>NaN</td>\n",
              "      <td>NaN</td>\n",
              "      <td>NaN</td>\n",
              "      <td>1.0</td>\n",
              "      <td>1973.0</td>\n",
              "      <td>NaN</td>\n",
              "      <td>NaN</td>\n",
              "      <td>129428.0</td>\n",
              "      <td>301141.0</td>\n",
              "      <td>2015</td>\n",
              "      <td>171713.0</td>\n",
              "      <td>3851.88</td>\n",
              "      <td>NaN</td>\n",
              "      <td>NaN</td>\n",
              "      <td>13268</td>\n",
              "    </tr>\n",
              "    <tr>\n",
              "      <th>2</th>\n",
              "      <td>11306699</td>\n",
              "      <td>NaN</td>\n",
              "      <td>NaN</td>\n",
              "      <td>1.0</td>\n",
              "      <td>NaN</td>\n",
              "      <td>NaN</td>\n",
              "      <td>3.0</td>\n",
              "      <td>4</td>\n",
              "      <td>NaN</td>\n",
              "      <td>4.0</td>\n",
              "      <td>NaN</td>\n",
              "      <td>NaN</td>\n",
              "      <td>2982.0</td>\n",
              "      <td>NaN</td>\n",
              "      <td>NaN</td>\n",
              "      <td>NaN</td>\n",
              "      <td>6037</td>\n",
              "      <td>0</td>\n",
              "      <td>3.0</td>\n",
              "      <td>NaN</td>\n",
              "      <td>NaN</td>\n",
              "      <td>NaN</td>\n",
              "      <td>2.0</td>\n",
              "      <td>34696444</td>\n",
              "      <td>-118184228</td>\n",
              "      <td>8466.0</td>\n",
              "      <td>NaN</td>\n",
              "      <td>NaN</td>\n",
              "      <td>5534.0</td>\n",
              "      <td>3101</td>\n",
              "      <td>NaN</td>\n",
              "      <td>97319.0</td>\n",
              "      <td>0</td>\n",
              "      <td>NaN</td>\n",
              "      <td>NaN</td>\n",
              "      <td>NaN</td>\n",
              "      <td>1.0</td>\n",
              "      <td>2004.0</td>\n",
              "      <td>NaN</td>\n",
              "      <td>NaN</td>\n",
              "      <td>175069.0</td>\n",
              "      <td>235062.0</td>\n",
              "      <td>2015</td>\n",
              "      <td>59993.0</td>\n",
              "      <td>3818.24</td>\n",
              "      <td>Y</td>\n",
              "      <td>11.0</td>\n",
              "      <td>5423</td>\n",
              "    </tr>\n",
              "    <tr>\n",
              "      <th>3</th>\n",
              "      <td>11047729</td>\n",
              "      <td>NaN</td>\n",
              "      <td>NaN</td>\n",
              "      <td>1.0</td>\n",
              "      <td>NaN</td>\n",
              "      <td>NaN</td>\n",
              "      <td>2.0</td>\n",
              "      <td>3</td>\n",
              "      <td>NaN</td>\n",
              "      <td>7.0</td>\n",
              "      <td>NaN</td>\n",
              "      <td>NaN</td>\n",
              "      <td>1757.0</td>\n",
              "      <td>NaN</td>\n",
              "      <td>NaN</td>\n",
              "      <td>NaN</td>\n",
              "      <td>6037</td>\n",
              "      <td>0</td>\n",
              "      <td>2.0</td>\n",
              "      <td>NaN</td>\n",
              "      <td>NaN</td>\n",
              "      <td>NaN</td>\n",
              "      <td>2.0</td>\n",
              "      <td>34252019</td>\n",
              "      <td>-118467570</td>\n",
              "      <td>8612.0</td>\n",
              "      <td>NaN</td>\n",
              "      <td>NaN</td>\n",
              "      <td>12447.0</td>\n",
              "      <td>3101</td>\n",
              "      <td>116646.0</td>\n",
              "      <td>96371.0</td>\n",
              "      <td>0</td>\n",
              "      <td>NaN</td>\n",
              "      <td>NaN</td>\n",
              "      <td>NaN</td>\n",
              "      <td>1.0</td>\n",
              "      <td>1952.0</td>\n",
              "      <td>NaN</td>\n",
              "      <td>NaN</td>\n",
              "      <td>162926.0</td>\n",
              "      <td>270543.0</td>\n",
              "      <td>2015</td>\n",
              "      <td>107617.0</td>\n",
              "      <td>3450.67</td>\n",
              "      <td>NaN</td>\n",
              "      <td>NaN</td>\n",
              "      <td>26198</td>\n",
              "    </tr>\n",
              "    <tr>\n",
              "      <th>4</th>\n",
              "      <td>17174848</td>\n",
              "      <td>NaN</td>\n",
              "      <td>NaN</td>\n",
              "      <td>NaN</td>\n",
              "      <td>NaN</td>\n",
              "      <td>NaN</td>\n",
              "      <td>3.0</td>\n",
              "      <td>2</td>\n",
              "      <td>NaN</td>\n",
              "      <td>NaN</td>\n",
              "      <td>66.0</td>\n",
              "      <td>1047.0</td>\n",
              "      <td>1951.0</td>\n",
              "      <td>NaN</td>\n",
              "      <td>NaN</td>\n",
              "      <td>1047.0</td>\n",
              "      <td>6111</td>\n",
              "      <td>0</td>\n",
              "      <td>3.0</td>\n",
              "      <td>2.0</td>\n",
              "      <td>0.0</td>\n",
              "      <td>NaN</td>\n",
              "      <td>NaN</td>\n",
              "      <td>34146639</td>\n",
              "      <td>-119190425</td>\n",
              "      <td>2660.0</td>\n",
              "      <td>NaN</td>\n",
              "      <td>NaN</td>\n",
              "      <td>47198.0</td>\n",
              "      <td>2061</td>\n",
              "      <td>NaN</td>\n",
              "      <td>97109.0</td>\n",
              "      <td>6</td>\n",
              "      <td>NaN</td>\n",
              "      <td>NaN</td>\n",
              "      <td>NaN</td>\n",
              "      <td>NaN</td>\n",
              "      <td>1988.0</td>\n",
              "      <td>2.0</td>\n",
              "      <td>NaN</td>\n",
              "      <td>180532.0</td>\n",
              "      <td>300886.0</td>\n",
              "      <td>2015</td>\n",
              "      <td>120354.0</td>\n",
              "      <td>3394.26</td>\n",
              "      <td>NaN</td>\n",
              "      <td>NaN</td>\n",
              "      <td>25187</td>\n",
              "    </tr>\n",
              "  </tbody>\n",
              "</table>\n",
              "</div>"
            ],
            "text/plain": [
              "      lotid  logerror  ... taxdelinquencyyear  mypointer\n",
              "0  17214744       NaN  ...                NaN      25711\n",
              "1  12018724       NaN  ...                NaN      13268\n",
              "2  11306699       NaN  ...               11.0       5423\n",
              "3  11047729       NaN  ...                NaN      26198\n",
              "4  17174848       NaN  ...                NaN      25187\n",
              "\n",
              "[5 rows x 48 columns]"
            ]
          },
          "metadata": {},
          "execution_count": 216
        }
      ]
    },
    {
      "cell_type": "code",
      "metadata": {
        "id": "ajQHaeQBwfnu",
        "colab": {
          "base_uri": "https://localhost:8080/",
          "height": 443
        },
        "outputId": "21d42436-04d7-4aeb-d686-99c4bd88bad1"
      },
      "source": [
        "# Report missing data\n",
        "print('Missing Values per Column:')\n",
        "missing = train_raw.isnull().sum().sort_values(ascending=False)\n",
        "missing = missing[missing > 0]\n",
        "#missing.head(30)\n",
        "missing.plot.bar(figsize = (8,5))"
      ],
      "execution_count": 217,
      "outputs": [
        {
          "output_type": "stream",
          "name": "stdout",
          "text": [
            "Missing Values per Column:\n"
          ]
        },
        {
          "output_type": "execute_result",
          "data": {
            "text/plain": [
              "<matplotlib.axes._subplots.AxesSubplot at 0x7fd155320590>"
            ]
          },
          "metadata": {},
          "execution_count": 217
        },
        {
          "output_type": "display_data",
          "data": {
            "image/png": "[encoded data removed]",
            "text/plain": [
              "<Figure size 576x360 with 1 Axes>"
            ]
          },
          "metadata": {
            "needs_background": "light"
          }
        }
      ]
    },
    {
      "cell_type": "markdown",
      "metadata": {
        "id": "9EN_rrczwfnz"
      },
      "source": [
        "**Step 2: Remove features with missing data and deal with observations that have missing data**\n",
        "\n",
        "I remove the columns 'totaltaxvalue', 'buildvalue' and 'landvalue' from the training set as these are highly correlated with the final values we want to predict.\n",
        "The column 'mypointer' is removed from the training set as this does not feature in the test set."
      ]
    },
    {
      "cell_type": "code",
      "metadata": {
        "id": "BZNxgD4_6bJb"
      },
      "source": [
        "train_clean = train_raw.copy()"
      ],
      "execution_count": 218,
      "outputs": []
    },
    {
      "cell_type": "code",
      "metadata": {
        "id": "Sb8-B91zf-cq",
        "colab": {
          "base_uri": "https://localhost:8080/"
        },
        "outputId": "a694e0c6-032c-4128-b4d8-d2af5a180e5c"
      },
      "source": [
        "train_clean.drop(columns=['totaltaxvalue', 'buildvalue', 'landvalue', 'mypointer'], inplace=True)\n",
        "train_clean.info()"
      ],
      "execution_count": 219,
      "outputs": [
        {
          "output_type": "stream",
          "name": "stdout",
          "text": [
            "<class 'pandas.core.frame.DataFrame'>\n",
            "RangeIndex: 24755 entries, 0 to 24754\n",
            "Data columns (total 44 columns):\n",
            " #   Column              Non-Null Count  Dtype  \n",
            "---  ------              --------------  -----  \n",
            " 0   lotid               24755 non-null  int64  \n",
            " 1   logerror            1763 non-null   float64\n",
            " 2   transactiondate     1763 non-null   object \n",
            " 3   aircond             14464 non-null  float64\n",
            " 4   style               233 non-null    float64\n",
            " 5   basement            56 non-null     float64\n",
            " 6   numbath             24755 non-null  float64\n",
            " 7   numbedroom          24755 non-null  int64  \n",
            " 8   classbuild          18 non-null     float64\n",
            " 9   qualitybuild        14654 non-null  float64\n",
            " 10  decktype            712 non-null    float64\n",
            " 11  finishedarea1st     6143 non-null   float64\n",
            " 12  finishedarea        24692 non-null  float64\n",
            " 13  perimeterarea       0 non-null      float64\n",
            " 14  totalarea           62 non-null     float64\n",
            " 15  finishedareaEntry   6143 non-null   float64\n",
            " 16  countycode          24755 non-null  int64  \n",
            " 17  numfireplace        24755 non-null  int64  \n",
            " 18  numfullbath         24719 non-null  float64\n",
            " 19  garagenum           9994 non-null   float64\n",
            " 20  garagearea          9994 non-null   float64\n",
            " 21  tubflag             1245 non-null   object \n",
            " 22  heatingtype         15789 non-null  float64\n",
            " 23  latitude            24755 non-null  int64  \n",
            " 24  longitude           24755 non-null  int64  \n",
            " 25  lotarea             24046 non-null  float64\n",
            " 26  poolnum             12721 non-null  float64\n",
            " 27  poolarea            1206 non-null   float64\n",
            " 28  citycode            24724 non-null  float64\n",
            " 29  countycode2         24755 non-null  int64  \n",
            " 30  neighborhoodcode    15027 non-null  float64\n",
            " 31  regioncode          24753 non-null  float64\n",
            " 32  roomnum             24755 non-null  int64  \n",
            " 33  storytype           56 non-null     float64\n",
            " 34  num34bath           5019 non-null   float64\n",
            " 35  material            249 non-null    float64\n",
            " 36  unitnum             14761 non-null  float64\n",
            " 37  year                24743 non-null  float64\n",
            " 38  numstories          9634 non-null   float64\n",
            " 39  fireplace           188 non-null    object \n",
            " 40  parcelvalue         24755 non-null  float64\n",
            " 41  taxyear             24755 non-null  int64  \n",
            " 42  taxdelinquencyflag  886 non-null    object \n",
            " 43  taxdelinquencyyear  886 non-null    float64\n",
            "dtypes: float64(31), int64(9), object(4)\n",
            "memory usage: 8.3+ MB\n"
          ]
        }
      ]
    },
    {
      "cell_type": "code",
      "metadata": {
        "id": "gs_xwETfwfn0",
        "colab": {
          "base_uri": "https://localhost:8080/"
        },
        "outputId": "954abd56-119a-4c18-8a6e-ed78d726fa16"
      },
      "source": [
        "# Remove data that has more than 40% of missing data in training set\n",
        "mypercentagevalid = 0.6\n",
        "train_clean = train_clean.dropna(axis=1, thresh=round(mypercentagevalid*len(train_clean.index)))\n",
        "train_clean.info()\n",
        "\n",
        "# Save remaining columns to later apply them to test set\n",
        "# Drop 'parcelvalue' as this is the dependent variable and thus does not feature in test set\n",
        "regressors = train_clean.columns.drop('parcelvalue')\n",
        "print(regressors)"
      ],
      "execution_count": 220,
      "outputs": [
        {
          "output_type": "stream",
          "name": "stdout",
          "text": [
            "<class 'pandas.core.frame.DataFrame'>\n",
            "RangeIndex: 24755 entries, 0 to 24754\n",
            "Data columns (total 19 columns):\n",
            " #   Column            Non-Null Count  Dtype  \n",
            "---  ------            --------------  -----  \n",
            " 0   lotid             24755 non-null  int64  \n",
            " 1   numbath           24755 non-null  float64\n",
            " 2   numbedroom        24755 non-null  int64  \n",
            " 3   finishedarea      24692 non-null  float64\n",
            " 4   countycode        24755 non-null  int64  \n",
            " 5   numfireplace      24755 non-null  int64  \n",
            " 6   numfullbath       24719 non-null  float64\n",
            " 7   heatingtype       15789 non-null  float64\n",
            " 8   latitude          24755 non-null  int64  \n",
            " 9   longitude         24755 non-null  int64  \n",
            " 10  lotarea           24046 non-null  float64\n",
            " 11  citycode          24724 non-null  float64\n",
            " 12  countycode2       24755 non-null  int64  \n",
            " 13  neighborhoodcode  15027 non-null  float64\n",
            " 14  regioncode        24753 non-null  float64\n",
            " 15  roomnum           24755 non-null  int64  \n",
            " 16  year              24743 non-null  float64\n",
            " 17  parcelvalue       24755 non-null  float64\n",
            " 18  taxyear           24755 non-null  int64  \n",
            "dtypes: float64(10), int64(9)\n",
            "memory usage: 3.6 MB\n",
            "Index(['lotid', 'numbath', 'numbedroom', 'finishedarea', 'countycode',\n",
            "       'numfireplace', 'numfullbath', 'heatingtype', 'latitude', 'longitude',\n",
            "       'lotarea', 'citycode', 'countycode2', 'neighborhoodcode', 'regioncode',\n",
            "       'roomnum', 'year', 'taxyear'],\n",
            "      dtype='object')\n"
          ]
        }
      ]
    },
    {
      "cell_type": "markdown",
      "metadata": {
        "id": "uqZPeEnh40go"
      },
      "source": [
        "**Dealing with missing observations**\n",
        "\n",
        "*Alternative 1: Remove all missing observations*"
      ]
    },
    {
      "cell_type": "code",
      "metadata": {
        "id": "E3HWlhqewfn1"
      },
      "source": [
        "# Remove observations that have missing data\n",
        "#train_clean = train_clean.dropna(axis = 0)\n",
        "#train_clean.info()"
      ],
      "execution_count": 221,
      "outputs": []
    },
    {
      "cell_type": "markdown",
      "metadata": {
        "id": "7frlS8vU480v"
      },
      "source": [
        "*Alternative 2: Fill missing values*"
      ]
    },
    {
      "cell_type": "code",
      "metadata": {
        "colab": {
          "base_uri": "https://localhost:8080/",
          "height": 334
        },
        "id": "NuG5hKH06p04",
        "outputId": "4d99ffba-c229-4d4f-f70d-43335206d7be"
      },
      "source": [
        "# Look at the distributions of numerical variables that feature missing values\n",
        "fig, axs = plt.subplots(1, 2, figsize=(15, 5))\n",
        "\n",
        "sns.histplot(data=train_clean, x=\"finishedarea\", kde=True, ax=axs[0])\n",
        "sns.histplot(data=train_clean, x=\"lotarea\", kde=True, ax=axs[1])\n",
        "\n",
        "plt.show()"
      ],
      "execution_count": 222,
      "outputs": [
        {
          "output_type": "display_data",
          "data": {
            "image/png": "[encoded data removed]",
            "text/plain": [
              "<Figure size 1080x360 with 2 Axes>"
            ]
          },
          "metadata": {
            "needs_background": "light"
          }
        }
      ]
    },
    {
      "cell_type": "markdown",
      "metadata": {
        "id": "CkbwC9yw8swN"
      },
      "source": [
        "We see that both 'finishedarea' and 'lotarea' have a positively skewed distribution. I thus decide to replace missing values with the median rather than the mean to reduce the impact of outliers."
      ]
    },
    {
      "cell_type": "code",
      "metadata": {
        "colab": {
          "base_uri": "https://localhost:8080/",
          "height": 497
        },
        "id": "DXuLssza3DQP",
        "outputId": "9ee24864-8ea6-40c5-9935-b539fbc33895"
      },
      "source": [
        "# Look at the distributions of categorical variables that feature missing values\n",
        "fig, axs = plt.subplots(2, 3, figsize=(15, 8))\n",
        "\n",
        "sns.histplot(data=train_clean, x=\"heatingtype\", kde=False, ax=axs[0, 0])\n",
        "sns.histplot(data=train_clean, x=\"countycode\", kde=False, ax=axs[0, 1])\n",
        "sns.histplot(data=train_clean, x=\"countycode2\", kde=False, ax=axs[0, 2])\n",
        "sns.histplot(data=train_clean, x=\"citycode\", kde=False, ax=axs[1, 0])\n",
        "sns.histplot(data=train_clean, x=\"neighborhoodcode\", kde=False, ax=axs[1, 1])\n",
        "sns.histplot(data=train_clean, x=\"regioncode\", kde=False, ax=axs[1, 2])\n",
        "\n",
        "plt.show()"
      ],
      "execution_count": 223,
      "outputs": [
        {
          "output_type": "display_data",
          "data": {
            "image/png": "[encoded data removed]",
            "text/plain": [
              "<Figure size 1080x576 with 6 Axes>"
            ]
          },
          "metadata": {
            "needs_background": "light"
          }
        }
      ]
    },
    {
      "cell_type": "markdown",
      "metadata": {
        "id": "tRBOnMY54gLK"
      },
      "source": [
        "Looking at the histograms of the categorical variables we can see that all variables except for 'neighborhoodcode' have one dominant category. I replace missing values with the value of this most frequent category. Note that this approach will skew the data as the importance of the most frequent category is overstated. Whilst this approach is less problematic for categorical variables which have few categories and feature one dominant category, it highly impacts the data for categorical data where observations are spread more evenly across multiple categories. This is the case with 'neighborhoodcode'. Hence, I refrain from applying this approach  to 'neighborhoodcode' as it would drastically overstate the significance of one particular neighbourhood. Instead I attempt to deduce the nieghborhoodcode from the variables 'latitude' and 'longitude' and drop all remaining missing observations for this variable. "
      ]
    },
    {
      "cell_type": "code",
      "metadata": {
        "colab": {
          "base_uri": "https://localhost:8080/"
        },
        "id": "GekPo9P15Hup",
        "outputId": "d82ab25f-466f-40c0-e237-4ccfe94e1024"
      },
      "source": [
        "# Convert categorical data to strings\n",
        "train_clean[['countycode', 'heatingtype', 'countycode2', 'citycode', 'regioncode', 'neighborhoodcode']] = train_clean[['countycode', 'heatingtype', 'countycode2', 'citycode', 'regioncode', 'neighborhoodcode']].astype(str).replace('nan',np.nan)\n",
        "\n",
        "# Numerical variables: Replace missing values with median\n",
        "for var in ['finishedarea', 'lotarea']:\n",
        "  train_clean[var]=train_clean[var].fillna(train_clean[var].median())\n",
        "\n",
        "# Categorical variables: Replace missing values with most frequent value\n",
        "for var in ['heatingtype','numfullbath', 'citycode', 'regioncode', 'year']:\n",
        "  train_clean[var]=train_clean[var].fillna(train_clean[var].value_counts().idxmax())\n",
        "\n",
        "# For neighborhoodcode, drop all missing values - this removes a lot of data\n",
        "#train_clean = train_clean.dropna()\n",
        "train_clean.info()"
      ],
      "execution_count": 224,
      "outputs": [
        {
          "output_type": "stream",
          "name": "stdout",
          "text": [
            "<class 'pandas.core.frame.DataFrame'>\n",
            "RangeIndex: 24755 entries, 0 to 24754\n",
            "Data columns (total 19 columns):\n",
            " #   Column            Non-Null Count  Dtype  \n",
            "---  ------            --------------  -----  \n",
            " 0   lotid             24755 non-null  int64  \n",
            " 1   numbath           24755 non-null  float64\n",
            " 2   numbedroom        24755 non-null  int64  \n",
            " 3   finishedarea      24755 non-null  float64\n",
            " 4   countycode        24755 non-null  object \n",
            " 5   numfireplace      24755 non-null  int64  \n",
            " 6   numfullbath       24755 non-null  float64\n",
            " 7   heatingtype       24755 non-null  object \n",
            " 8   latitude          24755 non-null  int64  \n",
            " 9   longitude         24755 non-null  int64  \n",
            " 10  lotarea           24755 non-null  float64\n",
            " 11  citycode          24755 non-null  object \n",
            " 12  countycode2       24755 non-null  object \n",
            " 13  neighborhoodcode  15027 non-null  object \n",
            " 14  regioncode        24755 non-null  object \n",
            " 15  roomnum           24755 non-null  int64  \n",
            " 16  year              24755 non-null  float64\n",
            " 17  parcelvalue       24755 non-null  float64\n",
            " 18  taxyear           24755 non-null  int64  \n",
            "dtypes: float64(6), int64(7), object(6)\n",
            "memory usage: 3.6+ MB\n"
          ]
        }
      ]
    },
    {
      "cell_type": "code",
      "metadata": {
        "colab": {
          "base_uri": "https://localhost:8080/"
        },
        "id": "SiQkfSOs6qyg",
        "outputId": "b709f6b7-b35e-45c0-e5ee-0775de2f335c"
      },
      "source": [
        "# Alternatives\n",
        "# 1. Deduce neighbourhoodcode from latitude and longitude\n",
        "# 2. Use nearest neighbour matching to fill missing values - didn't have the time to read into that\n",
        "\n",
        "\n",
        "# Recover some neighbourhoodcodes using latitude and longitude\n",
        "# Create a list of neighbourhoods from the sample with their estimated max and min longitude and latitude\n",
        "ncodes = train_clean[['neighborhoodcode', 'latitude', 'longitude']].sort_values('neighborhoodcode')\n",
        "ncodes = ncodes.groupby('neighborhoodcode')\n",
        "ncodes = ncodes.agg({'latitude' : [np.min, np.max], 'longitude' : [np.min, np.max]})\n",
        "ncodes = ncodes.reset_index(0)\n",
        "ncodes.columns = ncodes.columns.droplevel()\n",
        "ncodes.columns = ['neighborhoodcode', 'amin latitude', 'amax latitude', 'amin longitude', 'amax longitude']\n",
        "   \n",
        "# For observations with missing values, check if latitude and longitude boundaries are assigned to a neighborhood\n",
        "# if yes, replace missing value by corresponding neighborhood\n",
        "lm = []\n",
        "for index, row in train_clean.iterrows():\n",
        "    latitude = row['latitude']\n",
        "    longitude = row['longitude']\n",
        "    newcode = ncodes[((ncodes['amin latitude'] <= latitude) & (ncodes['amax latitude'] >= latitude)) &\n",
        "                 ((ncodes['amin longitude'] <= longitude) & (ncodes['amax longitude'] >= longitude))]['neighborhoodcode'].to_list()\n",
        "    if len(newcode)==0:\n",
        "        lm.append(None)\n",
        "    else:\n",
        "        lm.append(max(newcode))                  \n",
        "train_clean[\"newcode\"] = lm\n",
        "\n",
        "train_clean['neighborhoodcode'].fillna(train_clean['newcode'], inplace=True)\n",
        "del train_clean['newcode']\n",
        "\n",
        "train_clean.info()\n",
        "\n",
        "# Drop remaining missing values\n",
        "train_clean = train_clean.dropna()\n",
        "train_clean.info()"
      ],
      "execution_count": 225,
      "outputs": [
        {
          "output_type": "stream",
          "name": "stdout",
          "text": [
            "<class 'pandas.core.frame.DataFrame'>\n",
            "RangeIndex: 24755 entries, 0 to 24754\n",
            "Data columns (total 19 columns):\n",
            " #   Column            Non-Null Count  Dtype  \n",
            "---  ------            --------------  -----  \n",
            " 0   lotid             24755 non-null  int64  \n",
            " 1   numbath           24755 non-null  float64\n",
            " 2   numbedroom        24755 non-null  int64  \n",
            " 3   finishedarea      24755 non-null  float64\n",
            " 4   countycode        24755 non-null  object \n",
            " 5   numfireplace      24755 non-null  int64  \n",
            " 6   numfullbath       24755 non-null  float64\n",
            " 7   heatingtype       24755 non-null  object \n",
            " 8   latitude          24755 non-null  int64  \n",
            " 9   longitude         24755 non-null  int64  \n",
            " 10  lotarea           24755 non-null  float64\n",
            " 11  citycode          24755 non-null  object \n",
            " 12  countycode2       24755 non-null  object \n",
            " 13  neighborhoodcode  16385 non-null  object \n",
            " 14  regioncode        24755 non-null  object \n",
            " 15  roomnum           24755 non-null  int64  \n",
            " 16  year              24755 non-null  float64\n",
            " 17  parcelvalue       24755 non-null  float64\n",
            " 18  taxyear           24755 non-null  int64  \n",
            "dtypes: float64(6), int64(7), object(6)\n",
            "memory usage: 3.6+ MB\n",
            "<class 'pandas.core.frame.DataFrame'>\n",
            "Int64Index: 16385 entries, 0 to 24754\n",
            "Data columns (total 19 columns):\n",
            " #   Column            Non-Null Count  Dtype  \n",
            "---  ------            --------------  -----  \n",
            " 0   lotid             16385 non-null  int64  \n",
            " 1   numbath           16385 non-null  float64\n",
            " 2   numbedroom        16385 non-null  int64  \n",
            " 3   finishedarea      16385 non-null  float64\n",
            " 4   countycode        16385 non-null  object \n",
            " 5   numfireplace      16385 non-null  int64  \n",
            " 6   numfullbath       16385 non-null  float64\n",
            " 7   heatingtype       16385 non-null  object \n",
            " 8   latitude          16385 non-null  int64  \n",
            " 9   longitude         16385 non-null  int64  \n",
            " 10  lotarea           16385 non-null  float64\n",
            " 11  citycode          16385 non-null  object \n",
            " 12  countycode2       16385 non-null  object \n",
            " 13  neighborhoodcode  16385 non-null  object \n",
            " 14  regioncode        16385 non-null  object \n",
            " 15  roomnum           16385 non-null  int64  \n",
            " 16  year              16385 non-null  float64\n",
            " 17  parcelvalue       16385 non-null  float64\n",
            " 18  taxyear           16385 non-null  int64  \n",
            "dtypes: float64(6), int64(7), object(6)\n",
            "memory usage: 2.5+ MB\n"
          ]
        }
      ]
    },
    {
      "cell_type": "code",
      "metadata": {
        "colab": {
          "base_uri": "https://localhost:8080/",
          "height": 209
        },
        "id": "R9vYQrhK6-uB",
        "outputId": "9a5e3111-0ea3-49a7-fe7d-f941d0874148"
      },
      "source": [
        "scatplot = sns.pairplot(train_clean, \n",
        "                        y_vars = 'parcelvalue', \n",
        "                        x_vars = ['numbath', 'numbedroom', 'finishedarea', 'numfireplace', 'numfullbath','longitude', \n",
        "                                  'latitude', 'lotarea', 'roomnum', 'year', 'taxyear'])\n",
        "scatplot.fig.set_size_inches(15,3)\n",
        "plt.show()"
      ],
      "execution_count": 226,
      "outputs": [
        {
          "output_type": "display_data",
          "data": {
            "image/png": "[encoded data removed]",
            "text/plain": [
              "<Figure size 1080x216 with 11 Axes>"
            ]
          },
          "metadata": {
            "needs_background": "light"
          }
        }
      ]
    },
    {
      "cell_type": "markdown",
      "metadata": {
        "id": "QiUKv_SzX3F2"
      },
      "source": [
        "The scatterplots of our regressors against the dependent variable 'parcelvalue' show that we have some non-linear relationships in our dataset. Some can be attributed to the depedent variable being categorical and can be taken care of using dummies. For numerical variables, we may have to adjust the affected variables using polynomial- or log/sqrt-transformations. This applies to the variables 'longitude', 'latitude', 'lotarea' and potentially 'finishedarea'. I deal with this in ***Version 3*** of my model."
      ]
    },
    {
      "cell_type": "markdown",
      "metadata": {
        "id": "Pst1p_lSzOyX"
      },
      "source": [
        "#Version 1: Simple Linear Regression with initial columns"
      ]
    },
    {
      "cell_type": "markdown",
      "metadata": {
        "id": "hbJJlIV30gRD"
      },
      "source": [
        "Here I create a baseline model with no feature manipulation, which I will compare any subsequent models to."
      ]
    },
    {
      "cell_type": "code",
      "metadata": {
        "colab": {
          "base_uri": "https://localhost:8080/"
        },
        "id": "yInRez2W0bb3",
        "outputId": "eb593984-7549-4f43-8cdb-fb81a32304bd"
      },
      "source": [
        "# Check shape of dataframe\n",
        "train_clean.shape"
      ],
      "execution_count": 227,
      "outputs": [
        {
          "output_type": "execute_result",
          "data": {
            "text/plain": [
              "(16385, 19)"
            ]
          },
          "metadata": {},
          "execution_count": 227
        }
      ]
    },
    {
      "cell_type": "code",
      "metadata": {
        "id": "9ERbCVra0zEP"
      },
      "source": [
        "# Create variables\n",
        "y1 = train_clean['parcelvalue']\n",
        "y1 = np.array(y1).reshape(-1, 1)\n",
        "\n",
        "X1 = train_clean.drop(columns=['parcelvalue'])\n",
        "X1 = np.array(X1).reshape(16385, -1)\n",
        "\n",
        "#X1.shape\n",
        "#y1.shape"
      ],
      "execution_count": 228,
      "outputs": []
    },
    {
      "cell_type": "code",
      "metadata": {
        "id": "58JEHUum1Cci"
      },
      "source": [
        "# Fitting simple linear regression to training data set\n",
        "from sklearn.linear_model import LinearRegression\n",
        "regr = LinearRegression()\n",
        "regr.fit(X1,y1)\n",
        "\n",
        "# Predicting the prices\n",
        "y1_pred = regr.predict(X1)"
      ],
      "execution_count": 229,
      "outputs": []
    },
    {
      "cell_type": "markdown",
      "metadata": {
        "id": "zHL36NvJ1LNp"
      },
      "source": [
        "Step 5: Assess expected accuracy"
      ]
    },
    {
      "cell_type": "code",
      "metadata": {
        "colab": {
          "base_uri": "https://localhost:8080/",
          "height": 311
        },
        "id": "vfrvNIU81SSD",
        "outputId": "130d12a5-2556-40e9-d378-249901d80128"
      },
      "source": [
        "# Check in-sample performance\n",
        "plt.figure()\n",
        "plt.scatter(x=y1, y=y1_pred) \n",
        "plt.plot(y1,y1,c=\"red\")\n",
        "rho2 = sklearn.metrics.r2_score(y1,y1_pred)\n",
        "plt.title('R-squared equals %.10f' % rho2)"
      ],
      "execution_count": 230,
      "outputs": [
        {
          "output_type": "execute_result",
          "data": {
            "text/plain": [
              "Text(0.5, 1.0, 'R-squared equals 0.4960632327')"
            ]
          },
          "metadata": {},
          "execution_count": 230
        },
        {
          "output_type": "display_data",
          "data": {
            "image/png": "[encoded data removed]",
            "text/plain": [
              "<Figure size 432x288 with 1 Axes>"
            ]
          },
          "metadata": {
            "needs_background": "light"
          }
        }
      ]
    },
    {
      "cell_type": "markdown",
      "metadata": {
        "id": "k047luXqz9ry"
      },
      "source": [
        "#Version 2: Linear Regression with dummies for categorical variables"
      ]
    },
    {
      "cell_type": "code",
      "metadata": {
        "id": "aWDPrYtff7cI"
      },
      "source": [
        "train_dummies = train_clean.copy()"
      ],
      "execution_count": 231,
      "outputs": []
    },
    {
      "cell_type": "markdown",
      "metadata": {
        "id": "CyNYNDRLwfn1"
      },
      "source": [
        "**Step 3: Create dummies for relevant features**\n",
        "\n",
        "I get dummies for all categorical variables. This includes: \n",
        "\n",
        "*   regional codes\n",
        "* 'heatingtype'\n",
        "* 'taxyear'\n",
        "*  discrete numerical variables such as 'numbath', 'numbedroom' etc.\n",
        "\n",
        "I include discrete variables in my list of dummies in order to avoid the problem of potential non-linearities."
      ]
    },
    {
      "cell_type": "code",
      "metadata": {
        "id": "hYoVcK4Qf-cq",
        "colab": {
          "base_uri": "https://localhost:8080/",
          "height": 253
        },
        "outputId": "4b8e99f7-b385-4493-ee29-c4b9be4e4372"
      },
      "source": [
        "# Get dummies for categorical variables\n",
        "train_dummies = pd.get_dummies(train_dummies, columns=['countycode', 'heatingtype', 'countycode2', 'citycode', \n",
        "                                                       'regioncode', 'neighborhoodcode', 'numbath', 'numbedroom', \n",
        "                                                       'numfireplace', 'numfullbath', 'roomnum', 'taxyear'], \n",
        "                               drop_first=True)\n",
        "train_dummies.head()"
      ],
      "execution_count": 232,
      "outputs": [
        {
          "output_type": "execute_result",
          "data": {
            "text/html": [
              "<div>\n",
              "<style scoped>\n",
              "    .dataframe tbody tr th:only-of-type {\n",
              "        vertical-align: middle;\n",
              "    }\n",
              "\n",
              "    .dataframe tbody tr th {\n",
              "        vertical-align: top;\n",
              "    }\n",
              "\n",
              "    .dataframe thead th {\n",
              "        text-align: right;\n",
              "    }\n",
              "</style>\n",
              "<table border=\"1\" class=\"dataframe\">\n",
              "  <thead>\n",
              "    <tr style=\"text-align: right;\">\n",
              "      <th></th>\n",
              "      <th>lotid</th>\n",
              "      <th>finishedarea</th>\n",
              "      <th>latitude</th>\n",
              "      <th>longitude</th>\n",
              "      <th>lotarea</th>\n",
              "      <th>year</th>\n",
              "      <th>parcelvalue</th>\n",
              "      <th>countycode_6059</th>\n",
              "      <th>countycode_6111</th>\n",
              "      <th>heatingtype_13.0</th>\n",
              "      <th>heatingtype_14.0</th>\n",
              "      <th>heatingtype_18.0</th>\n",
              "      <th>heatingtype_2.0</th>\n",
              "      <th>heatingtype_20.0</th>\n",
              "      <th>heatingtype_24.0</th>\n",
              "      <th>heatingtype_6.0</th>\n",
              "      <th>heatingtype_7.0</th>\n",
              "      <th>countycode2_2061</th>\n",
              "      <th>countycode2_3101</th>\n",
              "      <th>citycode_10608.0</th>\n",
              "      <th>citycode_10723.0</th>\n",
              "      <th>citycode_116042.0</th>\n",
              "      <th>citycode_118878.0</th>\n",
              "      <th>citycode_118994.0</th>\n",
              "      <th>citycode_12292.0</th>\n",
              "      <th>citycode_12447.0</th>\n",
              "      <th>citycode_12520.0</th>\n",
              "      <th>citycode_13150.0</th>\n",
              "      <th>citycode_16764.0</th>\n",
              "      <th>citycode_21412.0</th>\n",
              "      <th>citycode_24174.0</th>\n",
              "      <th>citycode_24812.0</th>\n",
              "      <th>citycode_24832.0</th>\n",
              "      <th>citycode_26531.0</th>\n",
              "      <th>citycode_26964.0</th>\n",
              "      <th>citycode_27183.0</th>\n",
              "      <th>citycode_30187.0</th>\n",
              "      <th>citycode_30908.0</th>\n",
              "      <th>citycode_33252.0</th>\n",
              "      <th>citycode_33311.0</th>\n",
              "      <th>...</th>\n",
              "      <th>numbedroom_2</th>\n",
              "      <th>numbedroom_3</th>\n",
              "      <th>numbedroom_4</th>\n",
              "      <th>numbedroom_5</th>\n",
              "      <th>numbedroom_6</th>\n",
              "      <th>numbedroom_7</th>\n",
              "      <th>numbedroom_8</th>\n",
              "      <th>numbedroom_9</th>\n",
              "      <th>numbedroom_10</th>\n",
              "      <th>numfireplace_1</th>\n",
              "      <th>numfireplace_2</th>\n",
              "      <th>numfireplace_3</th>\n",
              "      <th>numfireplace_4</th>\n",
              "      <th>numfireplace_5</th>\n",
              "      <th>numfullbath_2.0</th>\n",
              "      <th>numfullbath_3.0</th>\n",
              "      <th>numfullbath_4.0</th>\n",
              "      <th>numfullbath_5.0</th>\n",
              "      <th>numfullbath_6.0</th>\n",
              "      <th>numfullbath_7.0</th>\n",
              "      <th>numfullbath_8.0</th>\n",
              "      <th>numfullbath_9.0</th>\n",
              "      <th>numfullbath_10.0</th>\n",
              "      <th>numfullbath_11.0</th>\n",
              "      <th>numfullbath_13.0</th>\n",
              "      <th>numfullbath_19.0</th>\n",
              "      <th>roomnum_2</th>\n",
              "      <th>roomnum_3</th>\n",
              "      <th>roomnum_4</th>\n",
              "      <th>roomnum_5</th>\n",
              "      <th>roomnum_6</th>\n",
              "      <th>roomnum_7</th>\n",
              "      <th>roomnum_8</th>\n",
              "      <th>roomnum_9</th>\n",
              "      <th>roomnum_10</th>\n",
              "      <th>roomnum_11</th>\n",
              "      <th>roomnum_12</th>\n",
              "      <th>roomnum_13</th>\n",
              "      <th>roomnum_14</th>\n",
              "      <th>taxyear_2016</th>\n",
              "    </tr>\n",
              "  </thead>\n",
              "  <tbody>\n",
              "    <tr>\n",
              "      <th>0</th>\n",
              "      <td>17214744</td>\n",
              "      <td>1255.0</td>\n",
              "      <td>34191029</td>\n",
              "      <td>-118914689</td>\n",
              "      <td>12497.0</td>\n",
              "      <td>1979.0</td>\n",
              "      <td>142212.0</td>\n",
              "      <td>0</td>\n",
              "      <td>1</td>\n",
              "      <td>0</td>\n",
              "      <td>0</td>\n",
              "      <td>0</td>\n",
              "      <td>1</td>\n",
              "      <td>0</td>\n",
              "      <td>0</td>\n",
              "      <td>0</td>\n",
              "      <td>0</td>\n",
              "      <td>1</td>\n",
              "      <td>0</td>\n",
              "      <td>0</td>\n",
              "      <td>0</td>\n",
              "      <td>0</td>\n",
              "      <td>0</td>\n",
              "      <td>0</td>\n",
              "      <td>0</td>\n",
              "      <td>0</td>\n",
              "      <td>0</td>\n",
              "      <td>0</td>\n",
              "      <td>0</td>\n",
              "      <td>0</td>\n",
              "      <td>0</td>\n",
              "      <td>0</td>\n",
              "      <td>0</td>\n",
              "      <td>0</td>\n",
              "      <td>0</td>\n",
              "      <td>0</td>\n",
              "      <td>0</td>\n",
              "      <td>0</td>\n",
              "      <td>0</td>\n",
              "      <td>0</td>\n",
              "      <td>...</td>\n",
              "      <td>0</td>\n",
              "      <td>1</td>\n",
              "      <td>0</td>\n",
              "      <td>0</td>\n",
              "      <td>0</td>\n",
              "      <td>0</td>\n",
              "      <td>0</td>\n",
              "      <td>0</td>\n",
              "      <td>0</td>\n",
              "      <td>1</td>\n",
              "      <td>0</td>\n",
              "      <td>0</td>\n",
              "      <td>0</td>\n",
              "      <td>0</td>\n",
              "      <td>1</td>\n",
              "      <td>0</td>\n",
              "      <td>0</td>\n",
              "      <td>0</td>\n",
              "      <td>0</td>\n",
              "      <td>0</td>\n",
              "      <td>0</td>\n",
              "      <td>0</td>\n",
              "      <td>0</td>\n",
              "      <td>0</td>\n",
              "      <td>0</td>\n",
              "      <td>0</td>\n",
              "      <td>0</td>\n",
              "      <td>0</td>\n",
              "      <td>0</td>\n",
              "      <td>0</td>\n",
              "      <td>1</td>\n",
              "      <td>0</td>\n",
              "      <td>0</td>\n",
              "      <td>0</td>\n",
              "      <td>0</td>\n",
              "      <td>0</td>\n",
              "      <td>0</td>\n",
              "      <td>0</td>\n",
              "      <td>0</td>\n",
              "      <td>0</td>\n",
              "    </tr>\n",
              "    <tr>\n",
              "      <th>1</th>\n",
              "      <td>12018724</td>\n",
              "      <td>1033.0</td>\n",
              "      <td>34092200</td>\n",
              "      <td>-118374000</td>\n",
              "      <td>20527.0</td>\n",
              "      <td>1973.0</td>\n",
              "      <td>301141.0</td>\n",
              "      <td>0</td>\n",
              "      <td>0</td>\n",
              "      <td>0</td>\n",
              "      <td>0</td>\n",
              "      <td>0</td>\n",
              "      <td>1</td>\n",
              "      <td>0</td>\n",
              "      <td>0</td>\n",
              "      <td>0</td>\n",
              "      <td>0</td>\n",
              "      <td>0</td>\n",
              "      <td>1</td>\n",
              "      <td>0</td>\n",
              "      <td>0</td>\n",
              "      <td>0</td>\n",
              "      <td>0</td>\n",
              "      <td>0</td>\n",
              "      <td>0</td>\n",
              "      <td>0</td>\n",
              "      <td>0</td>\n",
              "      <td>0</td>\n",
              "      <td>0</td>\n",
              "      <td>0</td>\n",
              "      <td>0</td>\n",
              "      <td>0</td>\n",
              "      <td>0</td>\n",
              "      <td>0</td>\n",
              "      <td>0</td>\n",
              "      <td>0</td>\n",
              "      <td>0</td>\n",
              "      <td>0</td>\n",
              "      <td>0</td>\n",
              "      <td>0</td>\n",
              "      <td>...</td>\n",
              "      <td>0</td>\n",
              "      <td>0</td>\n",
              "      <td>0</td>\n",
              "      <td>0</td>\n",
              "      <td>0</td>\n",
              "      <td>0</td>\n",
              "      <td>0</td>\n",
              "      <td>0</td>\n",
              "      <td>0</td>\n",
              "      <td>0</td>\n",
              "      <td>0</td>\n",
              "      <td>0</td>\n",
              "      <td>0</td>\n",
              "      <td>0</td>\n",
              "      <td>1</td>\n",
              "      <td>0</td>\n",
              "      <td>0</td>\n",
              "      <td>0</td>\n",
              "      <td>0</td>\n",
              "      <td>0</td>\n",
              "      <td>0</td>\n",
              "      <td>0</td>\n",
              "      <td>0</td>\n",
              "      <td>0</td>\n",
              "      <td>0</td>\n",
              "      <td>0</td>\n",
              "      <td>0</td>\n",
              "      <td>0</td>\n",
              "      <td>0</td>\n",
              "      <td>0</td>\n",
              "      <td>0</td>\n",
              "      <td>0</td>\n",
              "      <td>0</td>\n",
              "      <td>0</td>\n",
              "      <td>0</td>\n",
              "      <td>0</td>\n",
              "      <td>0</td>\n",
              "      <td>0</td>\n",
              "      <td>0</td>\n",
              "      <td>0</td>\n",
              "    </tr>\n",
              "    <tr>\n",
              "      <th>3</th>\n",
              "      <td>11047729</td>\n",
              "      <td>1757.0</td>\n",
              "      <td>34252019</td>\n",
              "      <td>-118467570</td>\n",
              "      <td>8612.0</td>\n",
              "      <td>1952.0</td>\n",
              "      <td>270543.0</td>\n",
              "      <td>0</td>\n",
              "      <td>0</td>\n",
              "      <td>0</td>\n",
              "      <td>0</td>\n",
              "      <td>0</td>\n",
              "      <td>1</td>\n",
              "      <td>0</td>\n",
              "      <td>0</td>\n",
              "      <td>0</td>\n",
              "      <td>0</td>\n",
              "      <td>0</td>\n",
              "      <td>1</td>\n",
              "      <td>0</td>\n",
              "      <td>0</td>\n",
              "      <td>0</td>\n",
              "      <td>0</td>\n",
              "      <td>0</td>\n",
              "      <td>0</td>\n",
              "      <td>1</td>\n",
              "      <td>0</td>\n",
              "      <td>0</td>\n",
              "      <td>0</td>\n",
              "      <td>0</td>\n",
              "      <td>0</td>\n",
              "      <td>0</td>\n",
              "      <td>0</td>\n",
              "      <td>0</td>\n",
              "      <td>0</td>\n",
              "      <td>0</td>\n",
              "      <td>0</td>\n",
              "      <td>0</td>\n",
              "      <td>0</td>\n",
              "      <td>0</td>\n",
              "      <td>...</td>\n",
              "      <td>0</td>\n",
              "      <td>1</td>\n",
              "      <td>0</td>\n",
              "      <td>0</td>\n",
              "      <td>0</td>\n",
              "      <td>0</td>\n",
              "      <td>0</td>\n",
              "      <td>0</td>\n",
              "      <td>0</td>\n",
              "      <td>0</td>\n",
              "      <td>0</td>\n",
              "      <td>0</td>\n",
              "      <td>0</td>\n",
              "      <td>0</td>\n",
              "      <td>1</td>\n",
              "      <td>0</td>\n",
              "      <td>0</td>\n",
              "      <td>0</td>\n",
              "      <td>0</td>\n",
              "      <td>0</td>\n",
              "      <td>0</td>\n",
              "      <td>0</td>\n",
              "      <td>0</td>\n",
              "      <td>0</td>\n",
              "      <td>0</td>\n",
              "      <td>0</td>\n",
              "      <td>0</td>\n",
              "      <td>0</td>\n",
              "      <td>0</td>\n",
              "      <td>0</td>\n",
              "      <td>0</td>\n",
              "      <td>0</td>\n",
              "      <td>0</td>\n",
              "      <td>0</td>\n",
              "      <td>0</td>\n",
              "      <td>0</td>\n",
              "      <td>0</td>\n",
              "      <td>0</td>\n",
              "      <td>0</td>\n",
              "      <td>0</td>\n",
              "    </tr>\n",
              "    <tr>\n",
              "      <th>5</th>\n",
              "      <td>14305657</td>\n",
              "      <td>1641.0</td>\n",
              "      <td>33681662</td>\n",
              "      <td>-117802630</td>\n",
              "      <td>4986.0</td>\n",
              "      <td>1976.0</td>\n",
              "      <td>671269.0</td>\n",
              "      <td>1</td>\n",
              "      <td>0</td>\n",
              "      <td>0</td>\n",
              "      <td>0</td>\n",
              "      <td>0</td>\n",
              "      <td>1</td>\n",
              "      <td>0</td>\n",
              "      <td>0</td>\n",
              "      <td>0</td>\n",
              "      <td>0</td>\n",
              "      <td>0</td>\n",
              "      <td>0</td>\n",
              "      <td>0</td>\n",
              "      <td>0</td>\n",
              "      <td>0</td>\n",
              "      <td>0</td>\n",
              "      <td>0</td>\n",
              "      <td>0</td>\n",
              "      <td>0</td>\n",
              "      <td>0</td>\n",
              "      <td>0</td>\n",
              "      <td>0</td>\n",
              "      <td>0</td>\n",
              "      <td>0</td>\n",
              "      <td>0</td>\n",
              "      <td>0</td>\n",
              "      <td>0</td>\n",
              "      <td>0</td>\n",
              "      <td>0</td>\n",
              "      <td>0</td>\n",
              "      <td>0</td>\n",
              "      <td>0</td>\n",
              "      <td>0</td>\n",
              "      <td>...</td>\n",
              "      <td>0</td>\n",
              "      <td>1</td>\n",
              "      <td>0</td>\n",
              "      <td>0</td>\n",
              "      <td>0</td>\n",
              "      <td>0</td>\n",
              "      <td>0</td>\n",
              "      <td>0</td>\n",
              "      <td>0</td>\n",
              "      <td>1</td>\n",
              "      <td>0</td>\n",
              "      <td>0</td>\n",
              "      <td>0</td>\n",
              "      <td>0</td>\n",
              "      <td>1</td>\n",
              "      <td>0</td>\n",
              "      <td>0</td>\n",
              "      <td>0</td>\n",
              "      <td>0</td>\n",
              "      <td>0</td>\n",
              "      <td>0</td>\n",
              "      <td>0</td>\n",
              "      <td>0</td>\n",
              "      <td>0</td>\n",
              "      <td>0</td>\n",
              "      <td>0</td>\n",
              "      <td>0</td>\n",
              "      <td>0</td>\n",
              "      <td>0</td>\n",
              "      <td>0</td>\n",
              "      <td>1</td>\n",
              "      <td>0</td>\n",
              "      <td>0</td>\n",
              "      <td>0</td>\n",
              "      <td>0</td>\n",
              "      <td>0</td>\n",
              "      <td>0</td>\n",
              "      <td>0</td>\n",
              "      <td>0</td>\n",
              "      <td>0</td>\n",
              "    </tr>\n",
              "    <tr>\n",
              "      <th>6</th>\n",
              "      <td>11016338</td>\n",
              "      <td>1663.0</td>\n",
              "      <td>34284508</td>\n",
              "      <td>-118493574</td>\n",
              "      <td>12102.0</td>\n",
              "      <td>1961.0</td>\n",
              "      <td>363524.0</td>\n",
              "      <td>0</td>\n",
              "      <td>0</td>\n",
              "      <td>0</td>\n",
              "      <td>0</td>\n",
              "      <td>0</td>\n",
              "      <td>1</td>\n",
              "      <td>0</td>\n",
              "      <td>0</td>\n",
              "      <td>0</td>\n",
              "      <td>0</td>\n",
              "      <td>0</td>\n",
              "      <td>1</td>\n",
              "      <td>0</td>\n",
              "      <td>0</td>\n",
              "      <td>0</td>\n",
              "      <td>0</td>\n",
              "      <td>0</td>\n",
              "      <td>0</td>\n",
              "      <td>1</td>\n",
              "      <td>0</td>\n",
              "      <td>0</td>\n",
              "      <td>0</td>\n",
              "      <td>0</td>\n",
              "      <td>0</td>\n",
              "      <td>0</td>\n",
              "      <td>0</td>\n",
              "      <td>0</td>\n",
              "      <td>0</td>\n",
              "      <td>0</td>\n",
              "      <td>0</td>\n",
              "      <td>0</td>\n",
              "      <td>0</td>\n",
              "      <td>0</td>\n",
              "      <td>...</td>\n",
              "      <td>0</td>\n",
              "      <td>1</td>\n",
              "      <td>0</td>\n",
              "      <td>0</td>\n",
              "      <td>0</td>\n",
              "      <td>0</td>\n",
              "      <td>0</td>\n",
              "      <td>0</td>\n",
              "      <td>0</td>\n",
              "      <td>0</td>\n",
              "      <td>0</td>\n",
              "      <td>0</td>\n",
              "      <td>0</td>\n",
              "      <td>0</td>\n",
              "      <td>0</td>\n",
              "      <td>1</td>\n",
              "      <td>0</td>\n",
              "      <td>0</td>\n",
              "      <td>0</td>\n",
              "      <td>0</td>\n",
              "      <td>0</td>\n",
              "      <td>0</td>\n",
              "      <td>0</td>\n",
              "      <td>0</td>\n",
              "      <td>0</td>\n",
              "      <td>0</td>\n",
              "      <td>0</td>\n",
              "      <td>0</td>\n",
              "      <td>0</td>\n",
              "      <td>0</td>\n",
              "      <td>0</td>\n",
              "      <td>0</td>\n",
              "      <td>0</td>\n",
              "      <td>0</td>\n",
              "      <td>0</td>\n",
              "      <td>0</td>\n",
              "      <td>0</td>\n",
              "      <td>0</td>\n",
              "      <td>0</td>\n",
              "      <td>1</td>\n",
              "    </tr>\n",
              "  </tbody>\n",
              "</table>\n",
              "<p>5 rows × 828 columns</p>\n",
              "</div>"
            ],
            "text/plain": [
              "      lotid  finishedarea  latitude  ...  roomnum_13  roomnum_14  taxyear_2016\n",
              "0  17214744        1255.0  34191029  ...           0           0             0\n",
              "1  12018724        1033.0  34092200  ...           0           0             0\n",
              "3  11047729        1757.0  34252019  ...           0           0             0\n",
              "5  14305657        1641.0  33681662  ...           0           0             0\n",
              "6  11016338        1663.0  34284508  ...           0           0             1\n",
              "\n",
              "[5 rows x 828 columns]"
            ]
          },
          "metadata": {},
          "execution_count": 232
        }
      ]
    },
    {
      "cell_type": "code",
      "metadata": {
        "id": "b8bBy9fpwfn2",
        "colab": {
          "base_uri": "https://localhost:8080/"
        },
        "outputId": "a542d685-b143-4210-99a3-96494442e9ad"
      },
      "source": [
        "train_dummies.shape"
      ],
      "execution_count": 233,
      "outputs": [
        {
          "output_type": "execute_result",
          "data": {
            "text/plain": [
              "(16385, 828)"
            ]
          },
          "metadata": {},
          "execution_count": 233
        }
      ]
    },
    {
      "cell_type": "code",
      "metadata": {
        "id": "YRAlcfbxwfn3",
        "colab": {
          "base_uri": "https://localhost:8080/"
        },
        "outputId": "0c46ca58-151c-49f6-d072-d8d62df8e967"
      },
      "source": [
        "train_dummies.columns"
      ],
      "execution_count": 234,
      "outputs": [
        {
          "output_type": "execute_result",
          "data": {
            "text/plain": [
              "Index(['lotid', 'finishedarea', 'latitude', 'longitude', 'lotarea', 'year',\n",
              "       'parcelvalue', 'countycode_6059', 'countycode_6111', 'heatingtype_13.0',\n",
              "       ...\n",
              "       'roomnum_6', 'roomnum_7', 'roomnum_8', 'roomnum_9', 'roomnum_10',\n",
              "       'roomnum_11', 'roomnum_12', 'roomnum_13', 'roomnum_14', 'taxyear_2016'],\n",
              "      dtype='object', length=828)"
            ]
          },
          "metadata": {},
          "execution_count": 234
        }
      ]
    },
    {
      "cell_type": "markdown",
      "metadata": {
        "id": "Mll8QD88wfn3"
      },
      "source": [
        "# *Version A: Simple Linear Regression*\n",
        "\n",
        "**Step 4: Build your model and get predictions from train data**"
      ]
    },
    {
      "cell_type": "code",
      "metadata": {
        "id": "Yw8otDpef-cq"
      },
      "source": [
        "# Create variables\n",
        "y2 = train_dummies['parcelvalue']\n",
        "y2 = np.array(y2).reshape(-1, 1)\n",
        "\n",
        "X2 = train_dummies.drop(columns=['parcelvalue'])\n",
        "X2 = np.array(X2).reshape(16385, -1)\n",
        "\n",
        "#X2.shape\n",
        "#y2.shape"
      ],
      "execution_count": 235,
      "outputs": []
    },
    {
      "cell_type": "code",
      "metadata": {
        "id": "YIfc725jwfn4"
      },
      "source": [
        "# Fitting simple linear regression to training data set\n",
        "regr.fit(X2, y2)\n",
        "\n",
        "# Predicting the prices\n",
        "y2_pred = regr.predict(X2)"
      ],
      "execution_count": 236,
      "outputs": []
    },
    {
      "cell_type": "markdown",
      "metadata": {
        "id": "S_iISEYRwfn4"
      },
      "source": [
        "**Step 5: Assess expected accuracy**"
      ]
    },
    {
      "cell_type": "code",
      "metadata": {
        "id": "Rmk1kJJwwfn4",
        "colab": {
          "base_uri": "https://localhost:8080/",
          "height": 311
        },
        "outputId": "06949bf8-4967-4473-c7c8-0bed27e4df91"
      },
      "source": [
        "# Check in-sample performance\n",
        "plt.figure()\n",
        "plt.scatter(x=y2, y=y2_pred) \n",
        "plt.plot(y2,y2,c=\"red\")\n",
        "rho2 = sklearn.metrics.r2_score(y2,y2_pred)\n",
        "plt.title('R-squared equals %.10f' % rho2)"
      ],
      "execution_count": 237,
      "outputs": [
        {
          "output_type": "execute_result",
          "data": {
            "text/plain": [
              "Text(0.5, 1.0, 'R-squared equals 0.6434448960')"
            ]
          },
          "metadata": {},
          "execution_count": 237
        },
        {
          "output_type": "display_data",
          "data": {
            "image/png": "[encoded data removed]",
            "text/plain": [
              "<Figure size 432x288 with 1 Axes>"
            ]
          },
          "metadata": {
            "needs_background": "light"
          }
        }
      ]
    },
    {
      "cell_type": "markdown",
      "metadata": {
        "id": "-wHIgTbJwfn5"
      },
      "source": [
        "# *Version B: Lasso Regression*\n",
        "    \n",
        "**Step 4: Build your model and get predictions from train data**"
      ]
    },
    {
      "cell_type": "code",
      "metadata": {
        "id": "c1CwNTZUwfn5"
      },
      "source": [
        "# Standardisation of predictors\n",
        "from sklearn import preprocessing\n",
        "scaler = preprocessing.StandardScaler() ## Instantiate scaler\n",
        "scaler.fit(X2) ## Fit to training set\n",
        "X2 = scaler.transform(X2)"
      ],
      "execution_count": 238,
      "outputs": []
    },
    {
      "cell_type": "code",
      "metadata": {
        "colab": {
          "base_uri": "https://localhost:8080/"
        },
        "id": "5daAWg9iWwhQ",
        "outputId": "5097d6e6-14a3-42d1-bba8-b300372c67ee"
      },
      "source": [
        "# LASSO regression with AIC criterion\n",
        "from sklearn.linear_model import LassoLarsIC\n",
        "regr_aic = LassoLarsIC(criterion=\"aic\", normalize=False, max_iter=10000)\n",
        "regr_aic.fit(X2, y2)\n",
        "alpha2_aic = regr_aic.alpha_\n",
        "print(\"Alpha:\", alpha2_aic)\n",
        "#print(regr_aic.coef_)"
      ],
      "execution_count": 239,
      "outputs": [
        {
          "output_type": "stream",
          "name": "stderr",
          "text": [
            "/usr/local/lib/python3.7/dist-packages/sklearn/utils/validation.py:760: DataConversionWarning: A column-vector y was passed when a 1d array was expected. Please change the shape of y to (n_samples, ), for example using ravel().\n",
            "  y = column_or_1d(y, warn=True)\n"
          ]
        },
        {
          "output_type": "stream",
          "name": "stdout",
          "text": [
            "Alpha: 26998.77553004444\n"
          ]
        },
        {
          "output_type": "stream",
          "name": "stderr",
          "text": [
            "/usr/local/lib/python3.7/dist-packages/sklearn/linear_model/_least_angle.py:582: ConvergenceWarning: Regressors in active set degenerate. Dropping a regressor, after 29 iterations, i.e. alpha=2.891e+04, with an active set of 29 regressors, and the smallest cholesky pivot element being 2.220e-16. Reduce max_iter or increase eps parameters.\n",
            "  ConvergenceWarning)\n",
            "/usr/local/lib/python3.7/dist-packages/sklearn/linear_model/_least_angle.py:608: ConvergenceWarning: Early stopping the lars path, as the residues are small and the current value of alpha is no longer well controlled. 34 iterations, alpha=2.700e+04, previous alpha=2.665e+04, with an active set of 35 regressors.\n",
            "  ConvergenceWarning)\n"
          ]
        }
      ]
    },
    {
      "cell_type": "markdown",
      "metadata": {
        "id": "0i-Zwbfiwfn5"
      },
      "source": [
        "**Step 5: Assess expected accuracy**"
      ]
    },
    {
      "cell_type": "code",
      "metadata": {
        "id": "--UW4jjiwfn6",
        "colab": {
          "base_uri": "https://localhost:8080/",
          "height": 311
        },
        "outputId": "b0f257a6-96b0-4ab7-c8e1-2bad1932227e"
      },
      "source": [
        "# In-sample\n",
        "y2_pred_aic = regr_aic.predict(X2)\n",
        "\n",
        "plt.figure()\n",
        "plt.scatter(x=y2, y=y2_pred_aic) \n",
        "plt.plot(y2,y2,c=\"red\")\n",
        "rho2 = sklearn.metrics.r2_score(y2,y2_pred_aic)\n",
        "plt.title('R-squared equals %.10f' % rho2)"
      ],
      "execution_count": 240,
      "outputs": [
        {
          "output_type": "execute_result",
          "data": {
            "text/plain": [
              "Text(0.5, 1.0, 'R-squared equals 0.5869954615')"
            ]
          },
          "metadata": {},
          "execution_count": 240
        },
        {
          "output_type": "display_data",
          "data": {
            "image/png": "[encoded data removed]",
            "text/plain": [
              "<Figure size 432x288 with 1 Axes>"
            ]
          },
          "metadata": {
            "needs_background": "light"
          }
        }
      ]
    },
    {
      "cell_type": "code",
      "metadata": {
        "id": "BKFc9o9Wwfn6",
        "colab": {
          "base_uri": "https://localhost:8080/",
          "height": 1000
        },
        "outputId": "32bc7b73-e60e-4699-89ac-153405ea5842"
      },
      "source": [
        "# Out-of-sample\n",
        "from sklearn.model_selection import cross_val_predict as cvp\n",
        "\n",
        "y2_pred_cv = cvp(regr_aic, X2, y2, cv=5)\n",
        "\n",
        "plt.figure()\n",
        "plt.scatter(x=y2,y=y2_pred_cv) \n",
        "plt.plot(y2,y2,c=\"red\")\n",
        "rho2 = sklearn.metrics.r2_score(y2,y2_pred_cv)\n",
        "plt.title('R-squared equals %.10f' %rho2)"
      ],
      "execution_count": 241,
      "outputs": [
        {
          "output_type": "stream",
          "name": "stderr",
          "text": [
            "/usr/local/lib/python3.7/dist-packages/sklearn/utils/validation.py:760: DataConversionWarning: A column-vector y was passed when a 1d array was expected. Please change the shape of y to (n_samples, ), for example using ravel().\n",
            "  y = column_or_1d(y, warn=True)\n",
            "/usr/local/lib/python3.7/dist-packages/sklearn/linear_model/_least_angle.py:608: ConvergenceWarning: Early stopping the lars path, as the residues are small and the current value of alpha is no longer well controlled. 27 iterations, alpha=3.466e+04, previous alpha=3.465e+04, with an active set of 28 regressors.\n",
            "  ConvergenceWarning)\n",
            "/usr/local/lib/python3.7/dist-packages/sklearn/utils/validation.py:760: DataConversionWarning: A column-vector y was passed when a 1d array was expected. Please change the shape of y to (n_samples, ), for example using ravel().\n",
            "  y = column_or_1d(y, warn=True)\n",
            "/usr/local/lib/python3.7/dist-packages/sklearn/linear_model/_least_angle.py:582: ConvergenceWarning: Regressors in active set degenerate. Dropping a regressor, after 16 iterations, i.e. alpha=5.150e+04, with an active set of 16 regressors, and the smallest cholesky pivot element being 2.220e-16. Reduce max_iter or increase eps parameters.\n",
            "  ConvergenceWarning)\n",
            "/usr/local/lib/python3.7/dist-packages/sklearn/linear_model/_least_angle.py:582: ConvergenceWarning: Regressors in active set degenerate. Dropping a regressor, after 25 iterations, i.e. alpha=3.793e+04, with an active set of 25 regressors, and the smallest cholesky pivot element being 2.220e-16. Reduce max_iter or increase eps parameters.\n",
            "  ConvergenceWarning)\n",
            "/usr/local/lib/python3.7/dist-packages/sklearn/linear_model/_least_angle.py:582: ConvergenceWarning: Regressors in active set degenerate. Dropping a regressor, after 97 iterations, i.e. alpha=9.969e+03, with an active set of 93 regressors, and the smallest cholesky pivot element being 2.220e-16. Reduce max_iter or increase eps parameters.\n",
            "  ConvergenceWarning)\n",
            "/usr/local/lib/python3.7/dist-packages/sklearn/linear_model/_least_angle.py:582: ConvergenceWarning: Regressors in active set degenerate. Dropping a regressor, after 101 iterations, i.e. alpha=9.414e+03, with an active set of 97 regressors, and the smallest cholesky pivot element being 2.220e-16. Reduce max_iter or increase eps parameters.\n",
            "  ConvergenceWarning)\n",
            "/usr/local/lib/python3.7/dist-packages/sklearn/linear_model/_least_angle.py:608: ConvergenceWarning: Early stopping the lars path, as the residues are small and the current value of alpha is no longer well controlled. 106 iterations, alpha=9.318e+03, previous alpha=9.156e+03, with an active set of 99 regressors.\n",
            "  ConvergenceWarning)\n",
            "/usr/local/lib/python3.7/dist-packages/sklearn/utils/validation.py:760: DataConversionWarning: A column-vector y was passed when a 1d array was expected. Please change the shape of y to (n_samples, ), for example using ravel().\n",
            "  y = column_or_1d(y, warn=True)\n",
            "/usr/local/lib/python3.7/dist-packages/sklearn/linear_model/_least_angle.py:608: ConvergenceWarning: Early stopping the lars path, as the residues are small and the current value of alpha is no longer well controlled. 75 iterations, alpha=1.186e+04, previous alpha=1.186e+04, with an active set of 68 regressors.\n",
            "  ConvergenceWarning)\n",
            "/usr/local/lib/python3.7/dist-packages/sklearn/utils/validation.py:760: DataConversionWarning: A column-vector y was passed when a 1d array was expected. Please change the shape of y to (n_samples, ), for example using ravel().\n",
            "  y = column_or_1d(y, warn=True)\n",
            "/usr/local/lib/python3.7/dist-packages/sklearn/linear_model/_least_angle.py:582: ConvergenceWarning: Regressors in active set degenerate. Dropping a regressor, after 2 iterations, i.e. alpha=1.198e+05, with an active set of 2 regressors, and the smallest cholesky pivot element being 2.220e-16. Reduce max_iter or increase eps parameters.\n",
            "  ConvergenceWarning)\n",
            "/usr/local/lib/python3.7/dist-packages/sklearn/linear_model/_least_angle.py:582: ConvergenceWarning: Regressors in active set degenerate. Dropping a regressor, after 5 iterations, i.e. alpha=8.963e+04, with an active set of 5 regressors, and the smallest cholesky pivot element being 2.220e-16. Reduce max_iter or increase eps parameters.\n",
            "  ConvergenceWarning)\n",
            "/usr/local/lib/python3.7/dist-packages/sklearn/linear_model/_least_angle.py:582: ConvergenceWarning: Regressors in active set degenerate. Dropping a regressor, after 20 iterations, i.e. alpha=4.107e+04, with an active set of 20 regressors, and the smallest cholesky pivot element being 2.220e-16. Reduce max_iter or increase eps parameters.\n",
            "  ConvergenceWarning)\n",
            "/usr/local/lib/python3.7/dist-packages/sklearn/linear_model/_least_angle.py:582: ConvergenceWarning: Regressors in active set degenerate. Dropping a regressor, after 32 iterations, i.e. alpha=2.479e+04, with an active set of 32 regressors, and the smallest cholesky pivot element being 2.220e-16. Reduce max_iter or increase eps parameters.\n",
            "  ConvergenceWarning)\n",
            "/usr/local/lib/python3.7/dist-packages/sklearn/linear_model/_least_angle.py:582: ConvergenceWarning: Regressors in active set degenerate. Dropping a regressor, after 34 iterations, i.e. alpha=2.445e+04, with an active set of 34 regressors, and the smallest cholesky pivot element being 2.220e-16. Reduce max_iter or increase eps parameters.\n",
            "  ConvergenceWarning)\n",
            "/usr/local/lib/python3.7/dist-packages/sklearn/linear_model/_least_angle.py:582: ConvergenceWarning: Regressors in active set degenerate. Dropping a regressor, after 42 iterations, i.e. alpha=2.042e+04, with an active set of 42 regressors, and the smallest cholesky pivot element being 2.220e-16. Reduce max_iter or increase eps parameters.\n",
            "  ConvergenceWarning)\n",
            "/usr/local/lib/python3.7/dist-packages/sklearn/linear_model/_least_angle.py:582: ConvergenceWarning: Regressors in active set degenerate. Dropping a regressor, after 71 iterations, i.e. alpha=1.436e+04, with an active set of 71 regressors, and the smallest cholesky pivot element being 2.220e-16. Reduce max_iter or increase eps parameters.\n",
            "  ConvergenceWarning)\n",
            "/usr/local/lib/python3.7/dist-packages/sklearn/linear_model/_least_angle.py:608: ConvergenceWarning: Early stopping the lars path, as the residues are small and the current value of alpha is no longer well controlled. 82 iterations, alpha=1.328e+04, previous alpha=1.314e+04, with an active set of 81 regressors.\n",
            "  ConvergenceWarning)\n",
            "/usr/local/lib/python3.7/dist-packages/sklearn/utils/validation.py:760: DataConversionWarning: A column-vector y was passed when a 1d array was expected. Please change the shape of y to (n_samples, ), for example using ravel().\n",
            "  y = column_or_1d(y, warn=True)\n",
            "/usr/local/lib/python3.7/dist-packages/sklearn/linear_model/_least_angle.py:582: ConvergenceWarning: Regressors in active set degenerate. Dropping a regressor, after 39 iterations, i.e. alpha=2.305e+04, with an active set of 37 regressors, and the smallest cholesky pivot element being 2.220e-16. Reduce max_iter or increase eps parameters.\n",
            "  ConvergenceWarning)\n",
            "/usr/local/lib/python3.7/dist-packages/sklearn/linear_model/_least_angle.py:608: ConvergenceWarning: Early stopping the lars path, as the residues are small and the current value of alpha is no longer well controlled. 62 iterations, alpha=1.308e+04, previous alpha=1.300e+04, with an active set of 55 regressors.\n",
            "  ConvergenceWarning)\n"
          ]
        },
        {
          "output_type": "execute_result",
          "data": {
            "text/plain": [
              "Text(0.5, 1.0, 'R-squared equals 0.5391273447')"
            ]
          },
          "metadata": {},
          "execution_count": 241
        },
        {
          "output_type": "display_data",
          "data": {
            "image/png": "[encoded data removed]",
            "text/plain": [
              "<Figure size 432x288 with 1 Axes>"
            ]
          },
          "metadata": {
            "needs_background": "light"
          }
        }
      ]
    },
    {
      "cell_type": "markdown",
      "metadata": {
        "id": "w5KwGm-tZVMK"
      },
      "source": [
        "**Step 6: Report variable impact**"
      ]
    },
    {
      "cell_type": "code",
      "metadata": {
        "id": "xoV3imfef-cq",
        "colab": {
          "base_uri": "https://localhost:8080/",
          "height": 221
        },
        "outputId": "f8398a58-ac82-48cb-a89a-762b32230f19"
      },
      "source": [
        "# Create DataFrame of regression outputs\n",
        "var = list(train_dummies.columns)\n",
        "beta = list(regr_aic.coef_)\n",
        "coef_tuples = list(zip(var,beta))\n",
        "coef_df = pd.DataFrame(coef_tuples, columns=['Feature','Coefficient'])\n",
        "coef_df = coef_df[coef_df['Coefficient'] != 0]\n",
        "coef_df.sort_values(by=['Coefficient'], key=pd.Series.abs, inplace=True, ascending=False, ignore_index=True)\n",
        "\n",
        "print(\"The 5 most impactful variables are:\")\n",
        "coef_df.head(5)\n"
      ],
      "execution_count": 242,
      "outputs": [
        {
          "output_type": "stream",
          "name": "stdout",
          "text": [
            "The 5 most impactful variables are:\n"
          ]
        },
        {
          "output_type": "execute_result",
          "data": {
            "text/html": [
              "<div>\n",
              "<style scoped>\n",
              "    .dataframe tbody tr th:only-of-type {\n",
              "        vertical-align: middle;\n",
              "    }\n",
              "\n",
              "    .dataframe tbody tr th {\n",
              "        vertical-align: top;\n",
              "    }\n",
              "\n",
              "    .dataframe thead th {\n",
              "        text-align: right;\n",
              "    }\n",
              "</style>\n",
              "<table border=\"1\" class=\"dataframe\">\n",
              "  <thead>\n",
              "    <tr style=\"text-align: right;\">\n",
              "      <th></th>\n",
              "      <th>Feature</th>\n",
              "      <th>Coefficient</th>\n",
              "    </tr>\n",
              "  </thead>\n",
              "  <tbody>\n",
              "    <tr>\n",
              "      <th>0</th>\n",
              "      <td>finishedarea</td>\n",
              "      <td>412119.239892</td>\n",
              "    </tr>\n",
              "    <tr>\n",
              "      <th>1</th>\n",
              "      <td>numbath_10.0</td>\n",
              "      <td>117040.984410</td>\n",
              "    </tr>\n",
              "    <tr>\n",
              "      <th>2</th>\n",
              "      <td>neighborhoodcode_113886.0</td>\n",
              "      <td>72598.873154</td>\n",
              "    </tr>\n",
              "    <tr>\n",
              "      <th>3</th>\n",
              "      <td>regioncode_96116.0</td>\n",
              "      <td>47876.210714</td>\n",
              "    </tr>\n",
              "    <tr>\n",
              "      <th>4</th>\n",
              "      <td>regioncode_96072.0</td>\n",
              "      <td>47638.436951</td>\n",
              "    </tr>\n",
              "  </tbody>\n",
              "</table>\n",
              "</div>"
            ],
            "text/plain": [
              "                     Feature    Coefficient\n",
              "0               finishedarea  412119.239892\n",
              "1               numbath_10.0  117040.984410\n",
              "2  neighborhoodcode_113886.0   72598.873154\n",
              "3         regioncode_96116.0   47876.210714\n",
              "4         regioncode_96072.0   47638.436951"
            ]
          },
          "metadata": {},
          "execution_count": 242
        }
      ]
    },
    {
      "cell_type": "markdown",
      "metadata": {
        "id": "YV5yMUEtkLaL"
      },
      "source": [
        "# Version 3: Linear Regression with polynomial and log transformations"
      ]
    },
    {
      "cell_type": "markdown",
      "metadata": {
        "id": "SE5FruR2vaFG"
      },
      "source": [
        "The histogram of 'parcelvalue' does not show a normal distribution but is positively skewed. This indicates that the fit might be improved by taking the log or squareroot of parcelvalue.\n",
        "\n",
        "Similarly, we find non-linear relationships between our dependent variable and some of the regressors, as shown in the data exploration section.\n",
        "\n",
        "I transform these regressors to see if this improves my predictions."
      ]
    },
    {
      "cell_type": "code",
      "metadata": {
        "id": "d95nK_f_hBPy"
      },
      "source": [
        "train_new = train_dummies.copy()"
      ],
      "execution_count": 243,
      "outputs": []
    },
    {
      "cell_type": "code",
      "metadata": {
        "id": "YmIh8CeVBWNn",
        "colab": {
          "base_uri": "https://localhost:8080/",
          "height": 312
        },
        "outputId": "c3fd4a2e-f8b5-4526-ebdf-6a97cd1e0919"
      },
      "source": [
        "# Create a density plot of 'parcelvalue'\n",
        "sns.kdeplot(data=train_new, x=\"parcelvalue\").set(title=\"Density plot of 'parcelvalue'\")\n",
        "# 'parcelvalue' is not normally distributed, but positively skewed"
      ],
      "execution_count": 244,
      "outputs": [
        {
          "output_type": "execute_result",
          "data": {
            "text/plain": [
              "[Text(0.5, 1.0, \"Density plot of 'parcelvalue'\")]"
            ]
          },
          "metadata": {},
          "execution_count": 244
        },
        {
          "output_type": "display_data",
          "data": {
            "image/png": "[encoded data removed]",
            "text/plain": [
              "<Figure size 432x288 with 1 Axes>"
            ]
          },
          "metadata": {
            "needs_background": "light"
          }
        }
      ]
    },
    {
      "cell_type": "code",
      "metadata": {
        "colab": {
          "base_uri": "https://localhost:8080/",
          "height": 312
        },
        "id": "02PWdnA4DcPd",
        "outputId": "bbe17e11-4a42-4554-c587-25a016758200"
      },
      "source": [
        "# Adjust to logs/sqrt to remove skewness of dependent variable\n",
        "\n",
        "#train_new['logparcelvalue'] = np.log(train_new['parcelvalue']) ## sqrt and linear perform better\n",
        "train_new['sqrtparcelvalue'] = np.sqrt(train_new['parcelvalue']) ## this model performs best\n",
        "\n",
        "#sns.kdeplot(data=train_new, x=\"logparcelvalue\")\n",
        "# we see that logparcelvalue resembles a normal distribution\n",
        "\n",
        "sns.kdeplot(data=train_new, x=\"sqrtparcelvalue\").set(title=\"Density plot of the squareroot of 'parcelvalue'\")\n",
        "# taking the sqrt of parcelvalue removes some of the skewness but the distribution remains positively skewed"
      ],
      "execution_count": 245,
      "outputs": [
        {
          "output_type": "execute_result",
          "data": {
            "text/plain": [
              "[Text(0.5, 1.0, \"Density plot of the squareroot of 'parcelvalue'\")]"
            ]
          },
          "metadata": {},
          "execution_count": 245
        },
        {
          "output_type": "display_data",
          "data": {
            "image/png": "[encoded data removed]",
            "text/plain": [
              "<Figure size 432x288 with 1 Axes>"
            ]
          },
          "metadata": {
            "needs_background": "light"
          }
        }
      ]
    },
    {
      "cell_type": "code",
      "metadata": {
        "colab": {
          "base_uri": "https://localhost:8080/",
          "height": 253
        },
        "id": "gtpXsbLrpRXn",
        "outputId": "4f0de730-681e-4f86-89b7-8c830aa37236"
      },
      "source": [
        "train_new['latitude2'] = train_new['latitude']**2\n",
        "train_new['longitude2'] = train_new['longitude']**2\n",
        "#train_new['loglotarea'] = np.log(train_new['lotarea']) ## sqrt performs better\n",
        "train_new['sqrtlotarea'] = np.sqrt(train_new['lotarea'])\n",
        "#train_new['logfinishedarea'] = np.log(train_new['finishedarea']) ## linear performs better\n",
        "#train_new['sqrtfinishedarea'] = np.sqrt(train_new['finishedarea'])\n",
        "\n",
        "train_new = train_new.drop(columns=['parcelvalue', 'lotarea'])\n",
        "#train_new = train_new.drop(columns=['parcelvalue', 'lotarea', 'finishedarea'])\n",
        "\n",
        "train_new.head()"
      ],
      "execution_count": 246,
      "outputs": [
        {
          "output_type": "execute_result",
          "data": {
            "text/html": [
              "<div>\n",
              "<style scoped>\n",
              "    .dataframe tbody tr th:only-of-type {\n",
              "        vertical-align: middle;\n",
              "    }\n",
              "\n",
              "    .dataframe tbody tr th {\n",
              "        vertical-align: top;\n",
              "    }\n",
              "\n",
              "    .dataframe thead th {\n",
              "        text-align: right;\n",
              "    }\n",
              "</style>\n",
              "<table border=\"1\" class=\"dataframe\">\n",
              "  <thead>\n",
              "    <tr style=\"text-align: right;\">\n",
              "      <th></th>\n",
              "      <th>lotid</th>\n",
              "      <th>finishedarea</th>\n",
              "      <th>latitude</th>\n",
              "      <th>longitude</th>\n",
              "      <th>year</th>\n",
              "      <th>countycode_6059</th>\n",
              "      <th>countycode_6111</th>\n",
              "      <th>heatingtype_13.0</th>\n",
              "      <th>heatingtype_14.0</th>\n",
              "      <th>heatingtype_18.0</th>\n",
              "      <th>heatingtype_2.0</th>\n",
              "      <th>heatingtype_20.0</th>\n",
              "      <th>heatingtype_24.0</th>\n",
              "      <th>heatingtype_6.0</th>\n",
              "      <th>heatingtype_7.0</th>\n",
              "      <th>countycode2_2061</th>\n",
              "      <th>countycode2_3101</th>\n",
              "      <th>citycode_10608.0</th>\n",
              "      <th>citycode_10723.0</th>\n",
              "      <th>citycode_116042.0</th>\n",
              "      <th>citycode_118878.0</th>\n",
              "      <th>citycode_118994.0</th>\n",
              "      <th>citycode_12292.0</th>\n",
              "      <th>citycode_12447.0</th>\n",
              "      <th>citycode_12520.0</th>\n",
              "      <th>citycode_13150.0</th>\n",
              "      <th>citycode_16764.0</th>\n",
              "      <th>citycode_21412.0</th>\n",
              "      <th>citycode_24174.0</th>\n",
              "      <th>citycode_24812.0</th>\n",
              "      <th>citycode_24832.0</th>\n",
              "      <th>citycode_26531.0</th>\n",
              "      <th>citycode_26964.0</th>\n",
              "      <th>citycode_27183.0</th>\n",
              "      <th>citycode_30187.0</th>\n",
              "      <th>citycode_30908.0</th>\n",
              "      <th>citycode_33252.0</th>\n",
              "      <th>citycode_33311.0</th>\n",
              "      <th>citycode_33612.0</th>\n",
              "      <th>citycode_34278.0</th>\n",
              "      <th>...</th>\n",
              "      <th>numbedroom_6</th>\n",
              "      <th>numbedroom_7</th>\n",
              "      <th>numbedroom_8</th>\n",
              "      <th>numbedroom_9</th>\n",
              "      <th>numbedroom_10</th>\n",
              "      <th>numfireplace_1</th>\n",
              "      <th>numfireplace_2</th>\n",
              "      <th>numfireplace_3</th>\n",
              "      <th>numfireplace_4</th>\n",
              "      <th>numfireplace_5</th>\n",
              "      <th>numfullbath_2.0</th>\n",
              "      <th>numfullbath_3.0</th>\n",
              "      <th>numfullbath_4.0</th>\n",
              "      <th>numfullbath_5.0</th>\n",
              "      <th>numfullbath_6.0</th>\n",
              "      <th>numfullbath_7.0</th>\n",
              "      <th>numfullbath_8.0</th>\n",
              "      <th>numfullbath_9.0</th>\n",
              "      <th>numfullbath_10.0</th>\n",
              "      <th>numfullbath_11.0</th>\n",
              "      <th>numfullbath_13.0</th>\n",
              "      <th>numfullbath_19.0</th>\n",
              "      <th>roomnum_2</th>\n",
              "      <th>roomnum_3</th>\n",
              "      <th>roomnum_4</th>\n",
              "      <th>roomnum_5</th>\n",
              "      <th>roomnum_6</th>\n",
              "      <th>roomnum_7</th>\n",
              "      <th>roomnum_8</th>\n",
              "      <th>roomnum_9</th>\n",
              "      <th>roomnum_10</th>\n",
              "      <th>roomnum_11</th>\n",
              "      <th>roomnum_12</th>\n",
              "      <th>roomnum_13</th>\n",
              "      <th>roomnum_14</th>\n",
              "      <th>taxyear_2016</th>\n",
              "      <th>sqrtparcelvalue</th>\n",
              "      <th>latitude2</th>\n",
              "      <th>longitude2</th>\n",
              "      <th>sqrtlotarea</th>\n",
              "    </tr>\n",
              "  </thead>\n",
              "  <tbody>\n",
              "    <tr>\n",
              "      <th>0</th>\n",
              "      <td>17214744</td>\n",
              "      <td>1255.0</td>\n",
              "      <td>34191029</td>\n",
              "      <td>-118914689</td>\n",
              "      <td>1979.0</td>\n",
              "      <td>0</td>\n",
              "      <td>1</td>\n",
              "      <td>0</td>\n",
              "      <td>0</td>\n",
              "      <td>0</td>\n",
              "      <td>1</td>\n",
              "      <td>0</td>\n",
              "      <td>0</td>\n",
              "      <td>0</td>\n",
              "      <td>0</td>\n",
              "      <td>1</td>\n",
              "      <td>0</td>\n",
              "      <td>0</td>\n",
              "      <td>0</td>\n",
              "      <td>0</td>\n",
              "      <td>0</td>\n",
              "      <td>0</td>\n",
              "      <td>0</td>\n",
              "      <td>0</td>\n",
              "      <td>0</td>\n",
              "      <td>0</td>\n",
              "      <td>0</td>\n",
              "      <td>0</td>\n",
              "      <td>0</td>\n",
              "      <td>0</td>\n",
              "      <td>0</td>\n",
              "      <td>0</td>\n",
              "      <td>0</td>\n",
              "      <td>0</td>\n",
              "      <td>0</td>\n",
              "      <td>0</td>\n",
              "      <td>0</td>\n",
              "      <td>0</td>\n",
              "      <td>0</td>\n",
              "      <td>1</td>\n",
              "      <td>...</td>\n",
              "      <td>0</td>\n",
              "      <td>0</td>\n",
              "      <td>0</td>\n",
              "      <td>0</td>\n",
              "      <td>0</td>\n",
              "      <td>1</td>\n",
              "      <td>0</td>\n",
              "      <td>0</td>\n",
              "      <td>0</td>\n",
              "      <td>0</td>\n",
              "      <td>1</td>\n",
              "      <td>0</td>\n",
              "      <td>0</td>\n",
              "      <td>0</td>\n",
              "      <td>0</td>\n",
              "      <td>0</td>\n",
              "      <td>0</td>\n",
              "      <td>0</td>\n",
              "      <td>0</td>\n",
              "      <td>0</td>\n",
              "      <td>0</td>\n",
              "      <td>0</td>\n",
              "      <td>0</td>\n",
              "      <td>0</td>\n",
              "      <td>0</td>\n",
              "      <td>0</td>\n",
              "      <td>1</td>\n",
              "      <td>0</td>\n",
              "      <td>0</td>\n",
              "      <td>0</td>\n",
              "      <td>0</td>\n",
              "      <td>0</td>\n",
              "      <td>0</td>\n",
              "      <td>0</td>\n",
              "      <td>0</td>\n",
              "      <td>0</td>\n",
              "      <td>377.110064</td>\n",
              "      <td>1169026464078841</td>\n",
              "      <td>14140703259966721</td>\n",
              "      <td>111.789982</td>\n",
              "    </tr>\n",
              "    <tr>\n",
              "      <th>1</th>\n",
              "      <td>12018724</td>\n",
              "      <td>1033.0</td>\n",
              "      <td>34092200</td>\n",
              "      <td>-118374000</td>\n",
              "      <td>1973.0</td>\n",
              "      <td>0</td>\n",
              "      <td>0</td>\n",
              "      <td>0</td>\n",
              "      <td>0</td>\n",
              "      <td>0</td>\n",
              "      <td>1</td>\n",
              "      <td>0</td>\n",
              "      <td>0</td>\n",
              "      <td>0</td>\n",
              "      <td>0</td>\n",
              "      <td>0</td>\n",
              "      <td>1</td>\n",
              "      <td>0</td>\n",
              "      <td>0</td>\n",
              "      <td>0</td>\n",
              "      <td>0</td>\n",
              "      <td>0</td>\n",
              "      <td>0</td>\n",
              "      <td>0</td>\n",
              "      <td>0</td>\n",
              "      <td>0</td>\n",
              "      <td>0</td>\n",
              "      <td>0</td>\n",
              "      <td>0</td>\n",
              "      <td>0</td>\n",
              "      <td>0</td>\n",
              "      <td>0</td>\n",
              "      <td>0</td>\n",
              "      <td>0</td>\n",
              "      <td>0</td>\n",
              "      <td>0</td>\n",
              "      <td>0</td>\n",
              "      <td>0</td>\n",
              "      <td>0</td>\n",
              "      <td>0</td>\n",
              "      <td>...</td>\n",
              "      <td>0</td>\n",
              "      <td>0</td>\n",
              "      <td>0</td>\n",
              "      <td>0</td>\n",
              "      <td>0</td>\n",
              "      <td>0</td>\n",
              "      <td>0</td>\n",
              "      <td>0</td>\n",
              "      <td>0</td>\n",
              "      <td>0</td>\n",
              "      <td>1</td>\n",
              "      <td>0</td>\n",
              "      <td>0</td>\n",
              "      <td>0</td>\n",
              "      <td>0</td>\n",
              "      <td>0</td>\n",
              "      <td>0</td>\n",
              "      <td>0</td>\n",
              "      <td>0</td>\n",
              "      <td>0</td>\n",
              "      <td>0</td>\n",
              "      <td>0</td>\n",
              "      <td>0</td>\n",
              "      <td>0</td>\n",
              "      <td>0</td>\n",
              "      <td>0</td>\n",
              "      <td>0</td>\n",
              "      <td>0</td>\n",
              "      <td>0</td>\n",
              "      <td>0</td>\n",
              "      <td>0</td>\n",
              "      <td>0</td>\n",
              "      <td>0</td>\n",
              "      <td>0</td>\n",
              "      <td>0</td>\n",
              "      <td>0</td>\n",
              "      <td>548.763155</td>\n",
              "      <td>1162278100840000</td>\n",
              "      <td>14012403876000000</td>\n",
              "      <td>143.272468</td>\n",
              "    </tr>\n",
              "    <tr>\n",
              "      <th>3</th>\n",
              "      <td>11047729</td>\n",
              "      <td>1757.0</td>\n",
              "      <td>34252019</td>\n",
              "      <td>-118467570</td>\n",
              "      <td>1952.0</td>\n",
              "      <td>0</td>\n",
              "      <td>0</td>\n",
              "      <td>0</td>\n",
              "      <td>0</td>\n",
              "      <td>0</td>\n",
              "      <td>1</td>\n",
              "      <td>0</td>\n",
              "      <td>0</td>\n",
              "      <td>0</td>\n",
              "      <td>0</td>\n",
              "      <td>0</td>\n",
              "      <td>1</td>\n",
              "      <td>0</td>\n",
              "      <td>0</td>\n",
              "      <td>0</td>\n",
              "      <td>0</td>\n",
              "      <td>0</td>\n",
              "      <td>0</td>\n",
              "      <td>1</td>\n",
              "      <td>0</td>\n",
              "      <td>0</td>\n",
              "      <td>0</td>\n",
              "      <td>0</td>\n",
              "      <td>0</td>\n",
              "      <td>0</td>\n",
              "      <td>0</td>\n",
              "      <td>0</td>\n",
              "      <td>0</td>\n",
              "      <td>0</td>\n",
              "      <td>0</td>\n",
              "      <td>0</td>\n",
              "      <td>0</td>\n",
              "      <td>0</td>\n",
              "      <td>0</td>\n",
              "      <td>0</td>\n",
              "      <td>...</td>\n",
              "      <td>0</td>\n",
              "      <td>0</td>\n",
              "      <td>0</td>\n",
              "      <td>0</td>\n",
              "      <td>0</td>\n",
              "      <td>0</td>\n",
              "      <td>0</td>\n",
              "      <td>0</td>\n",
              "      <td>0</td>\n",
              "      <td>0</td>\n",
              "      <td>1</td>\n",
              "      <td>0</td>\n",
              "      <td>0</td>\n",
              "      <td>0</td>\n",
              "      <td>0</td>\n",
              "      <td>0</td>\n",
              "      <td>0</td>\n",
              "      <td>0</td>\n",
              "      <td>0</td>\n",
              "      <td>0</td>\n",
              "      <td>0</td>\n",
              "      <td>0</td>\n",
              "      <td>0</td>\n",
              "      <td>0</td>\n",
              "      <td>0</td>\n",
              "      <td>0</td>\n",
              "      <td>0</td>\n",
              "      <td>0</td>\n",
              "      <td>0</td>\n",
              "      <td>0</td>\n",
              "      <td>0</td>\n",
              "      <td>0</td>\n",
              "      <td>0</td>\n",
              "      <td>0</td>\n",
              "      <td>0</td>\n",
              "      <td>0</td>\n",
              "      <td>520.137482</td>\n",
              "      <td>1173200805576361</td>\n",
              "      <td>14034565141704900</td>\n",
              "      <td>92.800862</td>\n",
              "    </tr>\n",
              "    <tr>\n",
              "      <th>5</th>\n",
              "      <td>14305657</td>\n",
              "      <td>1641.0</td>\n",
              "      <td>33681662</td>\n",
              "      <td>-117802630</td>\n",
              "      <td>1976.0</td>\n",
              "      <td>1</td>\n",
              "      <td>0</td>\n",
              "      <td>0</td>\n",
              "      <td>0</td>\n",
              "      <td>0</td>\n",
              "      <td>1</td>\n",
              "      <td>0</td>\n",
              "      <td>0</td>\n",
              "      <td>0</td>\n",
              "      <td>0</td>\n",
              "      <td>0</td>\n",
              "      <td>0</td>\n",
              "      <td>0</td>\n",
              "      <td>0</td>\n",
              "      <td>0</td>\n",
              "      <td>0</td>\n",
              "      <td>0</td>\n",
              "      <td>0</td>\n",
              "      <td>0</td>\n",
              "      <td>0</td>\n",
              "      <td>0</td>\n",
              "      <td>0</td>\n",
              "      <td>0</td>\n",
              "      <td>0</td>\n",
              "      <td>0</td>\n",
              "      <td>0</td>\n",
              "      <td>0</td>\n",
              "      <td>0</td>\n",
              "      <td>0</td>\n",
              "      <td>0</td>\n",
              "      <td>0</td>\n",
              "      <td>0</td>\n",
              "      <td>0</td>\n",
              "      <td>0</td>\n",
              "      <td>0</td>\n",
              "      <td>...</td>\n",
              "      <td>0</td>\n",
              "      <td>0</td>\n",
              "      <td>0</td>\n",
              "      <td>0</td>\n",
              "      <td>0</td>\n",
              "      <td>1</td>\n",
              "      <td>0</td>\n",
              "      <td>0</td>\n",
              "      <td>0</td>\n",
              "      <td>0</td>\n",
              "      <td>1</td>\n",
              "      <td>0</td>\n",
              "      <td>0</td>\n",
              "      <td>0</td>\n",
              "      <td>0</td>\n",
              "      <td>0</td>\n",
              "      <td>0</td>\n",
              "      <td>0</td>\n",
              "      <td>0</td>\n",
              "      <td>0</td>\n",
              "      <td>0</td>\n",
              "      <td>0</td>\n",
              "      <td>0</td>\n",
              "      <td>0</td>\n",
              "      <td>0</td>\n",
              "      <td>0</td>\n",
              "      <td>1</td>\n",
              "      <td>0</td>\n",
              "      <td>0</td>\n",
              "      <td>0</td>\n",
              "      <td>0</td>\n",
              "      <td>0</td>\n",
              "      <td>0</td>\n",
              "      <td>0</td>\n",
              "      <td>0</td>\n",
              "      <td>0</td>\n",
              "      <td>819.310076</td>\n",
              "      <td>1134454355082244</td>\n",
              "      <td>13877459634916900</td>\n",
              "      <td>70.611614</td>\n",
              "    </tr>\n",
              "    <tr>\n",
              "      <th>6</th>\n",
              "      <td>11016338</td>\n",
              "      <td>1663.0</td>\n",
              "      <td>34284508</td>\n",
              "      <td>-118493574</td>\n",
              "      <td>1961.0</td>\n",
              "      <td>0</td>\n",
              "      <td>0</td>\n",
              "      <td>0</td>\n",
              "      <td>0</td>\n",
              "      <td>0</td>\n",
              "      <td>1</td>\n",
              "      <td>0</td>\n",
              "      <td>0</td>\n",
              "      <td>0</td>\n",
              "      <td>0</td>\n",
              "      <td>0</td>\n",
              "      <td>1</td>\n",
              "      <td>0</td>\n",
              "      <td>0</td>\n",
              "      <td>0</td>\n",
              "      <td>0</td>\n",
              "      <td>0</td>\n",
              "      <td>0</td>\n",
              "      <td>1</td>\n",
              "      <td>0</td>\n",
              "      <td>0</td>\n",
              "      <td>0</td>\n",
              "      <td>0</td>\n",
              "      <td>0</td>\n",
              "      <td>0</td>\n",
              "      <td>0</td>\n",
              "      <td>0</td>\n",
              "      <td>0</td>\n",
              "      <td>0</td>\n",
              "      <td>0</td>\n",
              "      <td>0</td>\n",
              "      <td>0</td>\n",
              "      <td>0</td>\n",
              "      <td>0</td>\n",
              "      <td>0</td>\n",
              "      <td>...</td>\n",
              "      <td>0</td>\n",
              "      <td>0</td>\n",
              "      <td>0</td>\n",
              "      <td>0</td>\n",
              "      <td>0</td>\n",
              "      <td>0</td>\n",
              "      <td>0</td>\n",
              "      <td>0</td>\n",
              "      <td>0</td>\n",
              "      <td>0</td>\n",
              "      <td>0</td>\n",
              "      <td>1</td>\n",
              "      <td>0</td>\n",
              "      <td>0</td>\n",
              "      <td>0</td>\n",
              "      <td>0</td>\n",
              "      <td>0</td>\n",
              "      <td>0</td>\n",
              "      <td>0</td>\n",
              "      <td>0</td>\n",
              "      <td>0</td>\n",
              "      <td>0</td>\n",
              "      <td>0</td>\n",
              "      <td>0</td>\n",
              "      <td>0</td>\n",
              "      <td>0</td>\n",
              "      <td>0</td>\n",
              "      <td>0</td>\n",
              "      <td>0</td>\n",
              "      <td>0</td>\n",
              "      <td>0</td>\n",
              "      <td>0</td>\n",
              "      <td>0</td>\n",
              "      <td>0</td>\n",
              "      <td>0</td>\n",
              "      <td>1</td>\n",
              "      <td>602.929515</td>\n",
              "      <td>1175427488802064</td>\n",
              "      <td>14040727079293476</td>\n",
              "      <td>110.009091</td>\n",
              "    </tr>\n",
              "  </tbody>\n",
              "</table>\n",
              "<p>5 rows × 830 columns</p>\n",
              "</div>"
            ],
            "text/plain": [
              "      lotid  finishedarea  ...         longitude2  sqrtlotarea\n",
              "0  17214744        1255.0  ...  14140703259966721   111.789982\n",
              "1  12018724        1033.0  ...  14012403876000000   143.272468\n",
              "3  11047729        1757.0  ...  14034565141704900    92.800862\n",
              "5  14305657        1641.0  ...  13877459634916900    70.611614\n",
              "6  11016338        1663.0  ...  14040727079293476   110.009091\n",
              "\n",
              "[5 rows x 830 columns]"
            ]
          },
          "metadata": {},
          "execution_count": 246
        }
      ]
    },
    {
      "cell_type": "markdown",
      "metadata": {
        "id": "2fNIhZoS4Oin"
      },
      "source": [
        "**Step 4: Build your model and get predictions from train data**"
      ]
    },
    {
      "cell_type": "code",
      "metadata": {
        "colab": {
          "base_uri": "https://localhost:8080/"
        },
        "id": "WVHk9-jk3Tes",
        "outputId": "992d9ba7-6748-49a5-ba63-49b1d83c7f49"
      },
      "source": [
        "# Create variables\n",
        "#y3 = train_new['logparcelvalue']\n",
        "y3 = train_new['sqrtparcelvalue']\n",
        "y3 = np.array(y3).reshape(-1, 1)\n",
        "\n",
        "#X3 = train_new.drop(columns=['logparcelvalue'])\n",
        "X3 = train_new.drop(columns=['sqrtparcelvalue'])\n",
        "X3 = np.array(X3).reshape(16385, -1)\n",
        "X3.shape"
      ],
      "execution_count": 247,
      "outputs": [
        {
          "output_type": "execute_result",
          "data": {
            "text/plain": [
              "(16385, 829)"
            ]
          },
          "metadata": {},
          "execution_count": 247
        }
      ]
    },
    {
      "cell_type": "code",
      "metadata": {
        "id": "_mu5Jfg-aKqr",
        "colab": {
          "base_uri": "https://localhost:8080/"
        },
        "outputId": "b6956d10-c3dd-41b1-bece-35295d9f68e2"
      },
      "source": [
        "# Standardise predictors\n",
        "scaler.fit(X3)## Fit to training set\n",
        "X3 = scaler.transform(X3)\n",
        "\n",
        "regr_aic = LassoLarsIC(criterion=\"aic\", normalize=False, max_iter=10000)\n",
        "regr_aic.fit(X3, y3)\n",
        "alpha3_aic = regr_aic.alpha_\n",
        "print(\"Alpha:\", alpha3_aic)\n"
      ],
      "execution_count": 248,
      "outputs": [
        {
          "output_type": "stream",
          "name": "stderr",
          "text": [
            "/usr/local/lib/python3.7/dist-packages/sklearn/utils/validation.py:760: DataConversionWarning: A column-vector y was passed when a 1d array was expected. Please change the shape of y to (n_samples, ), for example using ravel().\n",
            "  y = column_or_1d(y, warn=True)\n"
          ]
        },
        {
          "output_type": "stream",
          "name": "stdout",
          "text": [
            "Alpha: 4.198353161296117\n"
          ]
        },
        {
          "output_type": "stream",
          "name": "stderr",
          "text": [
            "/usr/local/lib/python3.7/dist-packages/sklearn/linear_model/_least_angle.py:608: ConvergenceWarning: Early stopping the lars path, as the residues are small and the current value of alpha is no longer well controlled. 124 iterations, alpha=4.198e+00, previous alpha=4.192e+00, with an active set of 121 regressors.\n",
            "  ConvergenceWarning)\n"
          ]
        }
      ]
    },
    {
      "cell_type": "markdown",
      "metadata": {
        "id": "wWOMNoqlwz3k"
      },
      "source": [
        "**Step 5: Assess expected accuracy**"
      ]
    },
    {
      "cell_type": "code",
      "metadata": {
        "colab": {
          "base_uri": "https://localhost:8080/",
          "height": 298
        },
        "id": "9MiS6Ypjwin0",
        "outputId": "ad12a4d6-0c40-4a7c-ca3e-9ea432da8077"
      },
      "source": [
        "# In-sample\n",
        "y3_pred_aic = regr_aic.predict(X3)\n",
        "\n",
        "plt.figure()\n",
        "plt.scatter(x=y3, y=y3_pred_aic) \n",
        "plt.plot(y3,y3,c=\"red\")\n",
        "rho2 = sklearn.metrics.r2_score(y3,y3_pred_aic)\n",
        "plt.title('R-squared equals %.10f' % rho2)"
      ],
      "execution_count": 249,
      "outputs": [
        {
          "output_type": "execute_result",
          "data": {
            "text/plain": [
              "Text(0.5, 1.0, 'R-squared equals 0.6359678182')"
            ]
          },
          "metadata": {},
          "execution_count": 249
        },
        {
          "output_type": "display_data",
          "data": {
            "image/png": "[encoded data removed]",
            "text/plain": [
              "<Figure size 432x288 with 1 Axes>"
            ]
          },
          "metadata": {
            "needs_background": "light"
          }
        }
      ]
    },
    {
      "cell_type": "code",
      "metadata": {
        "colab": {
          "base_uri": "https://localhost:8080/",
          "height": 1000
        },
        "id": "ItJXnaYpwqK8",
        "outputId": "3a25320c-100b-4630-9ac2-9758759b7605"
      },
      "source": [
        "# Out-of-sample\n",
        "y3_pred_cv = cvp(regr_aic, X3, y3, cv=5)\n",
        "\n",
        "plt.figure()\n",
        "plt.scatter(x=y3,y=y3_pred_cv) \n",
        "plt.plot(y3,y3,c=\"red\")\n",
        "rho2 = sklearn.metrics.r2_score(y3,y3_pred_cv)\n",
        "plt.title('R-squared equals %.10f' %rho2)"
      ],
      "execution_count": 250,
      "outputs": [
        {
          "output_type": "stream",
          "name": "stderr",
          "text": [
            "/usr/local/lib/python3.7/dist-packages/sklearn/utils/validation.py:760: DataConversionWarning: A column-vector y was passed when a 1d array was expected. Please change the shape of y to (n_samples, ), for example using ravel().\n",
            "  y = column_or_1d(y, warn=True)\n",
            "/usr/local/lib/python3.7/dist-packages/sklearn/linear_model/_least_angle.py:582: ConvergenceWarning: Regressors in active set degenerate. Dropping a regressor, after 7 iterations, i.e. alpha=2.789e+01, with an active set of 7 regressors, and the smallest cholesky pivot element being 2.220e-16. Reduce max_iter or increase eps parameters.\n",
            "  ConvergenceWarning)\n",
            "/usr/local/lib/python3.7/dist-packages/sklearn/linear_model/_least_angle.py:582: ConvergenceWarning: Regressors in active set degenerate. Dropping a regressor, after 26 iterations, i.e. alpha=1.432e+01, with an active set of 24 regressors, and the smallest cholesky pivot element being 2.220e-16. Reduce max_iter or increase eps parameters.\n",
            "  ConvergenceWarning)\n",
            "/usr/local/lib/python3.7/dist-packages/sklearn/linear_model/_least_angle.py:582: ConvergenceWarning: Regressors in active set degenerate. Dropping a regressor, after 39 iterations, i.e. alpha=1.043e+01, with an active set of 35 regressors, and the smallest cholesky pivot element being 2.220e-16. Reduce max_iter or increase eps parameters.\n",
            "  ConvergenceWarning)\n",
            "/usr/local/lib/python3.7/dist-packages/sklearn/linear_model/_least_angle.py:582: ConvergenceWarning: Regressors in active set degenerate. Dropping a regressor, after 52 iterations, i.e. alpha=8.736e+00, with an active set of 48 regressors, and the smallest cholesky pivot element being 2.220e-16. Reduce max_iter or increase eps parameters.\n",
            "  ConvergenceWarning)\n",
            "/usr/local/lib/python3.7/dist-packages/sklearn/linear_model/_least_angle.py:582: ConvergenceWarning: Regressors in active set degenerate. Dropping a regressor, after 98 iterations, i.e. alpha=5.524e+00, with an active set of 92 regressors, and the smallest cholesky pivot element being 2.220e-16. Reduce max_iter or increase eps parameters.\n",
            "  ConvergenceWarning)\n",
            "/usr/local/lib/python3.7/dist-packages/sklearn/linear_model/_least_angle.py:582: ConvergenceWarning: Regressors in active set degenerate. Dropping a regressor, after 107 iterations, i.e. alpha=4.840e+00, with an active set of 101 regressors, and the smallest cholesky pivot element being 2.220e-16. Reduce max_iter or increase eps parameters.\n",
            "  ConvergenceWarning)\n",
            "/usr/local/lib/python3.7/dist-packages/sklearn/linear_model/_least_angle.py:582: ConvergenceWarning: Regressors in active set degenerate. Dropping a regressor, after 132 iterations, i.e. alpha=4.232e+00, with an active set of 124 regressors, and the smallest cholesky pivot element being 2.220e-16. Reduce max_iter or increase eps parameters.\n",
            "  ConvergenceWarning)\n",
            "/usr/local/lib/python3.7/dist-packages/sklearn/linear_model/_least_angle.py:608: ConvergenceWarning: Early stopping the lars path, as the residues are small and the current value of alpha is no longer well controlled. 154 iterations, alpha=3.736e+00, previous alpha=3.736e+00, with an active set of 143 regressors.\n",
            "  ConvergenceWarning)\n",
            "/usr/local/lib/python3.7/dist-packages/sklearn/utils/validation.py:760: DataConversionWarning: A column-vector y was passed when a 1d array was expected. Please change the shape of y to (n_samples, ), for example using ravel().\n",
            "  y = column_or_1d(y, warn=True)\n",
            "/usr/local/lib/python3.7/dist-packages/sklearn/linear_model/_least_angle.py:582: ConvergenceWarning: Regressors in active set degenerate. Dropping a regressor, after 7 iterations, i.e. alpha=2.830e+01, with an active set of 7 regressors, and the smallest cholesky pivot element being 2.220e-16. Reduce max_iter or increase eps parameters.\n",
            "  ConvergenceWarning)\n",
            "/usr/local/lib/python3.7/dist-packages/sklearn/linear_model/_least_angle.py:582: ConvergenceWarning: Regressors in active set degenerate. Dropping a regressor, after 33 iterations, i.e. alpha=1.036e+01, with an active set of 31 regressors, and the smallest cholesky pivot element being 2.220e-16. Reduce max_iter or increase eps parameters.\n",
            "  ConvergenceWarning)\n",
            "/usr/local/lib/python3.7/dist-packages/sklearn/linear_model/_least_angle.py:582: ConvergenceWarning: Regressors in active set degenerate. Dropping a regressor, after 81 iterations, i.e. alpha=5.773e+00, with an active set of 79 regressors, and the smallest cholesky pivot element being 2.220e-16. Reduce max_iter or increase eps parameters.\n",
            "  ConvergenceWarning)\n",
            "/usr/local/lib/python3.7/dist-packages/sklearn/linear_model/_least_angle.py:608: ConvergenceWarning: Early stopping the lars path, as the residues are small and the current value of alpha is no longer well controlled. 121 iterations, alpha=5.397e+00, previous alpha=4.629e+00, with an active set of 118 regressors.\n",
            "  ConvergenceWarning)\n",
            "/usr/local/lib/python3.7/dist-packages/sklearn/utils/validation.py:760: DataConversionWarning: A column-vector y was passed when a 1d array was expected. Please change the shape of y to (n_samples, ), for example using ravel().\n",
            "  y = column_or_1d(y, warn=True)\n",
            "/usr/local/lib/python3.7/dist-packages/sklearn/linear_model/_least_angle.py:582: ConvergenceWarning: Regressors in active set degenerate. Dropping a regressor, after 13 iterations, i.e. alpha=2.175e+01, with an active set of 13 regressors, and the smallest cholesky pivot element being 2.220e-16. Reduce max_iter or increase eps parameters.\n",
            "  ConvergenceWarning)\n",
            "/usr/local/lib/python3.7/dist-packages/sklearn/linear_model/_least_angle.py:582: ConvergenceWarning: Regressors in active set degenerate. Dropping a regressor, after 41 iterations, i.e. alpha=9.747e+00, with an active set of 39 regressors, and the smallest cholesky pivot element being 2.220e-16. Reduce max_iter or increase eps parameters.\n",
            "  ConvergenceWarning)\n",
            "/usr/local/lib/python3.7/dist-packages/sklearn/linear_model/_least_angle.py:608: ConvergenceWarning: Early stopping the lars path, as the residues are small and the current value of alpha is no longer well controlled. 49 iterations, alpha=9.215e+00, previous alpha=9.188e+00, with an active set of 46 regressors.\n",
            "  ConvergenceWarning)\n",
            "/usr/local/lib/python3.7/dist-packages/sklearn/utils/validation.py:760: DataConversionWarning: A column-vector y was passed when a 1d array was expected. Please change the shape of y to (n_samples, ), for example using ravel().\n",
            "  y = column_or_1d(y, warn=True)\n",
            "/usr/local/lib/python3.7/dist-packages/sklearn/linear_model/_least_angle.py:608: ConvergenceWarning: Early stopping the lars path, as the residues are small and the current value of alpha is no longer well controlled. 48 iterations, alpha=7.945e+00, previous alpha=7.937e+00, with an active set of 49 regressors.\n",
            "  ConvergenceWarning)\n",
            "/usr/local/lib/python3.7/dist-packages/sklearn/utils/validation.py:760: DataConversionWarning: A column-vector y was passed when a 1d array was expected. Please change the shape of y to (n_samples, ), for example using ravel().\n",
            "  y = column_or_1d(y, warn=True)\n",
            "/usr/local/lib/python3.7/dist-packages/sklearn/linear_model/_least_angle.py:608: ConvergenceWarning: Early stopping the lars path, as the residues are small and the current value of alpha is no longer well controlled. 42 iterations, alpha=9.661e+00, previous alpha=9.645e+00, with an active set of 41 regressors.\n",
            "  ConvergenceWarning)\n"
          ]
        },
        {
          "output_type": "execute_result",
          "data": {
            "text/plain": [
              "Text(0.5, 1.0, 'R-squared equals 0.5968268185')"
            ]
          },
          "metadata": {},
          "execution_count": 250
        },
        {
          "output_type": "display_data",
          "data": {
            "image/png": "[encoded data removed]",
            "text/plain": [
              "<Figure size 432x288 with 1 Axes>"
            ]
          },
          "metadata": {
            "needs_background": "light"
          }
        }
      ]
    },
    {
      "cell_type": "markdown",
      "metadata": {
        "id": "ehbblgB90UZ7"
      },
      "source": [
        "**Step 6: Report variable impact**"
      ]
    },
    {
      "cell_type": "code",
      "metadata": {
        "colab": {
          "base_uri": "https://localhost:8080/",
          "height": 221
        },
        "id": "Nn0HGMzV0Q78",
        "outputId": "aecc7c42-287d-4e4a-da4b-3642f53649c3"
      },
      "source": [
        "# Create DataFrame of regression outputs\n",
        "var3 = list(train_new.columns)\n",
        "beta3 = list(regr_aic.coef_)\n",
        "coef3_tuples = list(zip(var3,beta3))\n",
        "coef3_df = pd.DataFrame(coef3_tuples, columns=['Feature','Coefficient'])\n",
        "coef3_df = coef3_df[coef3_df['Coefficient'] != 0]\n",
        "coef3_df.sort_values(by=['Coefficient'], key=pd.Series.abs, inplace=True, ascending=False, ignore_index=True)\n",
        "\n",
        "print(\"The 5 most impactful variables are:\")\n",
        "coef3_df.head(5)"
      ],
      "execution_count": 251,
      "outputs": [
        {
          "output_type": "stream",
          "name": "stdout",
          "text": [
            "The 5 most impactful variables are:\n"
          ]
        },
        {
          "output_type": "execute_result",
          "data": {
            "text/html": [
              "<div>\n",
              "<style scoped>\n",
              "    .dataframe tbody tr th:only-of-type {\n",
              "        vertical-align: middle;\n",
              "    }\n",
              "\n",
              "    .dataframe tbody tr th {\n",
              "        vertical-align: top;\n",
              "    }\n",
              "\n",
              "    .dataframe thead th {\n",
              "        text-align: right;\n",
              "    }\n",
              "</style>\n",
              "<table border=\"1\" class=\"dataframe\">\n",
              "  <thead>\n",
              "    <tr style=\"text-align: right;\">\n",
              "      <th></th>\n",
              "      <th>Feature</th>\n",
              "      <th>Coefficient</th>\n",
              "    </tr>\n",
              "  </thead>\n",
              "  <tbody>\n",
              "    <tr>\n",
              "      <th>0</th>\n",
              "      <td>finishedarea</td>\n",
              "      <td>185.659089</td>\n",
              "    </tr>\n",
              "    <tr>\n",
              "      <th>1</th>\n",
              "      <td>neighborhoodcode_113910.0</td>\n",
              "      <td>34.559254</td>\n",
              "    </tr>\n",
              "    <tr>\n",
              "      <th>2</th>\n",
              "      <td>neighborhoodcode_274049.0</td>\n",
              "      <td>24.234656</td>\n",
              "    </tr>\n",
              "    <tr>\n",
              "      <th>3</th>\n",
              "      <td>neighborhoodcode_19810.0</td>\n",
              "      <td>22.187270</td>\n",
              "    </tr>\n",
              "    <tr>\n",
              "      <th>4</th>\n",
              "      <td>numbath_19.0</td>\n",
              "      <td>-18.336947</td>\n",
              "    </tr>\n",
              "  </tbody>\n",
              "</table>\n",
              "</div>"
            ],
            "text/plain": [
              "                     Feature  Coefficient\n",
              "0               finishedarea   185.659089\n",
              "1  neighborhoodcode_113910.0    34.559254\n",
              "2  neighborhoodcode_274049.0    24.234656\n",
              "3   neighborhoodcode_19810.0    22.187270\n",
              "4               numbath_19.0   -18.336947"
            ]
          },
          "metadata": {},
          "execution_count": 251
        }
      ]
    },
    {
      "cell_type": "markdown",
      "metadata": {
        "id": "1tX_v2TMjRDb"
      },
      "source": [
        "# *Refine the model using Lasso GridSearch*"
      ]
    },
    {
      "cell_type": "code",
      "metadata": {
        "id": "i-cmt-V8jbfS"
      },
      "source": [
        "# Choosing the regularisation parameter\n",
        "from sklearn.model_selection import GridSearchCV\n",
        "from sklearn.linear_model import Lasso\n",
        "\n",
        "# instantiate the lasso model\n",
        "lasso = Lasso(random_state=0,max_iter=50000) \n",
        "\n",
        "# specify grid values that I want to search over\n",
        "alphas = np.array([0.05, 0.5, 5, 50, 500])\n",
        "tuned_parameters = [{'alpha': alphas}]\n",
        "\n",
        "# create scorer to evaluate performance\n",
        "from sklearn.metrics import mean_squared_error, make_scorer \n",
        "rmse = make_scorer(mean_squared_error,squared=False,greater_is_better=False)"
      ],
      "execution_count": 252,
      "outputs": []
    },
    {
      "cell_type": "code",
      "metadata": {
        "colab": {
          "base_uri": "https://localhost:8080/"
        },
        "id": "rBeU-_Mwjs4w",
        "outputId": "a7d7646e-6ca5-474c-fe02-a8d127ca8835"
      },
      "source": [
        "# instantiate GridSearchCV\n",
        "n_folds = 5\n",
        "clf = GridSearchCV(lasso, tuned_parameters, scoring = rmse, \n",
        "                   cv=n_folds, refit=False)\n",
        "\n",
        "# train using training data\n",
        "clf.fit(X3, y3)\n",
        "\n",
        "scores = clf.cv_results_['mean_test_score']\n",
        "scores_std = clf.cv_results_['std_test_score']\n",
        "std_error = scores_std / np.sqrt(n_folds)\n",
        "\n",
        "# Extract best parameters\n",
        "clf.best_params_"
      ],
      "execution_count": 253,
      "outputs": [
        {
          "output_type": "execute_result",
          "data": {
            "text/plain": [
              "{'alpha': 0.5}"
            ]
          },
          "metadata": {},
          "execution_count": 253
        }
      ]
    },
    {
      "cell_type": "code",
      "metadata": {
        "colab": {
          "base_uri": "https://localhost:8080/",
          "height": 409
        },
        "id": "-cMdfYnJkFAX",
        "outputId": "fd629ff9-501e-405e-8582-7d12575fa593"
      },
      "source": [
        "# Plotting the results\n",
        "\n",
        "plt.figure().set_size_inches(8, 6)\n",
        "plt.semilogx(alphas, scores)\n",
        "\n",
        "# plot error lines showing +/- std. errors of the scores\n",
        "plt.semilogx(alphas, scores + std_error, 'b--')\n",
        "plt.semilogx(alphas, scores - std_error, 'b--')\n",
        "\n",
        "# alpha=0.2 controls the translucency of the fill color\n",
        "plt.fill_between(alphas, scores + std_error, scores - std_error, alpha=0.2)\n",
        "\n",
        "plt.ylabel('CV score +/- std error')\n",
        "plt.xlabel('alpha')\n",
        "plt.axhline(np.max(scores), linestyle='--', color='.5')\n",
        "ymin, ymax = plt.ylim()\n",
        "plt.vlines(clf.best_params_['alpha'] ,ymin, ymax, linestyle='dashed')\n",
        "plt.xlim([alphas[0], alphas[-1]])"
      ],
      "execution_count": 254,
      "outputs": [
        {
          "output_type": "execute_result",
          "data": {
            "text/plain": [
              "(0.05, 500.0)"
            ]
          },
          "metadata": {},
          "execution_count": 254
        },
        {
          "output_type": "display_data",
          "data": {
            "image/png": "[encoded data removed]",
            "text/plain": [
              "<Figure size 576x432 with 1 Axes>"
            ]
          },
          "metadata": {
            "needs_background": "light"
          }
        }
      ]
    },
    {
      "cell_type": "code",
      "metadata": {
        "colab": {
          "base_uri": "https://localhost:8080/"
        },
        "id": "NoZiDKAlkIzm",
        "outputId": "7beeac43-fa6c-4050-813b-06d9fb21520c"
      },
      "source": [
        "# LASSO regression\n",
        "regr_lasso = Lasso(alpha=0.5, fit_intercept=True, warm_start=True, normalize = False, max_iter=10000) ## instantiate Lasso\n",
        "regr_lasso.fit(X3, y3) ## fit model\n",
        "#print(regr_lasso.coef_)"
      ],
      "execution_count": 255,
      "outputs": [
        {
          "output_type": "execute_result",
          "data": {
            "text/plain": [
              "Lasso(alpha=0.5, copy_X=True, fit_intercept=True, max_iter=10000,\n",
              "      normalize=False, positive=False, precompute=False, random_state=None,\n",
              "      selection='cyclic', tol=0.0001, warm_start=True)"
            ]
          },
          "metadata": {},
          "execution_count": 255
        }
      ]
    },
    {
      "cell_type": "markdown",
      "metadata": {
        "id": "SFTHePoU4mvy"
      },
      "source": [
        "**Step 5: Assess expected accuracy**"
      ]
    },
    {
      "cell_type": "code",
      "metadata": {
        "colab": {
          "base_uri": "https://localhost:8080/",
          "height": 298
        },
        "id": "W6jm30Fh4leZ",
        "outputId": "690eb1a1-0478-4b07-af28-134990d459b4"
      },
      "source": [
        "# In-sample\n",
        "y3_pred_lasso = regr_lasso.predict(X3)\n",
        "\n",
        "plt.figure()\n",
        "plt.scatter(x=y3, y=y3_pred_lasso) \n",
        "plt.plot(y3,y3,c=\"red\")\n",
        "rho2 = sklearn.metrics.r2_score(y3,y3_pred_lasso)\n",
        "plt.title('R-squared equals %.10f' % rho2)"
      ],
      "execution_count": 256,
      "outputs": [
        {
          "output_type": "execute_result",
          "data": {
            "text/plain": [
              "Text(0.5, 1.0, 'R-squared equals 0.6685989722')"
            ]
          },
          "metadata": {},
          "execution_count": 256
        },
        {
          "output_type": "display_data",
          "data": {
            "image/png": "[encoded data removed]",
            "text/plain": [
              "<Figure size 432x288 with 1 Axes>"
            ]
          },
          "metadata": {
            "needs_background": "light"
          }
        }
      ]
    },
    {
      "cell_type": "code",
      "metadata": {
        "colab": {
          "base_uri": "https://localhost:8080/",
          "height": 298
        },
        "id": "vM5HnmvzdIQ4",
        "outputId": "4d66895d-2b04-45b5-e1fe-d11bdd5d0760"
      },
      "source": [
        "# Out-of-sample\n",
        "y3_pred_cv = cvp(regr_lasso, X3, y3, cv=5)\n",
        "\n",
        "plt.figure()\n",
        "plt.scatter(x=y3,y=y3_pred_cv) \n",
        "plt.plot(y3,y3,c=\"red\")\n",
        "rho2 = sklearn.metrics.r2_score(y3,y3_pred_cv)\n",
        "plt.title('R-squared equals %.10f' %rho2)"
      ],
      "execution_count": 257,
      "outputs": [
        {
          "output_type": "execute_result",
          "data": {
            "text/plain": [
              "Text(0.5, 1.0, 'R-squared equals 0.6300897899')"
            ]
          },
          "metadata": {},
          "execution_count": 257
        },
        {
          "output_type": "display_data",
          "data": {
            "image/png": "[encoded data removed]",
            "text/plain": [
              "<Figure size 432x288 with 1 Axes>"
            ]
          },
          "metadata": {
            "needs_background": "light"
          }
        }
      ]
    },
    {
      "cell_type": "markdown",
      "metadata": {
        "id": "87zIIJ0fdeqs"
      },
      "source": [
        "**Step 6: Report variable impact**"
      ]
    },
    {
      "cell_type": "code",
      "metadata": {
        "colab": {
          "base_uri": "https://localhost:8080/",
          "height": 221
        },
        "id": "z6Pqpn5Fddmw",
        "outputId": "df893521-4906-49b1-8f43-7c651cc32fde"
      },
      "source": [
        "# Create DataFrame of regression outputs\n",
        "var3 = list(train_new.columns)\n",
        "beta3 = list(regr_lasso.coef_)\n",
        "coef3_tuples = list(zip(var3,beta3))\n",
        "coef3_df = pd.DataFrame(coef3_tuples, columns=['Feature','Coefficient'])\n",
        "coef3_df = coef3_df[coef3_df['Coefficient'] != 0]\n",
        "coef3_df.sort_values(by=['Coefficient'], key=pd.Series.abs, inplace=True, ascending=False, ignore_index=True)\n",
        "\n",
        "print(\"The 5 most impactful variables are:\")\n",
        "coef3_df.head(5)"
      ],
      "execution_count": 258,
      "outputs": [
        {
          "output_type": "stream",
          "name": "stdout",
          "text": [
            "The 5 most impactful variables are:\n"
          ]
        },
        {
          "output_type": "execute_result",
          "data": {
            "text/html": [
              "<div>\n",
              "<style scoped>\n",
              "    .dataframe tbody tr th:only-of-type {\n",
              "        vertical-align: middle;\n",
              "    }\n",
              "\n",
              "    .dataframe tbody tr th {\n",
              "        vertical-align: top;\n",
              "    }\n",
              "\n",
              "    .dataframe thead th {\n",
              "        text-align: right;\n",
              "    }\n",
              "</style>\n",
              "<table border=\"1\" class=\"dataframe\">\n",
              "  <thead>\n",
              "    <tr style=\"text-align: right;\">\n",
              "      <th></th>\n",
              "      <th>Feature</th>\n",
              "      <th>Coefficient</th>\n",
              "    </tr>\n",
              "  </thead>\n",
              "  <tbody>\n",
              "    <tr>\n",
              "      <th>0</th>\n",
              "      <td>finishedarea</td>\n",
              "      <td>162.362300</td>\n",
              "    </tr>\n",
              "    <tr>\n",
              "      <th>1</th>\n",
              "      <td>neighborhoodcode_113910.0</td>\n",
              "      <td>37.140739</td>\n",
              "    </tr>\n",
              "    <tr>\n",
              "      <th>2</th>\n",
              "      <td>regioncode_96050.0</td>\n",
              "      <td>29.793521</td>\n",
              "    </tr>\n",
              "    <tr>\n",
              "      <th>3</th>\n",
              "      <td>regioncode_96120.0</td>\n",
              "      <td>29.357713</td>\n",
              "    </tr>\n",
              "    <tr>\n",
              "      <th>4</th>\n",
              "      <td>regioncode_96149.0</td>\n",
              "      <td>29.337309</td>\n",
              "    </tr>\n",
              "  </tbody>\n",
              "</table>\n",
              "</div>"
            ],
            "text/plain": [
              "                     Feature  Coefficient\n",
              "0               finishedarea   162.362300\n",
              "1  neighborhoodcode_113910.0    37.140739\n",
              "2         regioncode_96050.0    29.793521\n",
              "3         regioncode_96120.0    29.357713\n",
              "4         regioncode_96149.0    29.337309"
            ]
          },
          "metadata": {},
          "execution_count": 258
        }
      ]
    },
    {
      "cell_type": "markdown",
      "metadata": {
        "id": "soIpA8sAwfn8"
      },
      "source": [
        "**Step 7: Prepare code to run and check performance of your model using a new input data with same exact format**"
      ]
    },
    {
      "cell_type": "code",
      "metadata": {
        "id": "4yj97T2df-cq",
        "colab": {
          "base_uri": "https://localhost:8080/",
          "height": 224
        },
        "outputId": "2bd11f7a-f283-4401-987f-fb5964f7c6a9"
      },
      "source": [
        "# Load data\n",
        "test_raw = pd.read_csv(\"Regression_Supervised_Test.csv\")\n",
        "\n",
        "# Overview of the data\n",
        "# test_raw.info()\n",
        "test_raw.head()\n",
        "# test_raw.duplicated().sum() ## no duplicates found\n"
      ],
      "execution_count": 259,
      "outputs": [
        {
          "output_type": "execute_result",
          "data": {
            "text/html": [
              "<div>\n",
              "<style scoped>\n",
              "    .dataframe tbody tr th:only-of-type {\n",
              "        vertical-align: middle;\n",
              "    }\n",
              "\n",
              "    .dataframe tbody tr th {\n",
              "        vertical-align: top;\n",
              "    }\n",
              "\n",
              "    .dataframe thead th {\n",
              "        text-align: right;\n",
              "    }\n",
              "</style>\n",
              "<table border=\"1\" class=\"dataframe\">\n",
              "  <thead>\n",
              "    <tr style=\"text-align: right;\">\n",
              "      <th></th>\n",
              "      <th>lotid</th>\n",
              "      <th>logerror</th>\n",
              "      <th>transactiondate</th>\n",
              "      <th>aircond</th>\n",
              "      <th>style</th>\n",
              "      <th>basement</th>\n",
              "      <th>numbath</th>\n",
              "      <th>numbedroom</th>\n",
              "      <th>classbuild</th>\n",
              "      <th>qualitybuild</th>\n",
              "      <th>decktype</th>\n",
              "      <th>finishedarea1st</th>\n",
              "      <th>finishedarea</th>\n",
              "      <th>perimeterarea</th>\n",
              "      <th>totalarea</th>\n",
              "      <th>finishedareaEntry</th>\n",
              "      <th>countycode</th>\n",
              "      <th>numfireplace</th>\n",
              "      <th>numfullbath</th>\n",
              "      <th>garagenum</th>\n",
              "      <th>garagearea</th>\n",
              "      <th>tubflag</th>\n",
              "      <th>heatingtype</th>\n",
              "      <th>latitude</th>\n",
              "      <th>longitude</th>\n",
              "      <th>lotarea</th>\n",
              "      <th>poolnum</th>\n",
              "      <th>poolarea</th>\n",
              "      <th>citycode</th>\n",
              "      <th>countycode2</th>\n",
              "      <th>neighborhoodcode</th>\n",
              "      <th>regioncode</th>\n",
              "      <th>roomnum</th>\n",
              "      <th>storytype</th>\n",
              "      <th>num34bath</th>\n",
              "      <th>material</th>\n",
              "      <th>unitnum</th>\n",
              "      <th>year</th>\n",
              "      <th>numstories</th>\n",
              "      <th>fireplace</th>\n",
              "      <th>buildvalue</th>\n",
              "      <th>taxyear</th>\n",
              "      <th>landvalue</th>\n",
              "      <th>totaltaxvalue</th>\n",
              "      <th>taxdelinquencyflag</th>\n",
              "      <th>taxdelinquencyyear</th>\n",
              "    </tr>\n",
              "  </thead>\n",
              "  <tbody>\n",
              "    <tr>\n",
              "      <th>0</th>\n",
              "      <td>11614222</td>\n",
              "      <td>NaN</td>\n",
              "      <td>NaN</td>\n",
              "      <td>1.0</td>\n",
              "      <td>NaN</td>\n",
              "      <td>NaN</td>\n",
              "      <td>3.0</td>\n",
              "      <td>3</td>\n",
              "      <td>NaN</td>\n",
              "      <td>4.0</td>\n",
              "      <td>NaN</td>\n",
              "      <td>NaN</td>\n",
              "      <td>1618.0</td>\n",
              "      <td>NaN</td>\n",
              "      <td>NaN</td>\n",
              "      <td>NaN</td>\n",
              "      <td>6037</td>\n",
              "      <td>0</td>\n",
              "      <td>3.0</td>\n",
              "      <td>NaN</td>\n",
              "      <td>NaN</td>\n",
              "      <td>NaN</td>\n",
              "      <td>2.0</td>\n",
              "      <td>34048500</td>\n",
              "      <td>-118438000</td>\n",
              "      <td>19423.0</td>\n",
              "      <td>NaN</td>\n",
              "      <td>NaN</td>\n",
              "      <td>12447.0</td>\n",
              "      <td>3101</td>\n",
              "      <td>118887.0</td>\n",
              "      <td>96006</td>\n",
              "      <td>0</td>\n",
              "      <td>NaN</td>\n",
              "      <td>NaN</td>\n",
              "      <td>NaN</td>\n",
              "      <td>1.0</td>\n",
              "      <td>1975.0</td>\n",
              "      <td>NaN</td>\n",
              "      <td>NaN</td>\n",
              "      <td>165179.0</td>\n",
              "      <td>2015</td>\n",
              "      <td>286865.0</td>\n",
              "      <td>5517.93</td>\n",
              "      <td>NaN</td>\n",
              "      <td>NaN</td>\n",
              "    </tr>\n",
              "    <tr>\n",
              "      <th>1</th>\n",
              "      <td>11555888</td>\n",
              "      <td>NaN</td>\n",
              "      <td>NaN</td>\n",
              "      <td>NaN</td>\n",
              "      <td>NaN</td>\n",
              "      <td>NaN</td>\n",
              "      <td>2.0</td>\n",
              "      <td>3</td>\n",
              "      <td>NaN</td>\n",
              "      <td>4.0</td>\n",
              "      <td>NaN</td>\n",
              "      <td>NaN</td>\n",
              "      <td>1817.0</td>\n",
              "      <td>NaN</td>\n",
              "      <td>NaN</td>\n",
              "      <td>NaN</td>\n",
              "      <td>6037</td>\n",
              "      <td>0</td>\n",
              "      <td>2.0</td>\n",
              "      <td>NaN</td>\n",
              "      <td>NaN</td>\n",
              "      <td>NaN</td>\n",
              "      <td>2.0</td>\n",
              "      <td>34023816</td>\n",
              "      <td>-118429617</td>\n",
              "      <td>7625.0</td>\n",
              "      <td>1.0</td>\n",
              "      <td>NaN</td>\n",
              "      <td>12447.0</td>\n",
              "      <td>3101</td>\n",
              "      <td>116415.0</td>\n",
              "      <td>96047</td>\n",
              "      <td>0</td>\n",
              "      <td>NaN</td>\n",
              "      <td>NaN</td>\n",
              "      <td>NaN</td>\n",
              "      <td>1.0</td>\n",
              "      <td>1948.0</td>\n",
              "      <td>NaN</td>\n",
              "      <td>NaN</td>\n",
              "      <td>295765.0</td>\n",
              "      <td>2015</td>\n",
              "      <td>202798.0</td>\n",
              "      <td>6188.97</td>\n",
              "      <td>NaN</td>\n",
              "      <td>NaN</td>\n",
              "    </tr>\n",
              "    <tr>\n",
              "      <th>2</th>\n",
              "      <td>13052987</td>\n",
              "      <td>NaN</td>\n",
              "      <td>NaN</td>\n",
              "      <td>1.0</td>\n",
              "      <td>NaN</td>\n",
              "      <td>NaN</td>\n",
              "      <td>2.0</td>\n",
              "      <td>3</td>\n",
              "      <td>NaN</td>\n",
              "      <td>8.0</td>\n",
              "      <td>NaN</td>\n",
              "      <td>NaN</td>\n",
              "      <td>1549.0</td>\n",
              "      <td>NaN</td>\n",
              "      <td>NaN</td>\n",
              "      <td>NaN</td>\n",
              "      <td>6037</td>\n",
              "      <td>0</td>\n",
              "      <td>2.0</td>\n",
              "      <td>NaN</td>\n",
              "      <td>NaN</td>\n",
              "      <td>NaN</td>\n",
              "      <td>2.0</td>\n",
              "      <td>34125379</td>\n",
              "      <td>-117707983</td>\n",
              "      <td>11080.0</td>\n",
              "      <td>1.0</td>\n",
              "      <td>NaN</td>\n",
              "      <td>30908.0</td>\n",
              "      <td>3101</td>\n",
              "      <td>764142.0</td>\n",
              "      <td>96469</td>\n",
              "      <td>0</td>\n",
              "      <td>NaN</td>\n",
              "      <td>NaN</td>\n",
              "      <td>NaN</td>\n",
              "      <td>1.0</td>\n",
              "      <td>1978.0</td>\n",
              "      <td>NaN</td>\n",
              "      <td>NaN</td>\n",
              "      <td>110977.0</td>\n",
              "      <td>2016</td>\n",
              "      <td>225109.0</td>\n",
              "      <td>4245.09</td>\n",
              "      <td>NaN</td>\n",
              "      <td>NaN</td>\n",
              "    </tr>\n",
              "    <tr>\n",
              "      <th>3</th>\n",
              "      <td>12448473</td>\n",
              "      <td>NaN</td>\n",
              "      <td>NaN</td>\n",
              "      <td>1.0</td>\n",
              "      <td>NaN</td>\n",
              "      <td>NaN</td>\n",
              "      <td>3.0</td>\n",
              "      <td>3</td>\n",
              "      <td>NaN</td>\n",
              "      <td>4.0</td>\n",
              "      <td>NaN</td>\n",
              "      <td>NaN</td>\n",
              "      <td>1275.0</td>\n",
              "      <td>NaN</td>\n",
              "      <td>NaN</td>\n",
              "      <td>NaN</td>\n",
              "      <td>6037</td>\n",
              "      <td>0</td>\n",
              "      <td>3.0</td>\n",
              "      <td>NaN</td>\n",
              "      <td>NaN</td>\n",
              "      <td>NaN</td>\n",
              "      <td>2.0</td>\n",
              "      <td>33878735</td>\n",
              "      <td>-118171388</td>\n",
              "      <td>58881.0</td>\n",
              "      <td>NaN</td>\n",
              "      <td>NaN</td>\n",
              "      <td>46298.0</td>\n",
              "      <td>3101</td>\n",
              "      <td>276476.0</td>\n",
              "      <td>96239</td>\n",
              "      <td>0</td>\n",
              "      <td>NaN</td>\n",
              "      <td>NaN</td>\n",
              "      <td>NaN</td>\n",
              "      <td>1.0</td>\n",
              "      <td>1991.0</td>\n",
              "      <td>NaN</td>\n",
              "      <td>NaN</td>\n",
              "      <td>146117.0</td>\n",
              "      <td>2015</td>\n",
              "      <td>69522.0</td>\n",
              "      <td>2739.32</td>\n",
              "      <td>NaN</td>\n",
              "      <td>NaN</td>\n",
              "    </tr>\n",
              "    <tr>\n",
              "      <th>4</th>\n",
              "      <td>12559155</td>\n",
              "      <td>NaN</td>\n",
              "      <td>NaN</td>\n",
              "      <td>1.0</td>\n",
              "      <td>NaN</td>\n",
              "      <td>NaN</td>\n",
              "      <td>1.0</td>\n",
              "      <td>1</td>\n",
              "      <td>NaN</td>\n",
              "      <td>NaN</td>\n",
              "      <td>NaN</td>\n",
              "      <td>NaN</td>\n",
              "      <td>600.0</td>\n",
              "      <td>NaN</td>\n",
              "      <td>NaN</td>\n",
              "      <td>NaN</td>\n",
              "      <td>6037</td>\n",
              "      <td>0</td>\n",
              "      <td>1.0</td>\n",
              "      <td>NaN</td>\n",
              "      <td>NaN</td>\n",
              "      <td>NaN</td>\n",
              "      <td>2.0</td>\n",
              "      <td>33766300</td>\n",
              "      <td>-118188000</td>\n",
              "      <td>47343.0</td>\n",
              "      <td>1.0</td>\n",
              "      <td>NaN</td>\n",
              "      <td>46298.0</td>\n",
              "      <td>3101</td>\n",
              "      <td>273486.0</td>\n",
              "      <td>96236</td>\n",
              "      <td>0</td>\n",
              "      <td>NaN</td>\n",
              "      <td>NaN</td>\n",
              "      <td>NaN</td>\n",
              "      <td>1.0</td>\n",
              "      <td>2004.0</td>\n",
              "      <td>NaN</td>\n",
              "      <td>NaN</td>\n",
              "      <td>183656.0</td>\n",
              "      <td>2015</td>\n",
              "      <td>122438.0</td>\n",
              "      <td>3824.87</td>\n",
              "      <td>NaN</td>\n",
              "      <td>NaN</td>\n",
              "    </tr>\n",
              "  </tbody>\n",
              "</table>\n",
              "</div>"
            ],
            "text/plain": [
              "      lotid  logerror  ... taxdelinquencyflag  taxdelinquencyyear\n",
              "0  11614222       NaN  ...                NaN                 NaN\n",
              "1  11555888       NaN  ...                NaN                 NaN\n",
              "2  13052987       NaN  ...                NaN                 NaN\n",
              "3  12448473       NaN  ...                NaN                 NaN\n",
              "4  12559155       NaN  ...                NaN                 NaN\n",
              "\n",
              "[5 rows x 46 columns]"
            ]
          },
          "metadata": {},
          "execution_count": 259
        }
      ]
    },
    {
      "cell_type": "code",
      "metadata": {
        "id": "eBMwUVy9wfn8"
      },
      "source": [
        "# Remove columns 'totaltaxvalue', 'buildvalue' or 'landvalue' from the test set\n",
        "test_clean = test_raw.drop(columns=['totaltaxvalue', 'buildvalue', 'landvalue'])\n",
        "\n",
        "# Remove columns with large number of missing values\n",
        "test_clean = test_clean[regressors]"
      ],
      "execution_count": 260,
      "outputs": []
    },
    {
      "cell_type": "code",
      "metadata": {
        "id": "sr-d4N6cwfn9",
        "colab": {
          "base_uri": "https://localhost:8080/"
        },
        "outputId": "7c3ffb0f-735d-4c54-fd47-17489111eb8a"
      },
      "source": [
        "# Deal with missing values\n",
        "# Report missing data\n",
        "print('Missing Values per Column:')\n",
        "test_clean.isnull().sum().sort_values(ascending=False).head(25)\n",
        "# no missing values"
      ],
      "execution_count": 261,
      "outputs": [
        {
          "output_type": "stream",
          "name": "stdout",
          "text": [
            "Missing Values per Column:\n"
          ]
        },
        {
          "output_type": "execute_result",
          "data": {
            "text/plain": [
              "taxyear             0\n",
              "year                0\n",
              "numbath             0\n",
              "numbedroom          0\n",
              "finishedarea        0\n",
              "countycode          0\n",
              "numfireplace        0\n",
              "numfullbath         0\n",
              "heatingtype         0\n",
              "latitude            0\n",
              "longitude           0\n",
              "lotarea             0\n",
              "citycode            0\n",
              "countycode2         0\n",
              "neighborhoodcode    0\n",
              "regioncode          0\n",
              "roomnum             0\n",
              "lotid               0\n",
              "dtype: int64"
            ]
          },
          "metadata": {},
          "execution_count": 261
        }
      ]
    },
    {
      "cell_type": "code",
      "metadata": {
        "id": "YLCuiKiAhbMo"
      },
      "source": [
        "test_dummies = test_clean.copy()"
      ],
      "execution_count": 262,
      "outputs": []
    },
    {
      "cell_type": "code",
      "metadata": {
        "colab": {
          "base_uri": "https://localhost:8080/",
          "height": 253
        },
        "id": "Uj5gWVkvMWZK",
        "outputId": "2d252baf-08f2-4eac-f92b-d487b97b5196"
      },
      "source": [
        "# Get dummies\n",
        "test_dummies = pd.get_dummies(test_dummies, columns=['countycode', 'heatingtype', 'countycode2', 'citycode', \n",
        "                                                       'regioncode', 'neighborhoodcode', 'numbath', 'numbedroom', \n",
        "                                                       'numfireplace', 'numfullbath', 'roomnum', 'taxyear'], \n",
        "                               drop_first=True)\n",
        "\n",
        "test_dummies.head()"
      ],
      "execution_count": 263,
      "outputs": [
        {
          "output_type": "execute_result",
          "data": {
            "text/html": [
              "<div>\n",
              "<style scoped>\n",
              "    .dataframe tbody tr th:only-of-type {\n",
              "        vertical-align: middle;\n",
              "    }\n",
              "\n",
              "    .dataframe tbody tr th {\n",
              "        vertical-align: top;\n",
              "    }\n",
              "\n",
              "    .dataframe thead th {\n",
              "        text-align: right;\n",
              "    }\n",
              "</style>\n",
              "<table border=\"1\" class=\"dataframe\">\n",
              "  <thead>\n",
              "    <tr style=\"text-align: right;\">\n",
              "      <th></th>\n",
              "      <th>lotid</th>\n",
              "      <th>finishedarea</th>\n",
              "      <th>latitude</th>\n",
              "      <th>longitude</th>\n",
              "      <th>lotarea</th>\n",
              "      <th>year</th>\n",
              "      <th>countycode_6059</th>\n",
              "      <th>heatingtype_6.0</th>\n",
              "      <th>heatingtype_7.0</th>\n",
              "      <th>heatingtype_20.0</th>\n",
              "      <th>countycode2_3101</th>\n",
              "      <th>citycode_12447.0</th>\n",
              "      <th>citycode_12520.0</th>\n",
              "      <th>citycode_16764.0</th>\n",
              "      <th>citycode_26964.0</th>\n",
              "      <th>citycode_30908.0</th>\n",
              "      <th>citycode_33612.0</th>\n",
              "      <th>citycode_37688.0</th>\n",
              "      <th>citycode_39308.0</th>\n",
              "      <th>citycode_42150.0</th>\n",
              "      <th>citycode_45457.0</th>\n",
              "      <th>citycode_46298.0</th>\n",
              "      <th>citycode_47019.0</th>\n",
              "      <th>citycode_47568.0</th>\n",
              "      <th>citycode_48424.0</th>\n",
              "      <th>citycode_51617.0</th>\n",
              "      <th>citycode_51861.0</th>\n",
              "      <th>citycode_52650.0</th>\n",
              "      <th>citycode_54299.0</th>\n",
              "      <th>citycode_54311.0</th>\n",
              "      <th>citycode_54722.0</th>\n",
              "      <th>citycode_396054.0</th>\n",
              "      <th>regioncode_95983</th>\n",
              "      <th>regioncode_95984</th>\n",
              "      <th>regioncode_95985</th>\n",
              "      <th>regioncode_95986</th>\n",
              "      <th>regioncode_95987</th>\n",
              "      <th>regioncode_95988</th>\n",
              "      <th>regioncode_95989</th>\n",
              "      <th>regioncode_95991</th>\n",
              "      <th>...</th>\n",
              "      <th>neighborhoodcode_764099.0</th>\n",
              "      <th>neighborhoodcode_764134.0</th>\n",
              "      <th>neighborhoodcode_764135.0</th>\n",
              "      <th>neighborhoodcode_764138.0</th>\n",
              "      <th>neighborhoodcode_764140.0</th>\n",
              "      <th>neighborhoodcode_764142.0</th>\n",
              "      <th>neighborhoodcode_764147.0</th>\n",
              "      <th>neighborhoodcode_764148.0</th>\n",
              "      <th>neighborhoodcode_764166.0</th>\n",
              "      <th>numbath_1.5</th>\n",
              "      <th>numbath_2.0</th>\n",
              "      <th>numbath_2.5</th>\n",
              "      <th>numbath_3.0</th>\n",
              "      <th>numbath_4.0</th>\n",
              "      <th>numbath_5.0</th>\n",
              "      <th>numbath_6.0</th>\n",
              "      <th>numbath_7.0</th>\n",
              "      <th>numbath_8.0</th>\n",
              "      <th>numbath_9.0</th>\n",
              "      <th>numbedroom_1</th>\n",
              "      <th>numbedroom_2</th>\n",
              "      <th>numbedroom_3</th>\n",
              "      <th>numbedroom_4</th>\n",
              "      <th>numbedroom_5</th>\n",
              "      <th>numbedroom_6</th>\n",
              "      <th>numbedroom_7</th>\n",
              "      <th>numbedroom_8</th>\n",
              "      <th>numfireplace_1</th>\n",
              "      <th>numfullbath_2.0</th>\n",
              "      <th>numfullbath_3.0</th>\n",
              "      <th>numfullbath_4.0</th>\n",
              "      <th>numfullbath_5.0</th>\n",
              "      <th>numfullbath_6.0</th>\n",
              "      <th>numfullbath_7.0</th>\n",
              "      <th>numfullbath_8.0</th>\n",
              "      <th>numfullbath_9.0</th>\n",
              "      <th>roomnum_5</th>\n",
              "      <th>roomnum_6</th>\n",
              "      <th>roomnum_7</th>\n",
              "      <th>taxyear_2016</th>\n",
              "    </tr>\n",
              "  </thead>\n",
              "  <tbody>\n",
              "    <tr>\n",
              "      <th>0</th>\n",
              "      <td>11614222</td>\n",
              "      <td>1618.0</td>\n",
              "      <td>34048500</td>\n",
              "      <td>-118438000</td>\n",
              "      <td>19423.0</td>\n",
              "      <td>1975.0</td>\n",
              "      <td>0</td>\n",
              "      <td>0</td>\n",
              "      <td>0</td>\n",
              "      <td>0</td>\n",
              "      <td>1</td>\n",
              "      <td>1</td>\n",
              "      <td>0</td>\n",
              "      <td>0</td>\n",
              "      <td>0</td>\n",
              "      <td>0</td>\n",
              "      <td>0</td>\n",
              "      <td>0</td>\n",
              "      <td>0</td>\n",
              "      <td>0</td>\n",
              "      <td>0</td>\n",
              "      <td>0</td>\n",
              "      <td>0</td>\n",
              "      <td>0</td>\n",
              "      <td>0</td>\n",
              "      <td>0</td>\n",
              "      <td>0</td>\n",
              "      <td>0</td>\n",
              "      <td>0</td>\n",
              "      <td>0</td>\n",
              "      <td>0</td>\n",
              "      <td>0</td>\n",
              "      <td>0</td>\n",
              "      <td>0</td>\n",
              "      <td>0</td>\n",
              "      <td>0</td>\n",
              "      <td>0</td>\n",
              "      <td>0</td>\n",
              "      <td>0</td>\n",
              "      <td>0</td>\n",
              "      <td>...</td>\n",
              "      <td>0</td>\n",
              "      <td>0</td>\n",
              "      <td>0</td>\n",
              "      <td>0</td>\n",
              "      <td>0</td>\n",
              "      <td>0</td>\n",
              "      <td>0</td>\n",
              "      <td>0</td>\n",
              "      <td>0</td>\n",
              "      <td>0</td>\n",
              "      <td>0</td>\n",
              "      <td>0</td>\n",
              "      <td>1</td>\n",
              "      <td>0</td>\n",
              "      <td>0</td>\n",
              "      <td>0</td>\n",
              "      <td>0</td>\n",
              "      <td>0</td>\n",
              "      <td>0</td>\n",
              "      <td>0</td>\n",
              "      <td>0</td>\n",
              "      <td>1</td>\n",
              "      <td>0</td>\n",
              "      <td>0</td>\n",
              "      <td>0</td>\n",
              "      <td>0</td>\n",
              "      <td>0</td>\n",
              "      <td>0</td>\n",
              "      <td>0</td>\n",
              "      <td>1</td>\n",
              "      <td>0</td>\n",
              "      <td>0</td>\n",
              "      <td>0</td>\n",
              "      <td>0</td>\n",
              "      <td>0</td>\n",
              "      <td>0</td>\n",
              "      <td>0</td>\n",
              "      <td>0</td>\n",
              "      <td>0</td>\n",
              "      <td>0</td>\n",
              "    </tr>\n",
              "    <tr>\n",
              "      <th>1</th>\n",
              "      <td>11555888</td>\n",
              "      <td>1817.0</td>\n",
              "      <td>34023816</td>\n",
              "      <td>-118429617</td>\n",
              "      <td>7625.0</td>\n",
              "      <td>1948.0</td>\n",
              "      <td>0</td>\n",
              "      <td>0</td>\n",
              "      <td>0</td>\n",
              "      <td>0</td>\n",
              "      <td>1</td>\n",
              "      <td>1</td>\n",
              "      <td>0</td>\n",
              "      <td>0</td>\n",
              "      <td>0</td>\n",
              "      <td>0</td>\n",
              "      <td>0</td>\n",
              "      <td>0</td>\n",
              "      <td>0</td>\n",
              "      <td>0</td>\n",
              "      <td>0</td>\n",
              "      <td>0</td>\n",
              "      <td>0</td>\n",
              "      <td>0</td>\n",
              "      <td>0</td>\n",
              "      <td>0</td>\n",
              "      <td>0</td>\n",
              "      <td>0</td>\n",
              "      <td>0</td>\n",
              "      <td>0</td>\n",
              "      <td>0</td>\n",
              "      <td>0</td>\n",
              "      <td>0</td>\n",
              "      <td>0</td>\n",
              "      <td>0</td>\n",
              "      <td>0</td>\n",
              "      <td>0</td>\n",
              "      <td>0</td>\n",
              "      <td>0</td>\n",
              "      <td>0</td>\n",
              "      <td>...</td>\n",
              "      <td>0</td>\n",
              "      <td>0</td>\n",
              "      <td>0</td>\n",
              "      <td>0</td>\n",
              "      <td>0</td>\n",
              "      <td>0</td>\n",
              "      <td>0</td>\n",
              "      <td>0</td>\n",
              "      <td>0</td>\n",
              "      <td>0</td>\n",
              "      <td>1</td>\n",
              "      <td>0</td>\n",
              "      <td>0</td>\n",
              "      <td>0</td>\n",
              "      <td>0</td>\n",
              "      <td>0</td>\n",
              "      <td>0</td>\n",
              "      <td>0</td>\n",
              "      <td>0</td>\n",
              "      <td>0</td>\n",
              "      <td>0</td>\n",
              "      <td>1</td>\n",
              "      <td>0</td>\n",
              "      <td>0</td>\n",
              "      <td>0</td>\n",
              "      <td>0</td>\n",
              "      <td>0</td>\n",
              "      <td>0</td>\n",
              "      <td>1</td>\n",
              "      <td>0</td>\n",
              "      <td>0</td>\n",
              "      <td>0</td>\n",
              "      <td>0</td>\n",
              "      <td>0</td>\n",
              "      <td>0</td>\n",
              "      <td>0</td>\n",
              "      <td>0</td>\n",
              "      <td>0</td>\n",
              "      <td>0</td>\n",
              "      <td>0</td>\n",
              "    </tr>\n",
              "    <tr>\n",
              "      <th>2</th>\n",
              "      <td>13052987</td>\n",
              "      <td>1549.0</td>\n",
              "      <td>34125379</td>\n",
              "      <td>-117707983</td>\n",
              "      <td>11080.0</td>\n",
              "      <td>1978.0</td>\n",
              "      <td>0</td>\n",
              "      <td>0</td>\n",
              "      <td>0</td>\n",
              "      <td>0</td>\n",
              "      <td>1</td>\n",
              "      <td>0</td>\n",
              "      <td>0</td>\n",
              "      <td>0</td>\n",
              "      <td>0</td>\n",
              "      <td>1</td>\n",
              "      <td>0</td>\n",
              "      <td>0</td>\n",
              "      <td>0</td>\n",
              "      <td>0</td>\n",
              "      <td>0</td>\n",
              "      <td>0</td>\n",
              "      <td>0</td>\n",
              "      <td>0</td>\n",
              "      <td>0</td>\n",
              "      <td>0</td>\n",
              "      <td>0</td>\n",
              "      <td>0</td>\n",
              "      <td>0</td>\n",
              "      <td>0</td>\n",
              "      <td>0</td>\n",
              "      <td>0</td>\n",
              "      <td>0</td>\n",
              "      <td>0</td>\n",
              "      <td>0</td>\n",
              "      <td>0</td>\n",
              "      <td>0</td>\n",
              "      <td>0</td>\n",
              "      <td>0</td>\n",
              "      <td>0</td>\n",
              "      <td>...</td>\n",
              "      <td>0</td>\n",
              "      <td>0</td>\n",
              "      <td>0</td>\n",
              "      <td>0</td>\n",
              "      <td>0</td>\n",
              "      <td>1</td>\n",
              "      <td>0</td>\n",
              "      <td>0</td>\n",
              "      <td>0</td>\n",
              "      <td>0</td>\n",
              "      <td>1</td>\n",
              "      <td>0</td>\n",
              "      <td>0</td>\n",
              "      <td>0</td>\n",
              "      <td>0</td>\n",
              "      <td>0</td>\n",
              "      <td>0</td>\n",
              "      <td>0</td>\n",
              "      <td>0</td>\n",
              "      <td>0</td>\n",
              "      <td>0</td>\n",
              "      <td>1</td>\n",
              "      <td>0</td>\n",
              "      <td>0</td>\n",
              "      <td>0</td>\n",
              "      <td>0</td>\n",
              "      <td>0</td>\n",
              "      <td>0</td>\n",
              "      <td>1</td>\n",
              "      <td>0</td>\n",
              "      <td>0</td>\n",
              "      <td>0</td>\n",
              "      <td>0</td>\n",
              "      <td>0</td>\n",
              "      <td>0</td>\n",
              "      <td>0</td>\n",
              "      <td>0</td>\n",
              "      <td>0</td>\n",
              "      <td>0</td>\n",
              "      <td>1</td>\n",
              "    </tr>\n",
              "    <tr>\n",
              "      <th>3</th>\n",
              "      <td>12448473</td>\n",
              "      <td>1275.0</td>\n",
              "      <td>33878735</td>\n",
              "      <td>-118171388</td>\n",
              "      <td>58881.0</td>\n",
              "      <td>1991.0</td>\n",
              "      <td>0</td>\n",
              "      <td>0</td>\n",
              "      <td>0</td>\n",
              "      <td>0</td>\n",
              "      <td>1</td>\n",
              "      <td>0</td>\n",
              "      <td>0</td>\n",
              "      <td>0</td>\n",
              "      <td>0</td>\n",
              "      <td>0</td>\n",
              "      <td>0</td>\n",
              "      <td>0</td>\n",
              "      <td>0</td>\n",
              "      <td>0</td>\n",
              "      <td>0</td>\n",
              "      <td>1</td>\n",
              "      <td>0</td>\n",
              "      <td>0</td>\n",
              "      <td>0</td>\n",
              "      <td>0</td>\n",
              "      <td>0</td>\n",
              "      <td>0</td>\n",
              "      <td>0</td>\n",
              "      <td>0</td>\n",
              "      <td>0</td>\n",
              "      <td>0</td>\n",
              "      <td>0</td>\n",
              "      <td>0</td>\n",
              "      <td>0</td>\n",
              "      <td>0</td>\n",
              "      <td>0</td>\n",
              "      <td>0</td>\n",
              "      <td>0</td>\n",
              "      <td>0</td>\n",
              "      <td>...</td>\n",
              "      <td>0</td>\n",
              "      <td>0</td>\n",
              "      <td>0</td>\n",
              "      <td>0</td>\n",
              "      <td>0</td>\n",
              "      <td>0</td>\n",
              "      <td>0</td>\n",
              "      <td>0</td>\n",
              "      <td>0</td>\n",
              "      <td>0</td>\n",
              "      <td>0</td>\n",
              "      <td>0</td>\n",
              "      <td>1</td>\n",
              "      <td>0</td>\n",
              "      <td>0</td>\n",
              "      <td>0</td>\n",
              "      <td>0</td>\n",
              "      <td>0</td>\n",
              "      <td>0</td>\n",
              "      <td>0</td>\n",
              "      <td>0</td>\n",
              "      <td>1</td>\n",
              "      <td>0</td>\n",
              "      <td>0</td>\n",
              "      <td>0</td>\n",
              "      <td>0</td>\n",
              "      <td>0</td>\n",
              "      <td>0</td>\n",
              "      <td>0</td>\n",
              "      <td>1</td>\n",
              "      <td>0</td>\n",
              "      <td>0</td>\n",
              "      <td>0</td>\n",
              "      <td>0</td>\n",
              "      <td>0</td>\n",
              "      <td>0</td>\n",
              "      <td>0</td>\n",
              "      <td>0</td>\n",
              "      <td>0</td>\n",
              "      <td>0</td>\n",
              "    </tr>\n",
              "    <tr>\n",
              "      <th>4</th>\n",
              "      <td>12559155</td>\n",
              "      <td>600.0</td>\n",
              "      <td>33766300</td>\n",
              "      <td>-118188000</td>\n",
              "      <td>47343.0</td>\n",
              "      <td>2004.0</td>\n",
              "      <td>0</td>\n",
              "      <td>0</td>\n",
              "      <td>0</td>\n",
              "      <td>0</td>\n",
              "      <td>1</td>\n",
              "      <td>0</td>\n",
              "      <td>0</td>\n",
              "      <td>0</td>\n",
              "      <td>0</td>\n",
              "      <td>0</td>\n",
              "      <td>0</td>\n",
              "      <td>0</td>\n",
              "      <td>0</td>\n",
              "      <td>0</td>\n",
              "      <td>0</td>\n",
              "      <td>1</td>\n",
              "      <td>0</td>\n",
              "      <td>0</td>\n",
              "      <td>0</td>\n",
              "      <td>0</td>\n",
              "      <td>0</td>\n",
              "      <td>0</td>\n",
              "      <td>0</td>\n",
              "      <td>0</td>\n",
              "      <td>0</td>\n",
              "      <td>0</td>\n",
              "      <td>0</td>\n",
              "      <td>0</td>\n",
              "      <td>0</td>\n",
              "      <td>0</td>\n",
              "      <td>0</td>\n",
              "      <td>0</td>\n",
              "      <td>0</td>\n",
              "      <td>0</td>\n",
              "      <td>...</td>\n",
              "      <td>0</td>\n",
              "      <td>0</td>\n",
              "      <td>0</td>\n",
              "      <td>0</td>\n",
              "      <td>0</td>\n",
              "      <td>0</td>\n",
              "      <td>0</td>\n",
              "      <td>0</td>\n",
              "      <td>0</td>\n",
              "      <td>0</td>\n",
              "      <td>0</td>\n",
              "      <td>0</td>\n",
              "      <td>0</td>\n",
              "      <td>0</td>\n",
              "      <td>0</td>\n",
              "      <td>0</td>\n",
              "      <td>0</td>\n",
              "      <td>0</td>\n",
              "      <td>0</td>\n",
              "      <td>1</td>\n",
              "      <td>0</td>\n",
              "      <td>0</td>\n",
              "      <td>0</td>\n",
              "      <td>0</td>\n",
              "      <td>0</td>\n",
              "      <td>0</td>\n",
              "      <td>0</td>\n",
              "      <td>0</td>\n",
              "      <td>0</td>\n",
              "      <td>0</td>\n",
              "      <td>0</td>\n",
              "      <td>0</td>\n",
              "      <td>0</td>\n",
              "      <td>0</td>\n",
              "      <td>0</td>\n",
              "      <td>0</td>\n",
              "      <td>0</td>\n",
              "      <td>0</td>\n",
              "      <td>0</td>\n",
              "      <td>0</td>\n",
              "    </tr>\n",
              "  </tbody>\n",
              "</table>\n",
              "<p>5 rows × 482 columns</p>\n",
              "</div>"
            ],
            "text/plain": [
              "      lotid  finishedarea  latitude  ...  roomnum_6  roomnum_7  taxyear_2016\n",
              "0  11614222        1618.0  34048500  ...          0          0             0\n",
              "1  11555888        1817.0  34023816  ...          0          0             0\n",
              "2  13052987        1549.0  34125379  ...          0          0             1\n",
              "3  12448473        1275.0  33878735  ...          0          0             0\n",
              "4  12559155         600.0  33766300  ...          0          0             0\n",
              "\n",
              "[5 rows x 482 columns]"
            ]
          },
          "metadata": {},
          "execution_count": 263
        }
      ]
    },
    {
      "cell_type": "code",
      "metadata": {
        "colab": {
          "base_uri": "https://localhost:8080/"
        },
        "id": "TPZIIqb4QS7A",
        "outputId": "cb952d2f-a21b-4564-c144-e805de11175d"
      },
      "source": [
        "# Ensure that columns in training and test set are the same by creating the missing columns\n",
        "# and setting them equal to a vector of zeros\n",
        "missing_cols = set(train_dummies.columns) - set(test_dummies.columns)\n",
        "\n",
        "# Add a missing column in test set with default value equal to 0\n",
        "for c in missing_cols:\n",
        "  test_dummies[c] = 0\n",
        "\n",
        "# Ensure the order of column in the test set is in the same order than in train set\n",
        "test_dummies = test_dummies[train_dummies.columns]\n",
        "test_dummies = test_dummies.drop(columns=['parcelvalue'])\n",
        "\n",
        "test_dummies.info()"
      ],
      "execution_count": 264,
      "outputs": [
        {
          "output_type": "stream",
          "name": "stdout",
          "text": [
            "<class 'pandas.core.frame.DataFrame'>\n",
            "RangeIndex: 2746 entries, 0 to 2745\n",
            "Columns: 827 entries, lotid to taxyear_2016\n",
            "dtypes: float64(3), int64(519), uint8(305)\n",
            "memory usage: 11.7 MB\n"
          ]
        }
      ]
    },
    {
      "cell_type": "code",
      "metadata": {
        "colab": {
          "base_uri": "https://localhost:8080/",
          "height": 253
        },
        "id": "GXsskGB1M8HV",
        "outputId": "7d0c99e1-5ca8-4981-fd73-c33a041b1b88"
      },
      "source": [
        "test_dummies.head()"
      ],
      "execution_count": 265,
      "outputs": [
        {
          "output_type": "execute_result",
          "data": {
            "text/html": [
              "<div>\n",
              "<style scoped>\n",
              "    .dataframe tbody tr th:only-of-type {\n",
              "        vertical-align: middle;\n",
              "    }\n",
              "\n",
              "    .dataframe tbody tr th {\n",
              "        vertical-align: top;\n",
              "    }\n",
              "\n",
              "    .dataframe thead th {\n",
              "        text-align: right;\n",
              "    }\n",
              "</style>\n",
              "<table border=\"1\" class=\"dataframe\">\n",
              "  <thead>\n",
              "    <tr style=\"text-align: right;\">\n",
              "      <th></th>\n",
              "      <th>lotid</th>\n",
              "      <th>finishedarea</th>\n",
              "      <th>latitude</th>\n",
              "      <th>longitude</th>\n",
              "      <th>lotarea</th>\n",
              "      <th>year</th>\n",
              "      <th>countycode_6059</th>\n",
              "      <th>countycode_6111</th>\n",
              "      <th>heatingtype_13.0</th>\n",
              "      <th>heatingtype_14.0</th>\n",
              "      <th>heatingtype_18.0</th>\n",
              "      <th>heatingtype_2.0</th>\n",
              "      <th>heatingtype_20.0</th>\n",
              "      <th>heatingtype_24.0</th>\n",
              "      <th>heatingtype_6.0</th>\n",
              "      <th>heatingtype_7.0</th>\n",
              "      <th>countycode2_2061</th>\n",
              "      <th>countycode2_3101</th>\n",
              "      <th>citycode_10608.0</th>\n",
              "      <th>citycode_10723.0</th>\n",
              "      <th>citycode_116042.0</th>\n",
              "      <th>citycode_118878.0</th>\n",
              "      <th>citycode_118994.0</th>\n",
              "      <th>citycode_12292.0</th>\n",
              "      <th>citycode_12447.0</th>\n",
              "      <th>citycode_12520.0</th>\n",
              "      <th>citycode_13150.0</th>\n",
              "      <th>citycode_16764.0</th>\n",
              "      <th>citycode_21412.0</th>\n",
              "      <th>citycode_24174.0</th>\n",
              "      <th>citycode_24812.0</th>\n",
              "      <th>citycode_24832.0</th>\n",
              "      <th>citycode_26531.0</th>\n",
              "      <th>citycode_26964.0</th>\n",
              "      <th>citycode_27183.0</th>\n",
              "      <th>citycode_30187.0</th>\n",
              "      <th>citycode_30908.0</th>\n",
              "      <th>citycode_33252.0</th>\n",
              "      <th>citycode_33311.0</th>\n",
              "      <th>citycode_33612.0</th>\n",
              "      <th>...</th>\n",
              "      <th>numbedroom_2</th>\n",
              "      <th>numbedroom_3</th>\n",
              "      <th>numbedroom_4</th>\n",
              "      <th>numbedroom_5</th>\n",
              "      <th>numbedroom_6</th>\n",
              "      <th>numbedroom_7</th>\n",
              "      <th>numbedroom_8</th>\n",
              "      <th>numbedroom_9</th>\n",
              "      <th>numbedroom_10</th>\n",
              "      <th>numfireplace_1</th>\n",
              "      <th>numfireplace_2</th>\n",
              "      <th>numfireplace_3</th>\n",
              "      <th>numfireplace_4</th>\n",
              "      <th>numfireplace_5</th>\n",
              "      <th>numfullbath_2.0</th>\n",
              "      <th>numfullbath_3.0</th>\n",
              "      <th>numfullbath_4.0</th>\n",
              "      <th>numfullbath_5.0</th>\n",
              "      <th>numfullbath_6.0</th>\n",
              "      <th>numfullbath_7.0</th>\n",
              "      <th>numfullbath_8.0</th>\n",
              "      <th>numfullbath_9.0</th>\n",
              "      <th>numfullbath_10.0</th>\n",
              "      <th>numfullbath_11.0</th>\n",
              "      <th>numfullbath_13.0</th>\n",
              "      <th>numfullbath_19.0</th>\n",
              "      <th>roomnum_2</th>\n",
              "      <th>roomnum_3</th>\n",
              "      <th>roomnum_4</th>\n",
              "      <th>roomnum_5</th>\n",
              "      <th>roomnum_6</th>\n",
              "      <th>roomnum_7</th>\n",
              "      <th>roomnum_8</th>\n",
              "      <th>roomnum_9</th>\n",
              "      <th>roomnum_10</th>\n",
              "      <th>roomnum_11</th>\n",
              "      <th>roomnum_12</th>\n",
              "      <th>roomnum_13</th>\n",
              "      <th>roomnum_14</th>\n",
              "      <th>taxyear_2016</th>\n",
              "    </tr>\n",
              "  </thead>\n",
              "  <tbody>\n",
              "    <tr>\n",
              "      <th>0</th>\n",
              "      <td>11614222</td>\n",
              "      <td>1618.0</td>\n",
              "      <td>34048500</td>\n",
              "      <td>-118438000</td>\n",
              "      <td>19423.0</td>\n",
              "      <td>1975.0</td>\n",
              "      <td>0</td>\n",
              "      <td>0</td>\n",
              "      <td>0</td>\n",
              "      <td>0</td>\n",
              "      <td>0</td>\n",
              "      <td>0</td>\n",
              "      <td>0</td>\n",
              "      <td>0</td>\n",
              "      <td>0</td>\n",
              "      <td>0</td>\n",
              "      <td>0</td>\n",
              "      <td>1</td>\n",
              "      <td>0</td>\n",
              "      <td>0</td>\n",
              "      <td>0</td>\n",
              "      <td>0</td>\n",
              "      <td>0</td>\n",
              "      <td>0</td>\n",
              "      <td>1</td>\n",
              "      <td>0</td>\n",
              "      <td>0</td>\n",
              "      <td>0</td>\n",
              "      <td>0</td>\n",
              "      <td>0</td>\n",
              "      <td>0</td>\n",
              "      <td>0</td>\n",
              "      <td>0</td>\n",
              "      <td>0</td>\n",
              "      <td>0</td>\n",
              "      <td>0</td>\n",
              "      <td>0</td>\n",
              "      <td>0</td>\n",
              "      <td>0</td>\n",
              "      <td>0</td>\n",
              "      <td>...</td>\n",
              "      <td>0</td>\n",
              "      <td>1</td>\n",
              "      <td>0</td>\n",
              "      <td>0</td>\n",
              "      <td>0</td>\n",
              "      <td>0</td>\n",
              "      <td>0</td>\n",
              "      <td>0</td>\n",
              "      <td>0</td>\n",
              "      <td>0</td>\n",
              "      <td>0</td>\n",
              "      <td>0</td>\n",
              "      <td>0</td>\n",
              "      <td>0</td>\n",
              "      <td>0</td>\n",
              "      <td>1</td>\n",
              "      <td>0</td>\n",
              "      <td>0</td>\n",
              "      <td>0</td>\n",
              "      <td>0</td>\n",
              "      <td>0</td>\n",
              "      <td>0</td>\n",
              "      <td>0</td>\n",
              "      <td>0</td>\n",
              "      <td>0</td>\n",
              "      <td>0</td>\n",
              "      <td>0</td>\n",
              "      <td>0</td>\n",
              "      <td>0</td>\n",
              "      <td>0</td>\n",
              "      <td>0</td>\n",
              "      <td>0</td>\n",
              "      <td>0</td>\n",
              "      <td>0</td>\n",
              "      <td>0</td>\n",
              "      <td>0</td>\n",
              "      <td>0</td>\n",
              "      <td>0</td>\n",
              "      <td>0</td>\n",
              "      <td>0</td>\n",
              "    </tr>\n",
              "    <tr>\n",
              "      <th>1</th>\n",
              "      <td>11555888</td>\n",
              "      <td>1817.0</td>\n",
              "      <td>34023816</td>\n",
              "      <td>-118429617</td>\n",
              "      <td>7625.0</td>\n",
              "      <td>1948.0</td>\n",
              "      <td>0</td>\n",
              "      <td>0</td>\n",
              "      <td>0</td>\n",
              "      <td>0</td>\n",
              "      <td>0</td>\n",
              "      <td>0</td>\n",
              "      <td>0</td>\n",
              "      <td>0</td>\n",
              "      <td>0</td>\n",
              "      <td>0</td>\n",
              "      <td>0</td>\n",
              "      <td>1</td>\n",
              "      <td>0</td>\n",
              "      <td>0</td>\n",
              "      <td>0</td>\n",
              "      <td>0</td>\n",
              "      <td>0</td>\n",
              "      <td>0</td>\n",
              "      <td>1</td>\n",
              "      <td>0</td>\n",
              "      <td>0</td>\n",
              "      <td>0</td>\n",
              "      <td>0</td>\n",
              "      <td>0</td>\n",
              "      <td>0</td>\n",
              "      <td>0</td>\n",
              "      <td>0</td>\n",
              "      <td>0</td>\n",
              "      <td>0</td>\n",
              "      <td>0</td>\n",
              "      <td>0</td>\n",
              "      <td>0</td>\n",
              "      <td>0</td>\n",
              "      <td>0</td>\n",
              "      <td>...</td>\n",
              "      <td>0</td>\n",
              "      <td>1</td>\n",
              "      <td>0</td>\n",
              "      <td>0</td>\n",
              "      <td>0</td>\n",
              "      <td>0</td>\n",
              "      <td>0</td>\n",
              "      <td>0</td>\n",
              "      <td>0</td>\n",
              "      <td>0</td>\n",
              "      <td>0</td>\n",
              "      <td>0</td>\n",
              "      <td>0</td>\n",
              "      <td>0</td>\n",
              "      <td>1</td>\n",
              "      <td>0</td>\n",
              "      <td>0</td>\n",
              "      <td>0</td>\n",
              "      <td>0</td>\n",
              "      <td>0</td>\n",
              "      <td>0</td>\n",
              "      <td>0</td>\n",
              "      <td>0</td>\n",
              "      <td>0</td>\n",
              "      <td>0</td>\n",
              "      <td>0</td>\n",
              "      <td>0</td>\n",
              "      <td>0</td>\n",
              "      <td>0</td>\n",
              "      <td>0</td>\n",
              "      <td>0</td>\n",
              "      <td>0</td>\n",
              "      <td>0</td>\n",
              "      <td>0</td>\n",
              "      <td>0</td>\n",
              "      <td>0</td>\n",
              "      <td>0</td>\n",
              "      <td>0</td>\n",
              "      <td>0</td>\n",
              "      <td>0</td>\n",
              "    </tr>\n",
              "    <tr>\n",
              "      <th>2</th>\n",
              "      <td>13052987</td>\n",
              "      <td>1549.0</td>\n",
              "      <td>34125379</td>\n",
              "      <td>-117707983</td>\n",
              "      <td>11080.0</td>\n",
              "      <td>1978.0</td>\n",
              "      <td>0</td>\n",
              "      <td>0</td>\n",
              "      <td>0</td>\n",
              "      <td>0</td>\n",
              "      <td>0</td>\n",
              "      <td>0</td>\n",
              "      <td>0</td>\n",
              "      <td>0</td>\n",
              "      <td>0</td>\n",
              "      <td>0</td>\n",
              "      <td>0</td>\n",
              "      <td>1</td>\n",
              "      <td>0</td>\n",
              "      <td>0</td>\n",
              "      <td>0</td>\n",
              "      <td>0</td>\n",
              "      <td>0</td>\n",
              "      <td>0</td>\n",
              "      <td>0</td>\n",
              "      <td>0</td>\n",
              "      <td>0</td>\n",
              "      <td>0</td>\n",
              "      <td>0</td>\n",
              "      <td>0</td>\n",
              "      <td>0</td>\n",
              "      <td>0</td>\n",
              "      <td>0</td>\n",
              "      <td>0</td>\n",
              "      <td>0</td>\n",
              "      <td>0</td>\n",
              "      <td>1</td>\n",
              "      <td>0</td>\n",
              "      <td>0</td>\n",
              "      <td>0</td>\n",
              "      <td>...</td>\n",
              "      <td>0</td>\n",
              "      <td>1</td>\n",
              "      <td>0</td>\n",
              "      <td>0</td>\n",
              "      <td>0</td>\n",
              "      <td>0</td>\n",
              "      <td>0</td>\n",
              "      <td>0</td>\n",
              "      <td>0</td>\n",
              "      <td>0</td>\n",
              "      <td>0</td>\n",
              "      <td>0</td>\n",
              "      <td>0</td>\n",
              "      <td>0</td>\n",
              "      <td>1</td>\n",
              "      <td>0</td>\n",
              "      <td>0</td>\n",
              "      <td>0</td>\n",
              "      <td>0</td>\n",
              "      <td>0</td>\n",
              "      <td>0</td>\n",
              "      <td>0</td>\n",
              "      <td>0</td>\n",
              "      <td>0</td>\n",
              "      <td>0</td>\n",
              "      <td>0</td>\n",
              "      <td>0</td>\n",
              "      <td>0</td>\n",
              "      <td>0</td>\n",
              "      <td>0</td>\n",
              "      <td>0</td>\n",
              "      <td>0</td>\n",
              "      <td>0</td>\n",
              "      <td>0</td>\n",
              "      <td>0</td>\n",
              "      <td>0</td>\n",
              "      <td>0</td>\n",
              "      <td>0</td>\n",
              "      <td>0</td>\n",
              "      <td>1</td>\n",
              "    </tr>\n",
              "    <tr>\n",
              "      <th>3</th>\n",
              "      <td>12448473</td>\n",
              "      <td>1275.0</td>\n",
              "      <td>33878735</td>\n",
              "      <td>-118171388</td>\n",
              "      <td>58881.0</td>\n",
              "      <td>1991.0</td>\n",
              "      <td>0</td>\n",
              "      <td>0</td>\n",
              "      <td>0</td>\n",
              "      <td>0</td>\n",
              "      <td>0</td>\n",
              "      <td>0</td>\n",
              "      <td>0</td>\n",
              "      <td>0</td>\n",
              "      <td>0</td>\n",
              "      <td>0</td>\n",
              "      <td>0</td>\n",
              "      <td>1</td>\n",
              "      <td>0</td>\n",
              "      <td>0</td>\n",
              "      <td>0</td>\n",
              "      <td>0</td>\n",
              "      <td>0</td>\n",
              "      <td>0</td>\n",
              "      <td>0</td>\n",
              "      <td>0</td>\n",
              "      <td>0</td>\n",
              "      <td>0</td>\n",
              "      <td>0</td>\n",
              "      <td>0</td>\n",
              "      <td>0</td>\n",
              "      <td>0</td>\n",
              "      <td>0</td>\n",
              "      <td>0</td>\n",
              "      <td>0</td>\n",
              "      <td>0</td>\n",
              "      <td>0</td>\n",
              "      <td>0</td>\n",
              "      <td>0</td>\n",
              "      <td>0</td>\n",
              "      <td>...</td>\n",
              "      <td>0</td>\n",
              "      <td>1</td>\n",
              "      <td>0</td>\n",
              "      <td>0</td>\n",
              "      <td>0</td>\n",
              "      <td>0</td>\n",
              "      <td>0</td>\n",
              "      <td>0</td>\n",
              "      <td>0</td>\n",
              "      <td>0</td>\n",
              "      <td>0</td>\n",
              "      <td>0</td>\n",
              "      <td>0</td>\n",
              "      <td>0</td>\n",
              "      <td>0</td>\n",
              "      <td>1</td>\n",
              "      <td>0</td>\n",
              "      <td>0</td>\n",
              "      <td>0</td>\n",
              "      <td>0</td>\n",
              "      <td>0</td>\n",
              "      <td>0</td>\n",
              "      <td>0</td>\n",
              "      <td>0</td>\n",
              "      <td>0</td>\n",
              "      <td>0</td>\n",
              "      <td>0</td>\n",
              "      <td>0</td>\n",
              "      <td>0</td>\n",
              "      <td>0</td>\n",
              "      <td>0</td>\n",
              "      <td>0</td>\n",
              "      <td>0</td>\n",
              "      <td>0</td>\n",
              "      <td>0</td>\n",
              "      <td>0</td>\n",
              "      <td>0</td>\n",
              "      <td>0</td>\n",
              "      <td>0</td>\n",
              "      <td>0</td>\n",
              "    </tr>\n",
              "    <tr>\n",
              "      <th>4</th>\n",
              "      <td>12559155</td>\n",
              "      <td>600.0</td>\n",
              "      <td>33766300</td>\n",
              "      <td>-118188000</td>\n",
              "      <td>47343.0</td>\n",
              "      <td>2004.0</td>\n",
              "      <td>0</td>\n",
              "      <td>0</td>\n",
              "      <td>0</td>\n",
              "      <td>0</td>\n",
              "      <td>0</td>\n",
              "      <td>0</td>\n",
              "      <td>0</td>\n",
              "      <td>0</td>\n",
              "      <td>0</td>\n",
              "      <td>0</td>\n",
              "      <td>0</td>\n",
              "      <td>1</td>\n",
              "      <td>0</td>\n",
              "      <td>0</td>\n",
              "      <td>0</td>\n",
              "      <td>0</td>\n",
              "      <td>0</td>\n",
              "      <td>0</td>\n",
              "      <td>0</td>\n",
              "      <td>0</td>\n",
              "      <td>0</td>\n",
              "      <td>0</td>\n",
              "      <td>0</td>\n",
              "      <td>0</td>\n",
              "      <td>0</td>\n",
              "      <td>0</td>\n",
              "      <td>0</td>\n",
              "      <td>0</td>\n",
              "      <td>0</td>\n",
              "      <td>0</td>\n",
              "      <td>0</td>\n",
              "      <td>0</td>\n",
              "      <td>0</td>\n",
              "      <td>0</td>\n",
              "      <td>...</td>\n",
              "      <td>0</td>\n",
              "      <td>0</td>\n",
              "      <td>0</td>\n",
              "      <td>0</td>\n",
              "      <td>0</td>\n",
              "      <td>0</td>\n",
              "      <td>0</td>\n",
              "      <td>0</td>\n",
              "      <td>0</td>\n",
              "      <td>0</td>\n",
              "      <td>0</td>\n",
              "      <td>0</td>\n",
              "      <td>0</td>\n",
              "      <td>0</td>\n",
              "      <td>0</td>\n",
              "      <td>0</td>\n",
              "      <td>0</td>\n",
              "      <td>0</td>\n",
              "      <td>0</td>\n",
              "      <td>0</td>\n",
              "      <td>0</td>\n",
              "      <td>0</td>\n",
              "      <td>0</td>\n",
              "      <td>0</td>\n",
              "      <td>0</td>\n",
              "      <td>0</td>\n",
              "      <td>0</td>\n",
              "      <td>0</td>\n",
              "      <td>0</td>\n",
              "      <td>0</td>\n",
              "      <td>0</td>\n",
              "      <td>0</td>\n",
              "      <td>0</td>\n",
              "      <td>0</td>\n",
              "      <td>0</td>\n",
              "      <td>0</td>\n",
              "      <td>0</td>\n",
              "      <td>0</td>\n",
              "      <td>0</td>\n",
              "      <td>0</td>\n",
              "    </tr>\n",
              "  </tbody>\n",
              "</table>\n",
              "<p>5 rows × 827 columns</p>\n",
              "</div>"
            ],
            "text/plain": [
              "      lotid  finishedarea  latitude  ...  roomnum_13  roomnum_14  taxyear_2016\n",
              "0  11614222        1618.0  34048500  ...           0           0             0\n",
              "1  11555888        1817.0  34023816  ...           0           0             0\n",
              "2  13052987        1549.0  34125379  ...           0           0             1\n",
              "3  12448473        1275.0  33878735  ...           0           0             0\n",
              "4  12559155         600.0  33766300  ...           0           0             0\n",
              "\n",
              "[5 rows x 827 columns]"
            ]
          },
          "metadata": {},
          "execution_count": 265
        }
      ]
    },
    {
      "cell_type": "code",
      "metadata": {
        "id": "q6Iu0oBnhqlG"
      },
      "source": [
        "test_new = test_dummies.copy()"
      ],
      "execution_count": 266,
      "outputs": []
    },
    {
      "cell_type": "code",
      "metadata": {
        "colab": {
          "base_uri": "https://localhost:8080/"
        },
        "id": "qk2N2dQwjjOW",
        "outputId": "aac46276-27ee-4afe-8571-5a13130a2ff3"
      },
      "source": [
        "# Add logarithmic and polynomial transformations to test data\n",
        "test_new['latitude2'] = test_new['latitude']**2\n",
        "test_new['longitude2'] = test_new['longitude']**2\n",
        "#test_new['loglotarea'] = np.log(test_new['lotarea'])\n",
        "test_new['sqrtlotarea'] = np.log(test_new['lotarea'])\n",
        "#test_new['logfinishedarea'] = np.log(test_new['finishedarea'])\n",
        "#test_new['sqrtfinishedarea'] = np.log(test_new['finishedarea'])\n",
        "\n",
        "test_new = test_new.drop(columns=['lotarea'])\n",
        "#test_new = test_new.drop(columns=['lotarea', 'finishedarea'])\n",
        "\n",
        "test_new.head()\n",
        "test_new.shape"
      ],
      "execution_count": 267,
      "outputs": [
        {
          "output_type": "execute_result",
          "data": {
            "text/plain": [
              "(2746, 829)"
            ]
          },
          "metadata": {},
          "execution_count": 267
        }
      ]
    },
    {
      "cell_type": "code",
      "metadata": {
        "id": "i37Ie54awfn-"
      },
      "source": [
        "# Format data\n",
        "X3_test = test_new\n",
        "X3_test = np.array(X3_test).reshape(2746, 829)\n",
        "\n",
        "# Rescale X_test\n",
        "X3_test = scaler.transform(X3_test)"
      ],
      "execution_count": 268,
      "outputs": []
    },
    {
      "cell_type": "code",
      "metadata": {
        "id": "NAlPQsrwwfn-"
      },
      "source": [
        "# Check performance of model on test set\n",
        "#y3_hat_test = regr_lasso.predict(X3_test) ## aic performs better on test set\n",
        "y3_hat_test = regr_aic.predict(X3_test)\n",
        "\n",
        "#y3_hat_test = np.exp(y3_hat_test)\n",
        "y3_hat_test = np.square(y3_hat_test)"
      ],
      "execution_count": 269,
      "outputs": []
    },
    {
      "cell_type": "markdown",
      "metadata": {
        "id": "3vru7JY7wfn-"
      },
      "source": [
        "### Kaggle Predictions Submissions\n",
        "\n",
        "Once you have produced testset predictions you can submit these to <i> kaggle </i> in order to see how your model performs. \n",
        "\n",
        "The following code provides an example of generating a <i> .csv </i> file to submit to kaggle\n",
        "1) create a pandas dataframe with two columns, one with the test set \"lotid\"'s and the other with your predicted \"parcelvalue\" for that observation\n",
        "\n",
        "2) use the <i> .to_csv </i> pandas method to create a csv file. The <i> index = False </i> is important to ensure the <i> .csv </i> is in the format kaggle expects "
      ]
    },
    {
      "cell_type": "code",
      "metadata": {
        "id": "AmhZY3CWwfn_"
      },
      "source": [
        "# Step 8: Produce .csv for kaggle testing \n",
        "test_predictions_submit = pd.DataFrame({\"lotid\": test_new[\"lotid\"], \"parcelvalue\": y3_hat_test})\n",
        "test_predictions_submit.to_csv(\"test_predictions_submit.csv\", index = False)"
      ],
      "execution_count": 270,
      "outputs": []
    }
  ]
}